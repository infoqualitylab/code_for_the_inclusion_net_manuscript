{
 "cells": [
  {
   "cell_type": "code",
   "execution_count": 22,
   "id": "cf7df59b",
   "metadata": {},
   "outputs": [],
   "source": [
    "import pandas as pd\n",
    "import networkx as nx\n",
    "import matplotlib.pyplot as plt\n",
    "import numpy as np\n",
    "import hvplot.networkx as hvnx\n",
    "import bokeh\n",
    "import holoviews as hv\n",
    "from bokeh.core.enums import MarkerType\n",
    "from bokeh.plotting import figure, show"
   ]
  },
  {
   "cell_type": "code",
   "execution_count": 23,
   "id": "2d52ebde",
   "metadata": {},
   "outputs": [],
   "source": [
    "attr_list = pd.read_csv('data/attr_list_salt.csv')\n",
    "edge_list = pd.read_csv('data/edge_list_salt.csv')"
   ]
  },
  {
   "cell_type": "code",
   "execution_count": 24,
   "id": "8f05c2b1",
   "metadata": {},
   "outputs": [],
   "source": [
    "attr_list = attr_list.loc[:,['ID', 'node_type', 'temporal_seq_rank', 'year']]\n",
    "edge_list = edge_list.loc[:,['from', 'to']]"
   ]
  },
  {
   "cell_type": "code",
   "execution_count": 25,
   "id": "d0236850",
   "metadata": {},
   "outputs": [
    {
     "data": {
      "text/html": [
       "<div>\n",
       "<style scoped>\n",
       "    .dataframe tbody tr th:only-of-type {\n",
       "        vertical-align: middle;\n",
       "    }\n",
       "\n",
       "    .dataframe tbody tr th {\n",
       "        vertical-align: top;\n",
       "    }\n",
       "\n",
       "    .dataframe thead th {\n",
       "        text-align: right;\n",
       "    }\n",
       "</style>\n",
       "<table border=\"1\" class=\"dataframe\">\n",
       "  <thead>\n",
       "    <tr style=\"text-align: right;\">\n",
       "      <th></th>\n",
       "      <th>ID</th>\n",
       "      <th>node_type</th>\n",
       "      <th>temporal_seq_rank</th>\n",
       "      <th>year</th>\n",
       "    </tr>\n",
       "  </thead>\n",
       "  <tbody>\n",
       "    <tr>\n",
       "      <th>0</th>\n",
       "      <td>1</td>\n",
       "      <td>Systematic Review Report</td>\n",
       "      <td>21.0</td>\n",
       "      <td>2002</td>\n",
       "    </tr>\n",
       "    <tr>\n",
       "      <th>1</th>\n",
       "      <td>2</td>\n",
       "      <td>Systematic Review Report</td>\n",
       "      <td>21.0</td>\n",
       "      <td>2003</td>\n",
       "    </tr>\n",
       "    <tr>\n",
       "      <th>2</th>\n",
       "      <td>3</td>\n",
       "      <td>Systematic Review Report</td>\n",
       "      <td>21.0</td>\n",
       "      <td>2004</td>\n",
       "    </tr>\n",
       "    <tr>\n",
       "      <th>3</th>\n",
       "      <td>4</td>\n",
       "      <td>Systematic Review Report</td>\n",
       "      <td>41.0</td>\n",
       "      <td>2009</td>\n",
       "    </tr>\n",
       "    <tr>\n",
       "      <th>4</th>\n",
       "      <td>5</td>\n",
       "      <td>Systematic Review Report</td>\n",
       "      <td>51.0</td>\n",
       "      <td>2011</td>\n",
       "    </tr>\n",
       "  </tbody>\n",
       "</table>\n",
       "</div>"
      ],
      "text/plain": [
       "   ID                 node_type  temporal_seq_rank  year\n",
       "0   1  Systematic Review Report               21.0  2002\n",
       "1   2  Systematic Review Report               21.0  2003\n",
       "2   3  Systematic Review Report               21.0  2004\n",
       "3   4  Systematic Review Report               41.0  2009\n",
       "4   5  Systematic Review Report               51.0  2011"
      ]
     },
     "execution_count": 25,
     "metadata": {},
     "output_type": "execute_result"
    }
   ],
   "source": [
    "attr_list.head(5)"
   ]
  },
  {
   "cell_type": "code",
   "execution_count": 26,
   "id": "da3d5d19",
   "metadata": {},
   "outputs": [],
   "source": [
    "# convert attr_list into a dictionary\n",
    "attr_dict_temp = attr_list.to_dict(orient='records')\n",
    "\n",
    "# shape the dict to fit the input of networx\n",
    "attr_dict = [(x['ID'], x) for x in attr_dict_temp]"
   ]
  },
  {
   "cell_type": "code",
   "execution_count": 27,
   "id": "d7bd6c8a",
   "metadata": {},
   "outputs": [
    {
     "data": {
      "text/html": [
       "<div>\n",
       "<style scoped>\n",
       "    .dataframe tbody tr th:only-of-type {\n",
       "        vertical-align: middle;\n",
       "    }\n",
       "\n",
       "    .dataframe tbody tr th {\n",
       "        vertical-align: top;\n",
       "    }\n",
       "\n",
       "    .dataframe thead th {\n",
       "        text-align: right;\n",
       "    }\n",
       "</style>\n",
       "<table border=\"1\" class=\"dataframe\">\n",
       "  <thead>\n",
       "    <tr style=\"text-align: right;\">\n",
       "      <th></th>\n",
       "      <th>from</th>\n",
       "      <th>to</th>\n",
       "    </tr>\n",
       "  </thead>\n",
       "  <tbody>\n",
       "    <tr>\n",
       "      <th>0</th>\n",
       "      <td>1</td>\n",
       "      <td>26</td>\n",
       "    </tr>\n",
       "    <tr>\n",
       "      <th>1</th>\n",
       "      <td>1</td>\n",
       "      <td>42</td>\n",
       "    </tr>\n",
       "    <tr>\n",
       "      <th>2</th>\n",
       "      <td>1</td>\n",
       "      <td>38</td>\n",
       "    </tr>\n",
       "    <tr>\n",
       "      <th>3</th>\n",
       "      <td>1</td>\n",
       "      <td>32</td>\n",
       "    </tr>\n",
       "    <tr>\n",
       "      <th>4</th>\n",
       "      <td>1</td>\n",
       "      <td>29</td>\n",
       "    </tr>\n",
       "  </tbody>\n",
       "</table>\n",
       "</div>"
      ],
      "text/plain": [
       "   from  to\n",
       "0     1  26\n",
       "1     1  42\n",
       "2     1  38\n",
       "3     1  32\n",
       "4     1  29"
      ]
     },
     "execution_count": 27,
     "metadata": {},
     "output_type": "execute_result"
    }
   ],
   "source": [
    "edge_list.head()"
   ]
  },
  {
   "cell_type": "code",
   "execution_count": 28,
   "id": "a254fd58",
   "metadata": {},
   "outputs": [],
   "source": [
    "# create the color attribute in the network object\n",
    "\n",
    "node_color = []\n",
    "node_shape = []\n",
    "\n",
    "# adding one more item in attr_dict about color of fill and edge\n",
    "for x in attr_dict:\n",
    "    if x[1]['node_type'] == 'Systematic Review Report':\n",
    "        node_color.append('steelblue')\n",
    "        node_shape.append('square')\n",
    "    elif x[1]['node_type'] == 'Primary Study Report':\n",
    "        node_color.append('grey')\n",
    "        node_shape.append('circle')"
   ]
  },
  {
   "cell_type": "code",
   "execution_count": 29,
   "id": "b6375251",
   "metadata": {},
   "outputs": [
    {
     "data": {},
     "metadata": {},
     "output_type": "display_data"
    },
    {
     "data": {
      "application/vnd.holoviews_exec.v0+json": "",
      "text/html": [
       "<div id='1172'>\n",
       "  <div class=\"bk-root\" id=\"28dd1469-ea3f-4289-8942-7b9e33a33286\" data-root-id=\"1172\"></div>\n",
       "</div>\n",
       "<script type=\"application/javascript\">(function(root) {\n",
       "  function embed_document(root) {\n",
       "    var docs_json = {\"30120dba-4853-41f1-a8c2-28c4e4ad7cbf\":{\"defs\":[{\"extends\":null,\"module\":null,\"name\":\"ReactiveHTML1\",\"overrides\":[],\"properties\":[]},{\"extends\":null,\"module\":null,\"name\":\"FlexBox1\",\"overrides\":[],\"properties\":[{\"default\":\"flex-start\",\"kind\":null,\"name\":\"align_content\"},{\"default\":\"flex-start\",\"kind\":null,\"name\":\"align_items\"},{\"default\":\"row\",\"kind\":null,\"name\":\"flex_direction\"},{\"default\":\"wrap\",\"kind\":null,\"name\":\"flex_wrap\"},{\"default\":\"flex-start\",\"kind\":null,\"name\":\"justify_content\"}]},{\"extends\":null,\"module\":null,\"name\":\"GridStack1\",\"overrides\":[],\"properties\":[{\"default\":\"warn\",\"kind\":null,\"name\":\"mode\"},{\"default\":null,\"kind\":null,\"name\":\"ncols\"},{\"default\":null,\"kind\":null,\"name\":\"nrows\"},{\"default\":true,\"kind\":null,\"name\":\"allow_resize\"},{\"default\":true,\"kind\":null,\"name\":\"allow_drag\"},{\"default\":[],\"kind\":null,\"name\":\"state\"}]},{\"extends\":null,\"module\":null,\"name\":\"click1\",\"overrides\":[],\"properties\":[{\"default\":\"\",\"kind\":null,\"name\":\"terminal_output\"},{\"default\":\"\",\"kind\":null,\"name\":\"debug_name\"},{\"default\":0,\"kind\":null,\"name\":\"clears\"}]},{\"extends\":null,\"module\":null,\"name\":\"NotificationAreaBase1\",\"overrides\":[],\"properties\":[{\"default\":\"bottom-right\",\"kind\":null,\"name\":\"position\"},{\"default\":0,\"kind\":null,\"name\":\"_clear\"}]},{\"extends\":null,\"module\":null,\"name\":\"NotificationArea1\",\"overrides\":[],\"properties\":[{\"default\":[],\"kind\":null,\"name\":\"notifications\"},{\"default\":\"bottom-right\",\"kind\":null,\"name\":\"position\"},{\"default\":0,\"kind\":null,\"name\":\"_clear\"},{\"default\":[{\"background\":\"#ffc107\",\"icon\":{\"className\":\"fas fa-exclamation-triangle\",\"color\":\"white\",\"tagName\":\"i\"},\"type\":\"warning\"},{\"background\":\"#007bff\",\"icon\":{\"className\":\"fas fa-info-circle\",\"color\":\"white\",\"tagName\":\"i\"},\"type\":\"info\"}],\"kind\":null,\"name\":\"types\"}]},{\"extends\":null,\"module\":null,\"name\":\"Notification\",\"overrides\":[],\"properties\":[{\"default\":null,\"kind\":null,\"name\":\"background\"},{\"default\":3000,\"kind\":null,\"name\":\"duration\"},{\"default\":null,\"kind\":null,\"name\":\"icon\"},{\"default\":\"\",\"kind\":null,\"name\":\"message\"},{\"default\":null,\"kind\":null,\"name\":\"notification_type\"},{\"default\":false,\"kind\":null,\"name\":\"_destroyed\"}]},{\"extends\":null,\"module\":null,\"name\":\"TemplateActions1\",\"overrides\":[],\"properties\":[{\"default\":0,\"kind\":null,\"name\":\"open_modal\"},{\"default\":0,\"kind\":null,\"name\":\"close_modal\"}]},{\"extends\":null,\"module\":null,\"name\":\"MaterialTemplateActions1\",\"overrides\":[],\"properties\":[{\"default\":0,\"kind\":null,\"name\":\"open_modal\"},{\"default\":0,\"kind\":null,\"name\":\"close_modal\"}]}],\"roots\":{\"references\":[{\"attributes\":{},\"id\":\"1262\",\"type\":\"UnionRenderers\"},{\"attributes\":{\"line_width\":{\"value\":2}},\"id\":\"1223\",\"type\":\"MultiLine\"},{\"attributes\":{\"source\":{\"id\":\"1242\"}},\"id\":\"1249\",\"type\":\"CDSView\"},{\"attributes\":{},\"id\":\"1240\",\"type\":\"NodesAndLinkedEdges\"},{\"attributes\":{},\"id\":\"1267\",\"type\":\"UnionRenderers\"},{\"attributes\":{\"graph_layout\":{\"1\":[0.044746448980075876,0.13052291442203942],\"10\":[0.25613144016831546,-0.17343835468814953],\"11\":[0.07402307632926784,-0.11368554986791733],\"12\":[0.12182179422879763,0.0894195413987075],\"13\":[-0.0026452888694599623,-0.058636908800333586],\"14\":[-0.08021714615732364,-0.09297098275402771],\"2\":[0.06445606297103118,0.13491554022257332],\"26\":[0.06212047464831716,0.07817599139117835],\"27\":[-0.034123760001262646,0.024760831102144786],\"28\":[-0.6635014581435673,0.8586847570125045],\"29\":[0.0670676279878976,0.09014956025882141],\"3\":[0.0835973094443551,0.12945114097036078],\"30\":[-0.19062111026580572,-0.18344202584025007],\"31\":[-0.10203346661809962,-0.07255400572590039],\"32\":[0.048997917572023444,0.07378668812716463],\"33\":[-0.06854889920694299,-0.028384743396962613],\"34\":[-0.7223351109895922,0.6389212870244113],\"35\":[-0.45607157393232717,0.7496617099460468],\"36\":[0.2624251794187283,-0.9777791600566247],\"37\":[0.9900691663602854,0.4301159997401018],\"38\":[0.0676726182023813,0.06714285339023728],\"39\":[-0.05451355240230249,-0.006836837943572714],\"4\":[-0.032462131079763104,-0.03318261065078164],\"40\":[-0.8181435417282465,-0.6794336851214113],\"41\":[-0.13354542516290852,-0.042638781547010556],\"42\":[0.0484700565171679,0.08849014207574532],\"43\":[0.08144976004841947,0.07371620086755723],\"44\":[-0.904800635149842,0.2717616669438691],\"45\":[-0.06478760752787245,-0.05485627117261085],\"46\":[-0.0953280367582985,0.03404670205930619],\"47\":[-0.055871807175304274,-0.04403289847788955],\"48\":[0.3251712939183903,-0.24784385956494562],\"49\":[-0.033608529805653556,-0.07507867430474213],\"5\":[0.1053671204796706,0.04203374519839498],\"50\":[0.34849900141210466,-0.21249727686442585],\"51\":[0.13876055661463904,0.002452369807281066],\"52\":[-0.011644707989535371,-0.04977954630961393],\"53\":[-0.020303550495494364,-0.07398936792498294],\"54\":[0.21812291923074595,0.08734403038062395],\"55\":[0.05806037343665014,-0.0023354796253783183],\"56\":[0.06563854267131508,-0.05003188839113158],\"57\":[-0.9034729100518772,0.4782600978758094],\"58\":[-0.00344185588244324,-0.0854576157062021],\"59\":[0.03101697962532207,-0.04135731474115557],\"6\":[0.11857386747776909,0.05621407219659313],\"60\":[0.171787906373508,-0.05319597341154227],\"61\":[-0.022191413449670103,-0.09007198285934942],\"62\":[-0.19661270041284995,-0.11247839264373145],\"63\":[0.179294464164095,-0.1974531686815502],\"64\":[0.18743340174554698,-0.17670994889237396],\"65\":[0.17301404076834,-0.13642647938709837],\"66\":[0.028473618279020913,-0.14629126187115724],\"67\":[-0.5216424214354615,-0.8870958429759507],\"68\":[0.0934654560715098,-0.12408434150108316],\"69\":[0.06209472182753514,-0.032784056046240725],\"7\":[-0.08984072242061618,-0.12197443336994054],\"70\":[-0.023252035006602355,-0.1914219573673738],\"71\":[0.059859175223004685,-0.15168723832386144],\"72\":[0.6518498263772576,0.8324964912625373],\"73\":[-0.16046368678684075,-0.21304986553600158],\"74\":[0.04949592109877385,-0.06082086546767882],\"75\":[0.19816159738433406,-0.15474598254952993],\"76\":[-0.12174041818967857,-0.0009435769524416082],\"77\":[0.015258247199864131,-0.07738956268721614],\"78\":[0.011672207154544461,-0.16559682812531404],\"79\":[-0.021037734301155415,-0.13988695671358792],\"8\":[0.006263534058546812,-0.0031678634666717324],\"80\":[0.04072846374357561,-0.17002776117588306],\"81\":[0.10258100180279489,-0.08932709481688446],\"82\":[-0.1528152893297782,-0.14801311150991864],\"83\":[0.18928576203132863,0.17896187098610547],\"84\":[0.10084248441420023,-0.2337329358268189],\"85\":[0.8768533509001745,-0.300408892276916],\"86\":[-0.964361990722842,-0.42776206074163087],\"87\":[0.1355792658234792,-0.19811160315949058],\"88\":[-0.9965986009646459,-0.07537659340694554],\"89\":[1.0,-0.4437361083486981],\"9\":[0.013093279833844085,-0.007182077407847883],\"90\":[0.44554259371763527,0.8820402004838963],\"91\":[-0.43795958618576847,0.8769301481289251],\"92\":[-0.15233556815200494,0.9103124398312308],\"93\":[0.8379843650152522,0.42042966387258085]}},\"id\":\"1216\",\"type\":\"StaticLayoutProvider\"},{\"attributes\":{\"end\":1.0991215998200163,\"reset_end\":1.0991215998200163,\"reset_start\":-1.1665883200454101,\"start\":-1.1665883200454101,\"tags\":[[[\"y\",\"y\",null]]]},\"id\":\"1174\",\"type\":\"Range1d\"},{\"attributes\":{\"text\":{\"field\":\"index\"},\"text_align\":{\"value\":\"center\"},\"text_alpha\":{\"value\":0.2},\"text_baseline\":{\"value\":\"middle\"},\"text_color\":{\"value\":\"black\"},\"x\":{\"field\":\"x\"},\"y\":{\"field\":\"y\"}},\"id\":\"1247\",\"type\":\"Text\"},{\"attributes\":{\"angle\":{\"value\":0},\"text\":{\"field\":\"index\"},\"text_align\":{\"value\":\"center\"},\"text_alpha\":{\"value\":1.0},\"text_baseline\":{\"value\":\"middle\"},\"text_color\":{\"value\":\"black\"},\"text_font_style\":{\"value\":\"normal\"},\"text_line_height\":{\"value\":1.2},\"x\":{\"field\":\"x\"},\"x_offset\":{\"value\":0},\"y\":{\"field\":\"y\"},\"y_offset\":{\"value\":0}},\"id\":\"1250\",\"type\":\"Text\"},{\"attributes\":{\"fill_color\":{\"value\":\"limegreen\"},\"hatch_color\":{\"value\":\"#30a2da\"},\"size\":{\"value\":15}},\"id\":\"1219\",\"type\":\"Circle\"},{\"attributes\":{\"axis\":{\"id\":\"1185\"},\"coordinates\":null,\"grid_line_color\":null,\"group\":null,\"ticker\":null},\"id\":\"1188\",\"type\":\"Grid\"},{\"attributes\":{\"axis_label\":\"x\",\"coordinates\":null,\"formatter\":{\"id\":\"1209\"},\"group\":null,\"major_label_policy\":{\"id\":\"1210\"},\"ticker\":{\"id\":\"1186\"},\"visible\":false},\"id\":\"1185\",\"type\":\"LinearAxis\"},{\"attributes\":{\"coordinates\":null,\"group\":null,\"text_color\":\"black\",\"text_font_size\":\"12pt\"},\"id\":\"1177\",\"type\":\"Title\"},{\"attributes\":{\"callback\":null},\"id\":\"1198\",\"type\":\"TapTool\"},{\"attributes\":{\"source\":{\"id\":\"1214\"}},\"id\":\"1222\",\"type\":\"CDSView\"},{\"attributes\":{},\"id\":\"1238\",\"type\":\"NodesAndLinkedEdges\"},{\"attributes\":{},\"id\":\"1268\",\"type\":\"Selection\"},{\"attributes\":{\"text\":{\"field\":\"index\"},\"text_align\":{\"value\":\"center\"},\"text_baseline\":{\"value\":\"middle\"},\"text_color\":{\"value\":\"black\"},\"x\":{\"field\":\"x\"},\"y\":{\"field\":\"y\"}},\"id\":\"1245\",\"type\":\"Text\"},{\"attributes\":{},\"id\":\"1243\",\"type\":\"Selection\"},{\"attributes\":{\"end\":1.1497448950723486,\"reset_end\":1.1497448950723486,\"reset_start\":-1.1463434960369945,\"start\":-1.1463434960369945,\"tags\":[[[\"x\",\"x\",null]]]},\"id\":\"1173\",\"type\":\"Range1d\"},{\"attributes\":{},\"id\":\"1186\",\"type\":\"BasicTicker\"},{\"attributes\":{\"source\":{\"id\":\"1215\"}},\"id\":\"1228\",\"type\":\"CDSView\"},{\"attributes\":{\"fill_alpha\":{\"value\":0.2},\"fill_color\":{\"field\":\"node_fill_color\"},\"hatch_alpha\":{\"value\":0.2},\"hatch_color\":{\"value\":\"#30a2da\"},\"line_alpha\":{\"value\":0.2},\"size\":{\"value\":15}},\"id\":\"1220\",\"type\":\"Circle\"},{\"attributes\":{\"below\":[{\"id\":\"1185\"}],\"center\":[{\"id\":\"1188\"},{\"id\":\"1192\"}],\"left\":[{\"id\":\"1189\"}],\"margin\":[5,5,5,5],\"min_border_bottom\":10,\"min_border_left\":10,\"min_border_right\":10,\"min_border_top\":10,\"outline_line_alpha\":0,\"renderers\":[{\"id\":\"1229\"},{\"id\":\"1248\"}],\"sizing_mode\":\"fixed\",\"title\":{\"id\":\"1177\"},\"toolbar\":{\"id\":\"1200\"},\"width\":800,\"x_range\":{\"id\":\"1173\"},\"x_scale\":{\"id\":\"1181\"},\"y_range\":{\"id\":\"1174\"},\"y_scale\":{\"id\":\"1183\"}},\"id\":\"1176\",\"subtype\":\"Figure\",\"type\":\"Plot\"},{\"attributes\":{\"line_alpha\":{\"value\":0.2},\"line_width\":{\"value\":2}},\"id\":\"1224\",\"type\":\"MultiLine\"},{\"attributes\":{\"text\":{\"field\":\"index\"},\"text_align\":{\"value\":\"center\"},\"text_alpha\":{\"value\":0.1},\"text_baseline\":{\"value\":\"middle\"},\"text_color\":{\"value\":\"black\"},\"x\":{\"field\":\"x\"},\"y\":{\"field\":\"y\"}},\"id\":\"1246\",\"type\":\"Text\"},{\"attributes\":{},\"id\":\"1210\",\"type\":\"AllLabels\"},{\"attributes\":{\"data\":{\"index\":[\"1\",\"2\",\"3\",\"4\",\"5\",\"6\",\"7\",\"8\",\"9\",\"10\",\"11\",\"12\",\"13\",\"14\",\"26\",\"27\",\"28\",\"29\",\"30\",\"31\",\"32\",\"33\",\"34\",\"35\",\"36\",\"37\",\"38\",\"39\",\"40\",\"41\",\"42\",\"43\",\"44\",\"45\",\"46\",\"47\",\"48\",\"49\",\"50\",\"51\",\"52\",\"53\",\"54\",\"55\",\"56\",\"57\",\"58\",\"59\",\"60\",\"61\",\"62\",\"63\",\"64\",\"65\",\"66\",\"67\",\"68\",\"69\",\"70\",\"71\",\"72\",\"73\",\"74\",\"75\",\"76\",\"77\",\"78\",\"79\",\"80\",\"81\",\"82\",\"83\",\"84\",\"85\",\"86\",\"87\",\"88\",\"89\",\"90\",\"91\",\"92\",\"93\"],\"x\":{\"__ndarray__\":\"1I72rQHppj+UT31KMYCwP1vbGB6iZrU/Ki2xXuCeoL8rrIjwVvm6P3ct+mLbWr4/c0OlNM3/tr/VfQWfyqd5P+1KeEWm0Io/2ATAH3Vk0D/Hx/sjLfOyPyQZJ462L78/aobZpZKrZb/2+1JjHIm0v/CTDT5Bzq8/1qZxYqt4ob/dZfJoZzvlv2sM1BRYK7E/h2lCxUVmyL8W5TiC3R66v+J/FktBFqk/YkdFsGuMsb+Tfc6FXh3nv4Esq9NGMN2/EQbQ+pLL0D/+c0mIpa7vP2SQAyL+UrE/cGqDSTPpq796AWVdOy7qvyp0zTgEGMG/CCwnNxHRqD9kzaw35Nm0P5HLK3Yg9Oy/Ba+Er+uVsL+hzkQQa2e4vxE2LME6m6y/Mo8+QpvP1D9yi8MgIzWhv8I7cMHOTdY/mDtR6ufCwT/eZuQ/LtmHv567ezV0ypS/QlNNqnPryz8tOjXaFrqtP9BhIQKwzbA/GNUvBUDp7L+nBHxOGDJsv68hckTqwp8/wnvcZyX9xT+5yRKMWLmWvxAvIN+aKsm/GCX4+R7zxj9va1ZV0f3HP3+mbPdSJcY/FY46LTAonT+XsIhyS7HgvxADIiVa7bc/PMgBH+HKrz8G26ynYc+Xv6SM5Z/cpa4/+DHGKvTb5D8A+Hj3EorEv6wrz4SHV6k/6V4L9ltdyT9M3blKYSq/v4LZvUW3P48/1toBIJnnhz/Cujhz6oqVv3wHl3dc2qQ/dBXvn79Cuj+9BQCPc4/Dv4Dxwg6EOsg/szubJNDQuT/pIjDCLg/sPzofda0N3O6/0x9dUKlawT+CPcy/IuTvvwAAAAAAAPA/KoE/FcWD3D/uzeikhwfcvxJ/nV27f8O/P5hJlsTQ6j8=\",\"dtype\":\"float64\",\"order\":\"little\",\"shape\":[82]},\"y\":{\"__ndarray__\":\"Px9pkPm0wD8zM32U6UTBPxPkcuDakcA/Dv8Up0/9oL/AN+lxcoWlP1+WUUMXyKw/eqNFarc5v7/Y/pm/ffNpv8lBWDn0an2/sfqgXjozxr8n4rUGfxq9v7xG7vUy5LY/g51FK6gFrr/A0GdC8sy3v1+EW35XA7Q/w9I4P+damT9AKJ50WHrrP6N3D6UKFLc/+RHZPgd7x7+dWsk55pKyvxrmYjSv47I//pdh4uMQnb9Rng8OC3LkP8ID6Y06/ec/5+lkhfdJ779rrxdCBYfbPwegeCdGMLE/i9oCtvEAfL8Otiy2673lvxdHkhjA1KW/DtU7Okqntj+2WemfEN+yP6ck9QuLZNE/I3BVBR8WrL+1Q8O/kW6hP0g90uV6i6a/FUWs+1i5z784EsQiWzizvwuWT1scM8u/VMvWA/4WZD81q9FmtHypv7tQfZv38LK/9VD8qS1ctj9cMpET2yFjv85Hy5jHnam/Ye/WPdCb3j9t+6bgjOC1vxH8hjTJLKW/E7UprIA8q7/8saoc9Q63v1VW6Uliy7y/SUr9OiVGyb8Wb699bp7GvydUo0FsdsG/O662DKy5wr/v+T/SFmPsv3hescz9w7+/5gAZYRLJoL/diFDDg4DIv1Ao6cd8asO/MTyArs+j6j84eXLON0XLv605MpjpI6+/QmoeY7fOw79Sm3QTTOtOvwQYy2jNz7O/o02P4EYyxb/aZBzY0OfBv1XN1Dx4w8W/HZ3i9iPetr8KO6j4F/LCv7vijvs46MY/jeev+fXqzb+5cfA35jnTvzG2Vh90YNu/K5pDlLhbyb+VFJFj4Uuzv7tdWiIsZty/Yr3aXqw57D+q4mLQzw/sP4Tyxo1HIe0/6HYm0lHo2j8=\",\"dtype\":\"float64\",\"order\":\"little\",\"shape\":[82]}},\"selected\":{\"id\":\"1243\"},\"selection_policy\":{\"id\":\"1262\"}},\"id\":\"1242\",\"type\":\"ColumnDataSource\"},{\"attributes\":{},\"id\":\"1183\",\"type\":\"LinearScale\"},{\"attributes\":{},\"id\":\"1209\",\"type\":\"BasicTickFormatter\"},{\"attributes\":{},\"id\":\"1212\",\"type\":\"BasicTickFormatter\"},{\"attributes\":{\"callback\":null,\"renderers\":[{\"id\":\"1229\"}],\"tooltips\":[[\"index\",\"@{index_hover}\"],[\"ID\",\"@{ID}\"],[\"node_type\",\"@{node_type}\"],[\"temporal_seq_rank\",\"@{temporal_seq_rank}\"],[\"year\",\"@{year}\"]]},\"id\":\"1175\",\"type\":\"HoverTool\"},{\"attributes\":{},\"id\":\"1181\",\"type\":\"LinearScale\"},{\"attributes\":{\"data\":{\"end\":{\"__ndarray__\":\"GgAAACoAAAAmAAAAIAAAAB0AAAArAAAAHQAAABoAAAAgAAAAJgAAACoAAAArAAAAHQAAABoAAAAgAAAAJgAAACoAAAArAAAAGwAAAB8AAAAhAAAAJwAAAC0AAAAvAAAAMQAAADQAAAA1AAAANwAAADoAAAA9AAAAOwAAACYAAAAgAAAAPAAAACoAAAArAAAAHQAAABoAAAAzAAAANwAAADMAAAAdAAAAKwAAADwAAAAaAAAAJgAAACoAAAAgAAAAOgAAAD0AAABJAAAAUgAAAB4AAAA1AAAAMQAAACEAAABGAAAAHwAAAC8AAAAtAAAAIQAAADQAAAA7AAAANwAAADgAAABFAAAANQAAAC0AAAAbAAAAOgAAADEAAABKAAAATQAAACcAAAAvAAAAPQAAABoAAAAdAAAAIAAAACYAAAAqAAAAGwAAACAAAAAhAAAAJgAAACcAAAAtAAAALwAAADEAAAA0AAAANQAAADcAAAA4AAAARQAAADoAAAA7AAAAPQAAAEoAAABNAAAAHQAAABoAAAAqAAAAMAAAADIAAAA8AAAAPwAAAEAAAABLAAAANAAAADsAAABRAAAAOgAAADEAAABNAAAAQgAAAD0AAABPAAAAQQAAAFQAAABQAAAARgAAAEoAAAA3AAAAOAAAAEUAAABXAAAARAAAAEcAAAA/AAAAPAAAAEAAAAA1AAAASwAAADMAAABOAAAAHQAAACAAAAAmAAAAMwAAADYAAAAaAAAANwAAAFMAAAAqAAAAKwAAAEQAAABQAAAATwAAAEUAAABRAAAASgAAAEwAAABNAAAALgAAAEIAAAA4AAAARwAAADoAAAAfAAAALwAAADEAAAAtAAAANQAAACkAAAAnAAAAGwAAAD0AAAAhAAAAOwAAAE4AAAA0AAAAKwAAADcAAABPAAAALwAAADQAAAAtAAAAJwAAAE0AAAAxAAAANQAAAFIAAAA9AAAAPgAAAA==\",\"dtype\":\"int32\",\"order\":\"little\",\"shape\":[184]},\"start\":{\"__ndarray__\":\"AQAAAAEAAAABAAAAAQAAAAEAAAABAAAAAgAAAAIAAAACAAAAAgAAAAIAAAACAAAAAwAAAAMAAAADAAAAAwAAAAMAAAADAAAABAAAAAQAAAAEAAAABAAAAAQAAAAEAAAABAAAAAQAAAAEAAAABAAAAAQAAAAEAAAABAAAAAUAAAAFAAAABQAAAAUAAAAFAAAABQAAAAUAAAAFAAAABQAAAAYAAAAGAAAABgAAAAYAAAAGAAAABgAAAAYAAAAGAAAABwAAAAcAAAAHAAAABwAAAAcAAAAHAAAABwAAAAcAAAAHAAAABwAAAAcAAAAHAAAACAAAAAgAAAAIAAAACAAAAAgAAAAIAAAACAAAAAgAAAAIAAAACAAAAAgAAAAIAAAACAAAAAgAAAAIAAAACAAAAAgAAAAIAAAACAAAAAgAAAAIAAAACQAAAAkAAAAJAAAACQAAAAkAAAAJAAAACQAAAAkAAAAJAAAACQAAAAkAAAAJAAAACQAAAAkAAAAJAAAACQAAAAkAAAAJAAAACQAAAAkAAAAJAAAACgAAAAoAAAAKAAAACgAAAAoAAAAKAAAACwAAAAsAAAALAAAACwAAAAsAAAALAAAACwAAAAsAAAALAAAACwAAAAsAAAALAAAACwAAAAsAAAALAAAACwAAAAsAAAALAAAACwAAAAsAAAALAAAACwAAAAsAAAALAAAACwAAAAsAAAALAAAADAAAAAwAAAAMAAAADAAAAAwAAAAMAAAADAAAAAwAAAAMAAAADAAAAA0AAAANAAAADQAAAA0AAAANAAAADQAAAA0AAAANAAAADQAAAA0AAAANAAAADQAAAA0AAAANAAAADQAAAA0AAAANAAAADQAAAA0AAAANAAAADQAAAA0AAAANAAAADQAAAA0AAAANAAAADQAAAA0AAAAOAAAADgAAAA4AAAAOAAAADgAAAA4AAAAOAAAADgAAAA4AAAAOAAAADgAAAA==\",\"dtype\":\"int32\",\"order\":\"little\",\"shape\":[184]}},\"selected\":{\"id\":\"1268\"},\"selection_policy\":{\"id\":\"1267\"}},\"id\":\"1215\",\"type\":\"ColumnDataSource\"},{\"attributes\":{},\"id\":\"1195\",\"type\":\"WheelZoomTool\"},{\"attributes\":{\"line_color\":{\"value\":\"limegreen\"},\"line_width\":{\"value\":2}},\"id\":\"1225\",\"type\":\"MultiLine\"},{\"attributes\":{},\"id\":\"1213\",\"type\":\"AllLabels\"},{\"attributes\":{},\"id\":\"1193\",\"type\":\"SaveTool\"},{\"attributes\":{\"line_alpha\":{\"value\":0.2},\"line_width\":{\"value\":2}},\"id\":\"1226\",\"type\":\"MultiLine\"},{\"attributes\":{\"children\":[{\"id\":\"1176\"}],\"height\":600,\"margin\":[0,0,0,0],\"name\":\"Row01054\",\"sizing_mode\":\"fixed\",\"tags\":[\"embedded\"],\"width\":800},\"id\":\"1172\",\"type\":\"Row\"},{\"attributes\":{},\"id\":\"1265\",\"type\":\"UnionRenderers\"},{\"attributes\":{\"axis_label\":\"y\",\"coordinates\":null,\"formatter\":{\"id\":\"1212\"},\"group\":null,\"major_label_policy\":{\"id\":\"1213\"},\"ticker\":{\"id\":\"1190\"},\"visible\":false},\"id\":\"1189\",\"type\":\"LinearAxis\"},{\"attributes\":{\"axis\":{\"id\":\"1189\"},\"coordinates\":null,\"dimension\":1,\"grid_line_color\":null,\"group\":null,\"ticker\":null},\"id\":\"1192\",\"type\":\"Grid\"},{\"attributes\":{\"fill_color\":{\"field\":\"node_fill_color\"},\"hatch_color\":{\"value\":\"#30a2da\"},\"size\":{\"value\":15}},\"id\":\"1217\",\"type\":\"Circle\"},{\"attributes\":{\"coordinates\":null,\"data_source\":{\"id\":\"1215\"},\"glyph\":{\"id\":\"1223\"},\"group\":null,\"hover_glyph\":{\"id\":\"1225\"},\"muted_glyph\":{\"id\":\"1226\"},\"nonselection_glyph\":{\"id\":\"1224\"},\"view\":{\"id\":\"1228\"}},\"id\":\"1227\",\"type\":\"GlyphRenderer\"},{\"attributes\":{},\"id\":\"1190\",\"type\":\"BasicTicker\"},{\"attributes\":{},\"id\":\"1266\",\"type\":\"Selection\"},{\"attributes\":{\"coordinates\":null,\"data_source\":{\"id\":\"1242\"},\"glyph\":{\"id\":\"1245\"},\"group\":null,\"hover_glyph\":null,\"muted_glyph\":{\"id\":\"1247\"},\"nonselection_glyph\":{\"id\":\"1246\"},\"selection_glyph\":{\"id\":\"1250\"},\"view\":{\"id\":\"1249\"}},\"id\":\"1248\",\"type\":\"GlyphRenderer\"},{\"attributes\":{\"active_drag\":{\"id\":\"1194\"},\"active_scroll\":{\"id\":\"1195\"},\"tools\":[{\"id\":\"1175\"},{\"id\":\"1193\"},{\"id\":\"1194\"},{\"id\":\"1195\"},{\"id\":\"1196\"},{\"id\":\"1197\"},{\"id\":\"1198\"}]},\"id\":\"1200\",\"type\":\"Toolbar\"},{\"attributes\":{\"coordinates\":null,\"data_source\":{\"id\":\"1214\"},\"glyph\":{\"id\":\"1217\"},\"group\":null,\"hover_glyph\":{\"id\":\"1219\"},\"muted_glyph\":{\"id\":\"1220\"},\"nonselection_glyph\":{\"id\":\"1218\"},\"view\":{\"id\":\"1222\"}},\"id\":\"1221\",\"type\":\"GlyphRenderer\"},{\"attributes\":{\"bottom_units\":\"screen\",\"coordinates\":null,\"fill_alpha\":0.5,\"fill_color\":\"lightgrey\",\"group\":null,\"left_units\":\"screen\",\"level\":\"overlay\",\"line_alpha\":1.0,\"line_color\":\"black\",\"line_dash\":[4,4],\"line_width\":2,\"right_units\":\"screen\",\"syncable\":false,\"top_units\":\"screen\"},\"id\":\"1199\",\"type\":\"BoxAnnotation\"},{\"attributes\":{\"coordinates\":null,\"edge_renderer\":{\"id\":\"1227\"},\"group\":null,\"inspection_policy\":{\"id\":\"1240\"},\"layout_provider\":{\"id\":\"1216\"},\"node_renderer\":{\"id\":\"1221\"},\"selection_policy\":{\"id\":\"1238\"}},\"id\":\"1229\",\"type\":\"GraphRenderer\"},{\"attributes\":{},\"id\":\"1194\",\"type\":\"PanTool\"},{\"attributes\":{\"overlay\":{\"id\":\"1199\"}},\"id\":\"1196\",\"type\":\"BoxZoomTool\"},{\"attributes\":{},\"id\":\"1197\",\"type\":\"ResetTool\"},{\"attributes\":{\"fill_alpha\":{\"value\":0.2},\"fill_color\":{\"value\":\"#30a2da\"},\"hatch_alpha\":{\"value\":0.2},\"hatch_color\":{\"value\":\"#30a2da\"},\"line_alpha\":{\"value\":0.2},\"size\":{\"value\":15}},\"id\":\"1218\",\"type\":\"Circle\"},{\"attributes\":{\"data\":{\"ID\":{\"__ndarray__\":\"AQAAAAIAAAADAAAABAAAAAUAAAAGAAAABwAAAAgAAAAJAAAACgAAAAsAAAAMAAAADQAAAA4AAAAaAAAAGwAAABwAAAAdAAAAHgAAAB8AAAAgAAAAIQAAACIAAAAjAAAAJAAAACUAAAAmAAAAJwAAACgAAAApAAAAKgAAACsAAAAsAAAALQAAAC4AAAAvAAAAMAAAADEAAAAyAAAAMwAAADQAAAA1AAAANgAAADcAAAA4AAAAOQAAADoAAAA7AAAAPAAAAD0AAAA+AAAAPwAAAEAAAABBAAAAQgAAAEMAAABEAAAARQAAAEYAAABHAAAASAAAAEkAAABKAAAASwAAAEwAAABNAAAATgAAAE8AAABQAAAAUQAAAFIAAABTAAAAVAAAAFUAAABWAAAAVwAAAFgAAABZAAAAWgAAAFsAAABcAAAAXQAAAA==\",\"dtype\":\"int32\",\"order\":\"little\",\"shape\":[82]},\"index\":{\"__ndarray__\":\"AQAAAAIAAAADAAAABAAAAAUAAAAGAAAABwAAAAgAAAAJAAAACgAAAAsAAAAMAAAADQAAAA4AAAAaAAAAGwAAABwAAAAdAAAAHgAAAB8AAAAgAAAAIQAAACIAAAAjAAAAJAAAACUAAAAmAAAAJwAAACgAAAApAAAAKgAAACsAAAAsAAAALQAAAC4AAAAvAAAAMAAAADEAAAAyAAAAMwAAADQAAAA1AAAANgAAADcAAAA4AAAAOQAAADoAAAA7AAAAPAAAAD0AAAA+AAAAPwAAAEAAAABBAAAAQgAAAEMAAABEAAAARQAAAEYAAABHAAAASAAAAEkAAABKAAAASwAAAEwAAABNAAAATgAAAE8AAABQAAAAUQAAAFIAAABTAAAAVAAAAFUAAABWAAAAVwAAAFgAAABZAAAAWgAAAFsAAABcAAAAXQAAAA==\",\"dtype\":\"int32\",\"order\":\"little\",\"shape\":[82]},\"index_hover\":[\"1\",\"2\",\"3\",\"4\",\"5\",\"6\",\"7\",\"8\",\"9\",\"10\",\"11\",\"12\",\"13\",\"14\",\"26\",\"27\",\"28\",\"29\",\"30\",\"31\",\"32\",\"33\",\"34\",\"35\",\"36\",\"37\",\"38\",\"39\",\"40\",\"41\",\"42\",\"43\",\"44\",\"45\",\"46\",\"47\",\"48\",\"49\",\"50\",\"51\",\"52\",\"53\",\"54\",\"55\",\"56\",\"57\",\"58\",\"59\",\"60\",\"61\",\"62\",\"63\",\"64\",\"65\",\"66\",\"67\",\"68\",\"69\",\"70\",\"71\",\"72\",\"73\",\"74\",\"75\",\"76\",\"77\",\"78\",\"79\",\"80\",\"81\",\"82\",\"83\",\"84\",\"85\",\"86\",\"87\",\"88\",\"89\",\"90\",\"91\",\"92\",\"93\"],\"node_fill_color\":[\"steelblue\",\"steelblue\",\"steelblue\",\"steelblue\",\"steelblue\",\"steelblue\",\"steelblue\",\"steelblue\",\"steelblue\",\"steelblue\",\"steelblue\",\"steelblue\",\"steelblue\",\"steelblue\",\"grey\",\"grey\",\"grey\",\"grey\",\"grey\",\"grey\",\"grey\",\"grey\",\"grey\",\"grey\",\"grey\",\"grey\",\"grey\",\"grey\",\"grey\",\"grey\",\"grey\",\"grey\",\"grey\",\"grey\",\"grey\",\"grey\",\"grey\",\"grey\",\"grey\",\"grey\",\"grey\",\"grey\",\"grey\",\"grey\",\"grey\",\"grey\",\"grey\",\"grey\",\"grey\",\"grey\",\"grey\",\"grey\",\"grey\",\"grey\",\"grey\",\"grey\",\"grey\",\"grey\",\"grey\",\"grey\",\"grey\",\"grey\",\"grey\",\"grey\",\"grey\",\"grey\",\"grey\",\"grey\",\"grey\",\"grey\",\"grey\",\"grey\",\"grey\",\"grey\",\"grey\",\"grey\",\"grey\",\"grey\",\"grey\",\"grey\",\"grey\",\"grey\"],\"node_type\":[\"Systematic Review Report\",\"Systematic Review Report\",\"Systematic Review Report\",\"Systematic Review Report\",\"Systematic Review Report\",\"Systematic Review Report\",\"Systematic Review Report\",\"Systematic Review Report\",\"Systematic Review Report\",\"Systematic Review Report\",\"Systematic Review Report\",\"Systematic Review Report\",\"Systematic Review Report\",\"Systematic Review Report\",\"Primary Study Report\",\"Primary Study Report\",\"Primary Study Report\",\"Primary Study Report\",\"Primary Study Report\",\"Primary Study Report\",\"Primary Study Report\",\"Primary Study Report\",\"Primary Study Report\",\"Primary Study Report\",\"Primary Study Report\",\"Primary Study Report\",\"Primary Study Report\",\"Primary Study Report\",\"Primary Study Report\",\"Primary Study Report\",\"Primary Study Report\",\"Primary Study Report\",\"Primary Study Report\",\"Primary Study Report\",\"Primary Study Report\",\"Primary Study Report\",\"Primary Study Report\",\"Primary Study Report\",\"Primary Study Report\",\"Primary Study Report\",\"Primary Study Report\",\"Primary Study Report\",\"Primary Study Report\",\"Primary Study Report\",\"Primary Study Report\",\"Primary Study Report\",\"Primary Study Report\",\"Primary Study Report\",\"Primary Study Report\",\"Primary Study Report\",\"Primary Study Report\",\"Primary Study Report\",\"Primary Study Report\",\"Primary Study Report\",\"Primary Study Report\",\"Primary Study Report\",\"Primary Study Report\",\"Primary Study Report\",\"Primary Study Report\",\"Primary Study Report\",\"Primary Study Report\",\"Primary Study Report\",\"Primary Study Report\",\"Primary Study Report\",\"Primary Study Report\",\"Primary Study Report\",\"Primary Study Report\",\"Primary Study Report\",\"Primary Study Report\",\"Primary Study Report\",\"Primary Study Report\",\"Primary Study Report\",\"Primary Study Report\",\"Primary Study Report\",\"Primary Study Report\",\"Primary Study Report\",\"Primary Study Report\",\"Primary Study Report\",\"Primary Study Report\",\"Primary Study Report\",\"Primary Study Report\",\"Primary Study Report\"],\"temporal_seq_rank\":{\"__ndarray__\":\"AAAAAAAANUAAAAAAAAA1QAAAAAAAADVAAAAAAACAREAAAAAAAIBJQAAAAAAAwENAAAAAAACAT0AAAAAAAMBNQAAAAAAAwE1AAAAAAAAAUEAAAAAAAIBRQAAAAAAAAFJAAAAAAABAUkAAAAAAAIBSQAAAAAAAAPA/AAAAAAAAAEAAAAAAAAAIQAAAAAAAABBAAAAAAAAAGEAAAAAAAAAcQAAAAAAAABRAAAAAAAAAIEAAAAAAAAAiQAAAAAAAACZAAAAAAACAMUAAAAAAAIAxQAAAAAAAACRAAAAAAAAAKEAAAAAAAAAwQAAAAAAAACpAAAAAAAAALEAAAAAAAAA3QAAAAAAAAC5AAAAAAAAAM0AAAAAAAAA5QAAAAAAAADhAAAAAAAAAOkAAAAAAAAA7QAAAAAAAADxAAAAAAAAAPkAAAAAAAAA9QAAAAAAAAEFAAAAAAAAAQEAAAAAAAAA/QAAAAAAAgEVAAAAAAADAUkAAAAAAAABCQAAAAAAAAENAAAAAAACAQUAAAAAAAIBCQAAAAAAAwENAAAAAAAAARkAAAAAAAABFQAAAAAAAwEZAAAAAAADARkAAAAAAAIBHQAAAAAAAAEhAAAAAAAAASUAAAAAAAABMQAAAAAAAgEpAAAAAAACAQEAAAAAAAIBIQAAAAAAAgE5AAAAAAAAATEAAAAAAAABMQAAAAAAAAEtAAAAAAAAASkAAAAAAAABNQAAAAAAAQFBAAAAAAACAUEAAAAAAAABPQAAAAAAAQFFAAAAAAAAAUUAAAAAAAMBQQAAAAAAAQFRAAAAAAADAUUAAAAAAAABUQAAAAAAAAFNAAAAAAACAU0AAAAAAAMBTQAAAAAAAQFNAAAAAAACAVEA=\",\"dtype\":\"float64\",\"order\":\"little\",\"shape\":[82]},\"year\":{\"__ndarray__\":\"0gcAANMHAADUBwAA2QcAANsHAADbBwAA3AcAANwHAADdBwAA3AcAAN0HAADeBwAA3gcAAN4HAAC6BwAAwQcAAMMHAADGBwAAyAcAAMgHAADIBwAAywcAAM0HAADNBwAAzwcAAM8HAADNBwAAzQcAAM4HAADOBwAAzgcAANEHAADOBwAAzwcAANIHAADRBwAA0wcAANQHAADVBwAA1gcAANYHAADXBwAA1wcAANcHAADZBwAA3gcAANgHAADYBwAA2AcAANgHAADZBwAA2QcAANkHAADaBwAA2gcAANoHAADbBwAA2wcAANsHAADbBwAA2wcAANsHAADbBwAA2wcAANsHAADbBwAA2wcAANsHAADcBwAA3AcAANwHAADcBwAA3AcAANwHAADdBwAA3QcAAN4HAADeBwAA3gcAAN4HAADeBwAA3gcAAA==\",\"dtype\":\"int32\",\"order\":\"little\",\"shape\":[82]}},\"selected\":{\"id\":\"1266\"},\"selection_policy\":{\"id\":\"1265\"}},\"id\":\"1214\",\"type\":\"ColumnDataSource\"}],\"root_ids\":[\"1172\"]},\"title\":\"Bokeh Application\",\"version\":\"2.4.3\"}};\n",
       "    var render_items = [{\"docid\":\"30120dba-4853-41f1-a8c2-28c4e4ad7cbf\",\"root_ids\":[\"1172\"],\"roots\":{\"1172\":\"28dd1469-ea3f-4289-8942-7b9e33a33286\"}}];\n",
       "    root.Bokeh.embed.embed_items_notebook(docs_json, render_items);\n",
       "    for (const render_item of render_items) {\n",
       "      for (const root_id of render_item.root_ids) {\n",
       "\tconst id_el = document.getElementById(root_id)\n",
       "\tif (id_el.children.length && (id_el.children[0].className === 'bk-root')) {\n",
       "\t  const root_el = id_el.children[0]\n",
       "\t  root_el.id = root_el.id + '-rendered'\n",
       "\t}\n",
       "      }\n",
       "    }\n",
       "  }\n",
       "  if (root.Bokeh !== undefined && root.Bokeh.Panel !== undefined) {\n",
       "    embed_document(root);\n",
       "  } else {\n",
       "    var attempts = 0;\n",
       "    var timer = setInterval(function(root) {\n",
       "      if (root.Bokeh !== undefined && root.Bokeh.Panel !== undefined) {\n",
       "        clearInterval(timer);\n",
       "        embed_document(root);\n",
       "      } else if (document.readyState == \"complete\") {\n",
       "        attempts++;\n",
       "        if (attempts > 200) {\n",
       "          clearInterval(timer);\n",
       "          console.log(\"Bokeh: ERROR: Unable to run BokehJS code because BokehJS library is missing\");\n",
       "        }\n",
       "      }\n",
       "    }, 25, root)\n",
       "  }\n",
       "})(window);</script>"
      ],
      "text/plain": [
       ":Overlay\n",
       "   .Graph.I  :Graph   [start,end]\n",
       "   .Labels.I :Labels   [x,y]   (index)"
      ]
     },
     "execution_count": 29,
     "metadata": {
      "application/vnd.holoviews_exec.v0+json": {
       "id": "1172"
      }
     },
     "output_type": "execute_result"
    }
   ],
   "source": [
    "seed = 42\n",
    "G = nx.Graph()\n",
    "G.add_nodes_from(attr_dict)\n",
    "G.add_edges_from([(x, y) for x, y in zip(edge_list['from'].to_list(), edge_list['to'].to_list())])\n",
    "pos = nx.spring_layout(G, seed=seed)\n",
    "hvnx.draw(G, pos=pos, width=800, height=600, node_color=node_color, with_labels=True)"
   ]
  },
  {
   "cell_type": "code",
   "execution_count": 30,
   "id": "ac7fba92",
   "metadata": {},
   "outputs": [],
   "source": [
    "seed = 42\n",
    "# necessary for plotting the next figure\n",
    "G = nx.DiGraph()\n",
    "G.add_nodes_from(attr_dict)\n",
    "G.add_edges_from([(x, y) for x, y in zip(edge_list['from'].to_list(), edge_list['to'].to_list())])"
   ]
  },
  {
   "cell_type": "code",
   "execution_count": 31,
   "id": "0f1b32aa",
   "metadata": {},
   "outputs": [],
   "source": [
    "attr_list['inclusion_number'] = [x[1] for x in list(G.in_degree())]"
   ]
  },
  {
   "cell_type": "code",
   "execution_count": 32,
   "id": "964d6388",
   "metadata": {},
   "outputs": [
    {
     "data": {
      "text/html": [
       "<div>\n",
       "<style scoped>\n",
       "    .dataframe tbody tr th:only-of-type {\n",
       "        vertical-align: middle;\n",
       "    }\n",
       "\n",
       "    .dataframe tbody tr th {\n",
       "        vertical-align: top;\n",
       "    }\n",
       "\n",
       "    .dataframe thead th {\n",
       "        text-align: right;\n",
       "    }\n",
       "</style>\n",
       "<table border=\"1\" class=\"dataframe\">\n",
       "  <thead>\n",
       "    <tr style=\"text-align: right;\">\n",
       "      <th></th>\n",
       "      <th>ID</th>\n",
       "      <th>node_type</th>\n",
       "      <th>temporal_seq_rank</th>\n",
       "      <th>year</th>\n",
       "      <th>inclusion_number</th>\n",
       "    </tr>\n",
       "  </thead>\n",
       "  <tbody>\n",
       "    <tr>\n",
       "      <th>0</th>\n",
       "      <td>1</td>\n",
       "      <td>Systematic Review Report</td>\n",
       "      <td>21.0</td>\n",
       "      <td>2002</td>\n",
       "      <td>0</td>\n",
       "    </tr>\n",
       "    <tr>\n",
       "      <th>1</th>\n",
       "      <td>2</td>\n",
       "      <td>Systematic Review Report</td>\n",
       "      <td>21.0</td>\n",
       "      <td>2003</td>\n",
       "      <td>0</td>\n",
       "    </tr>\n",
       "    <tr>\n",
       "      <th>2</th>\n",
       "      <td>3</td>\n",
       "      <td>Systematic Review Report</td>\n",
       "      <td>21.0</td>\n",
       "      <td>2004</td>\n",
       "      <td>0</td>\n",
       "    </tr>\n",
       "    <tr>\n",
       "      <th>3</th>\n",
       "      <td>4</td>\n",
       "      <td>Systematic Review Report</td>\n",
       "      <td>41.0</td>\n",
       "      <td>2009</td>\n",
       "      <td>0</td>\n",
       "    </tr>\n",
       "    <tr>\n",
       "      <th>4</th>\n",
       "      <td>5</td>\n",
       "      <td>Systematic Review Report</td>\n",
       "      <td>51.0</td>\n",
       "      <td>2011</td>\n",
       "      <td>0</td>\n",
       "    </tr>\n",
       "  </tbody>\n",
       "</table>\n",
       "</div>"
      ],
      "text/plain": [
       "   ID                 node_type  temporal_seq_rank  year  inclusion_number\n",
       "0   1  Systematic Review Report               21.0  2002                 0\n",
       "1   2  Systematic Review Report               21.0  2003                 0\n",
       "2   3  Systematic Review Report               21.0  2004                 0\n",
       "3   4  Systematic Review Report               41.0  2009                 0\n",
       "4   5  Systematic Review Report               51.0  2011                 0"
      ]
     },
     "execution_count": 32,
     "metadata": {},
     "output_type": "execute_result"
    }
   ],
   "source": [
    "attr_list.head()"
   ]
  },
  {
   "cell_type": "code",
   "execution_count": 33,
   "id": "7e7129c5",
   "metadata": {},
   "outputs": [
    {
     "data": {
      "text/html": [
       "<div>\n",
       "<style scoped>\n",
       "    .dataframe tbody tr th:only-of-type {\n",
       "        vertical-align: middle;\n",
       "    }\n",
       "\n",
       "    .dataframe tbody tr th {\n",
       "        vertical-align: top;\n",
       "    }\n",
       "\n",
       "    .dataframe thead th {\n",
       "        text-align: right;\n",
       "    }\n",
       "</style>\n",
       "<table border=\"1\" class=\"dataframe\">\n",
       "  <thead>\n",
       "    <tr style=\"text-align: right;\">\n",
       "      <th></th>\n",
       "      <th>ID</th>\n",
       "      <th>node_type</th>\n",
       "      <th>temporal_seq_rank</th>\n",
       "      <th>year</th>\n",
       "      <th>inclusion_number</th>\n",
       "    </tr>\n",
       "  </thead>\n",
       "  <tbody>\n",
       "    <tr>\n",
       "      <th>14</th>\n",
       "      <td>26</td>\n",
       "      <td>Primary Study Report</td>\n",
       "      <td>1.0</td>\n",
       "      <td>1978</td>\n",
       "      <td>8</td>\n",
       "    </tr>\n",
       "    <tr>\n",
       "      <th>15</th>\n",
       "      <td>27</td>\n",
       "      <td>Primary Study Report</td>\n",
       "      <td>2.0</td>\n",
       "      <td>1985</td>\n",
       "      <td>4</td>\n",
       "    </tr>\n",
       "    <tr>\n",
       "      <th>16</th>\n",
       "      <td>28</td>\n",
       "      <td>Primary Study Report</td>\n",
       "      <td>3.0</td>\n",
       "      <td>1987</td>\n",
       "      <td>0</td>\n",
       "    </tr>\n",
       "    <tr>\n",
       "      <th>17</th>\n",
       "      <td>29</td>\n",
       "      <td>Primary Study Report</td>\n",
       "      <td>4.0</td>\n",
       "      <td>1990</td>\n",
       "      <td>8</td>\n",
       "    </tr>\n",
       "    <tr>\n",
       "      <th>18</th>\n",
       "      <td>30</td>\n",
       "      <td>Primary Study Report</td>\n",
       "      <td>6.0</td>\n",
       "      <td>1992</td>\n",
       "      <td>1</td>\n",
       "    </tr>\n",
       "  </tbody>\n",
       "</table>\n",
       "</div>"
      ],
      "text/plain": [
       "    ID             node_type  temporal_seq_rank  year  inclusion_number\n",
       "14  26  Primary Study Report                1.0  1978                 8\n",
       "15  27  Primary Study Report                2.0  1985                 4\n",
       "16  28  Primary Study Report                3.0  1987                 0\n",
       "17  29  Primary Study Report                4.0  1990                 8\n",
       "18  30  Primary Study Report                6.0  1992                 1"
      ]
     },
     "execution_count": 33,
     "metadata": {},
     "output_type": "execute_result"
    }
   ],
   "source": [
    "attr_list_psr = attr_list.loc[14:, ]\n",
    "attr_list_psr.head()"
   ]
  },
  {
   "cell_type": "code",
   "execution_count": 34,
   "id": "57ef30db",
   "metadata": {},
   "outputs": [
    {
     "data": {
      "text/html": [
       "<div>\n",
       "<style scoped>\n",
       "    .dataframe tbody tr th:only-of-type {\n",
       "        vertical-align: middle;\n",
       "    }\n",
       "\n",
       "    .dataframe tbody tr th {\n",
       "        vertical-align: top;\n",
       "    }\n",
       "\n",
       "    .dataframe thead th {\n",
       "        text-align: right;\n",
       "    }\n",
       "</style>\n",
       "<table border=\"1\" class=\"dataframe\">\n",
       "  <thead>\n",
       "    <tr style=\"text-align: right;\">\n",
       "      <th></th>\n",
       "      <th>ID</th>\n",
       "      <th>node_type</th>\n",
       "      <th>temporal_seq_rank</th>\n",
       "      <th>year</th>\n",
       "      <th>inclusion_number</th>\n",
       "    </tr>\n",
       "  </thead>\n",
       "  <tbody>\n",
       "    <tr>\n",
       "      <th>14</th>\n",
       "      <td>26</td>\n",
       "      <td>Primary Study Report</td>\n",
       "      <td>1.0</td>\n",
       "      <td>1978</td>\n",
       "      <td>8</td>\n",
       "    </tr>\n",
       "    <tr>\n",
       "      <th>15</th>\n",
       "      <td>27</td>\n",
       "      <td>Primary Study Report</td>\n",
       "      <td>2.0</td>\n",
       "      <td>1985</td>\n",
       "      <td>4</td>\n",
       "    </tr>\n",
       "    <tr>\n",
       "      <th>16</th>\n",
       "      <td>28</td>\n",
       "      <td>Primary Study Report</td>\n",
       "      <td>3.0</td>\n",
       "      <td>1987</td>\n",
       "      <td>0</td>\n",
       "    </tr>\n",
       "    <tr>\n",
       "      <th>17</th>\n",
       "      <td>29</td>\n",
       "      <td>Primary Study Report</td>\n",
       "      <td>4.0</td>\n",
       "      <td>1990</td>\n",
       "      <td>8</td>\n",
       "    </tr>\n",
       "    <tr>\n",
       "      <th>18</th>\n",
       "      <td>30</td>\n",
       "      <td>Primary Study Report</td>\n",
       "      <td>6.0</td>\n",
       "      <td>1992</td>\n",
       "      <td>1</td>\n",
       "    </tr>\n",
       "  </tbody>\n",
       "</table>\n",
       "</div>"
      ],
      "text/plain": [
       "    ID             node_type  temporal_seq_rank  year  inclusion_number\n",
       "14  26  Primary Study Report                1.0  1978                 8\n",
       "15  27  Primary Study Report                2.0  1985                 4\n",
       "16  28  Primary Study Report                3.0  1987                 0\n",
       "17  29  Primary Study Report                4.0  1990                 8\n",
       "18  30  Primary Study Report                6.0  1992                 1"
      ]
     },
     "execution_count": 34,
     "metadata": {},
     "output_type": "execute_result"
    }
   ],
   "source": [
    "# compute PSR-UR\n",
    "attr_list_psr.head()"
   ]
  },
  {
   "cell_type": "code",
   "execution_count": 35,
   "id": "1a2b1cd7",
   "metadata": {},
   "outputs": [
    {
     "data": {
      "text/plain": [
       "[21.0,\n",
       " 21.0,\n",
       " 21.0,\n",
       " 41.0,\n",
       " 51.0,\n",
       " 39.5,\n",
       " 63.0,\n",
       " 59.5,\n",
       " 59.5,\n",
       " 64.0,\n",
       " 70.0,\n",
       " 72.0,\n",
       " 73.0,\n",
       " 74.0]"
      ]
     },
     "execution_count": 35,
     "metadata": {},
     "output_type": "execute_result"
    }
   ],
   "source": [
    "srr_rank = attr_list.loc[:13, 'temporal_seq_rank'].to_list()\n",
    "srr_rank"
   ]
  },
  {
   "cell_type": "code",
   "execution_count": 36,
   "id": "4ff46f82",
   "metadata": {},
   "outputs": [],
   "source": [
    "avail_no_of_srr_list = [sum([x < y for y in srr_rank]) for x in attr_list_psr['temporal_seq_rank'].to_list()]\n",
    "inclusion_number_list = attr_list_psr['inclusion_number'].to_list()"
   ]
  },
  {
   "cell_type": "code",
   "execution_count": 37,
   "id": "e8d19d04",
   "metadata": {},
   "outputs": [],
   "source": [
    "my_lambda = lambda x, y: round(x/y,2) if y !=0 else None"
   ]
  },
  {
   "cell_type": "code",
   "execution_count": 38,
   "id": "b31d9b08",
   "metadata": {},
   "outputs": [],
   "source": [
    "psr_ur_list = [my_lambda(x,y) for x, y in zip(inclusion_number_list, avail_no_of_srr_list)]"
   ]
  },
  {
   "cell_type": "code",
   "execution_count": 39,
   "id": "6792b62b",
   "metadata": {},
   "outputs": [],
   "source": [
    "pub_year_list = attr_list_psr['year'].to_list()"
   ]
  },
  {
   "cell_type": "code",
   "execution_count": 43,
   "id": "bdadbcec",
   "metadata": {},
   "outputs": [
    {
     "data": {
      "image/png": "[encoded data removed]",
      "text/plain": [
       "<Figure size 640x480 with 2 Axes>"
      ]
     },
     "metadata": {},
     "output_type": "display_data"
    }
   ],
   "source": [
    "plt.scatter(inclusion_number_list, psr_ur_list, c=pub_year_list, edgecolor='black', s=70)\n",
    "plt.xlabel(\"Inclusion Number\")\n",
    "plt.ylabel(\"PSR Utilization Rate (PSR-UR)\")\n",
    "plt.xlim(-1, 9)\n",
    "plt.ylim(-0.05, 1.05)\n",
    "plt.colorbar()\n",
    "plt.title(\"Salt\")\n",
    "plt.show()"
   ]
  },
  {
   "cell_type": "code",
   "execution_count": 42,
   "id": "d20ba5c1",
   "metadata": {},
   "outputs": [],
   "source": [
    "plt.scatter(inclusion_number_list, psr_ur_list, c=pub_year_list, edgecolor='black', s=70)\n",
    "plt.xlabel(\"Inclusion Number\", fontsize=12,fontweight=\"bold\")\n",
    "plt.ylabel(\"PSR Utilization Rate (PSR-UR)\", fontsize=12,fontweight=\"bold\")\n",
    "plt.xlim(-1, 9)\n",
    "plt.ylim(-0.05, 1.05)\n",
    "plt.colorbar()\n",
    "plt.title(\"Salt\", fontsize=15,fontweight=\"bold\")\n",
    "# plt.show()\n",
    "plt.gcf().set_size_inches(6,5)\n",
    "plt.savefig(\"Salt.png\", dpi=300)\n",
    "plt.close()"
   ]
  },
  {
   "cell_type": "code",
   "execution_count": null,
   "id": "c935702b",
   "metadata": {},
   "outputs": [],
   "source": []
  }
 ],
 "metadata": {
  "kernelspec": {
   "display_name": "Python 3 (ipykernel)",
   "language": "python",
   "name": "python3"
  },
  "language_info": {
   "codemirror_mode": {
    "name": "ipython",
    "version": 3
   },
   "file_extension": ".py",
   "mimetype": "text/x-python",
   "name": "python",
   "nbconvert_exporter": "python",
   "pygments_lexer": "ipython3",
   "version": "3.9.16"
  }
 },
 "nbformat": 4,
 "nbformat_minor": 5
}
