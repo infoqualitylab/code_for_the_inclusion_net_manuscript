{
 "cells": [
  {
   "cell_type": "code",
   "execution_count": 57,
   "id": "cf7df59b",
   "metadata": {},
   "outputs": [],
   "source": [
    "import pandas as pd\n",
    "import networkx as nx\n",
    "import matplotlib.pyplot as plt\n",
    "import numpy as np\n",
    "import hvplot.networkx as hvnx\n",
    "import bokeh\n",
    "import holoviews as hv\n",
    "from holoviews import opts\n",
    "import hvplot.pandas"
   ]
  },
  {
   "cell_type": "code",
   "execution_count": 58,
   "id": "2d52ebde",
   "metadata": {},
   "outputs": [],
   "source": [
    "attr_list = pd.read_csv('data/attr_list_exrx.csv',encoding = 'latin')\n",
    "edge_list = pd.read_csv('data/edge_list_exrx.csv')"
   ]
  },
  {
   "cell_type": "code",
   "execution_count": 59,
   "id": "8f05c2b1",
   "metadata": {},
   "outputs": [],
   "source": [
    "attr_list = attr_list.loc[:,['article_id', 'node_type', 'temporal_seq_rank', 'publication_year']]\n",
    "edge_list = edge_list.loc[:,['from', 'to']]"
   ]
  },
  {
   "cell_type": "code",
   "execution_count": 60,
   "id": "d0236850",
   "metadata": {},
   "outputs": [
    {
     "data": {
      "text/html": [
       "<div>\n",
       "<style scoped>\n",
       "    .dataframe tbody tr th:only-of-type {\n",
       "        vertical-align: middle;\n",
       "    }\n",
       "\n",
       "    .dataframe tbody tr th {\n",
       "        vertical-align: top;\n",
       "    }\n",
       "\n",
       "    .dataframe thead th {\n",
       "        text-align: right;\n",
       "    }\n",
       "</style>\n",
       "<table border=\"1\" class=\"dataframe\">\n",
       "  <thead>\n",
       "    <tr style=\"text-align: right;\">\n",
       "      <th></th>\n",
       "      <th>article_id</th>\n",
       "      <th>node_type</th>\n",
       "      <th>temporal_seq_rank</th>\n",
       "      <th>publication_year</th>\n",
       "    </tr>\n",
       "  </thead>\n",
       "  <tbody>\n",
       "    <tr>\n",
       "      <th>0</th>\n",
       "      <td>1</td>\n",
       "      <td>Systematic Review Report</td>\n",
       "      <td>219.5</td>\n",
       "      <td>2013</td>\n",
       "    </tr>\n",
       "    <tr>\n",
       "      <th>1</th>\n",
       "      <td>2</td>\n",
       "      <td>Systematic Review Report</td>\n",
       "      <td>204.0</td>\n",
       "      <td>2013</td>\n",
       "    </tr>\n",
       "    <tr>\n",
       "      <th>2</th>\n",
       "      <td>3</td>\n",
       "      <td>Systematic Review Report</td>\n",
       "      <td>215.5</td>\n",
       "      <td>2013</td>\n",
       "    </tr>\n",
       "    <tr>\n",
       "      <th>3</th>\n",
       "      <td>4</td>\n",
       "      <td>Systematic Review Report</td>\n",
       "      <td>217.0</td>\n",
       "      <td>2013</td>\n",
       "    </tr>\n",
       "    <tr>\n",
       "      <th>4</th>\n",
       "      <td>5</td>\n",
       "      <td>Systematic Review Report</td>\n",
       "      <td>200.0</td>\n",
       "      <td>2014</td>\n",
       "    </tr>\n",
       "  </tbody>\n",
       "</table>\n",
       "</div>"
      ],
      "text/plain": [
       "   article_id                 node_type  temporal_seq_rank  publication_year\n",
       "0           1  Systematic Review Report              219.5              2013\n",
       "1           2  Systematic Review Report              204.0              2013\n",
       "2           3  Systematic Review Report              215.5              2013\n",
       "3           4  Systematic Review Report              217.0              2013\n",
       "4           5  Systematic Review Report              200.0              2014"
      ]
     },
     "execution_count": 60,
     "metadata": {},
     "output_type": "execute_result"
    }
   ],
   "source": [
    "attr_list.head(5)"
   ]
  },
  {
   "cell_type": "code",
   "execution_count": 61,
   "id": "da3d5d19",
   "metadata": {},
   "outputs": [],
   "source": [
    "# convert attr_list into a dictionary\n",
    "attr_dict_temp = attr_list.to_dict(orient='records')\n",
    "\n",
    "# shape the dict to fit the input of networx\n",
    "attr_dict = [(x['article_id'], x) for x in attr_dict_temp]"
   ]
  },
  {
   "cell_type": "code",
   "execution_count": 62,
   "id": "d7bd6c8a",
   "metadata": {},
   "outputs": [
    {
     "data": {
      "text/html": [
       "<div>\n",
       "<style scoped>\n",
       "    .dataframe tbody tr th:only-of-type {\n",
       "        vertical-align: middle;\n",
       "    }\n",
       "\n",
       "    .dataframe tbody tr th {\n",
       "        vertical-align: top;\n",
       "    }\n",
       "\n",
       "    .dataframe thead th {\n",
       "        text-align: right;\n",
       "    }\n",
       "</style>\n",
       "<table border=\"1\" class=\"dataframe\">\n",
       "  <thead>\n",
       "    <tr style=\"text-align: right;\">\n",
       "      <th></th>\n",
       "      <th>from</th>\n",
       "      <th>to</th>\n",
       "    </tr>\n",
       "  </thead>\n",
       "  <tbody>\n",
       "    <tr>\n",
       "      <th>0</th>\n",
       "      <td>1</td>\n",
       "      <td>220</td>\n",
       "    </tr>\n",
       "    <tr>\n",
       "      <th>1</th>\n",
       "      <td>1</td>\n",
       "      <td>212</td>\n",
       "    </tr>\n",
       "    <tr>\n",
       "      <th>2</th>\n",
       "      <td>1</td>\n",
       "      <td>192</td>\n",
       "    </tr>\n",
       "    <tr>\n",
       "      <th>3</th>\n",
       "      <td>1</td>\n",
       "      <td>133</td>\n",
       "    </tr>\n",
       "    <tr>\n",
       "      <th>4</th>\n",
       "      <td>1</td>\n",
       "      <td>112</td>\n",
       "    </tr>\n",
       "  </tbody>\n",
       "</table>\n",
       "</div>"
      ],
      "text/plain": [
       "   from   to\n",
       "0     1  220\n",
       "1     1  212\n",
       "2     1  192\n",
       "3     1  133\n",
       "4     1  112"
      ]
     },
     "execution_count": 62,
     "metadata": {},
     "output_type": "execute_result"
    }
   ],
   "source": [
    "edge_list.head()"
   ]
  },
  {
   "cell_type": "code",
   "execution_count": 63,
   "id": "a254fd58",
   "metadata": {},
   "outputs": [],
   "source": [
    "# create the color attribute in the network object\n",
    "\n",
    "node_color = []\n",
    "node_shape = []\n",
    "\n",
    "# adding one more item in attr_dict about color of fill and edge\n",
    "for x in attr_dict:\n",
    "    if x[1]['node_type'] == 'Systematic Review Report':\n",
    "        node_color.append('steelblue')\n",
    "        node_shape.append('square')\n",
    "    elif x[1]['node_type'] == 'Primary Study Report':\n",
    "        node_color.append('grey')\n",
    "        node_shape.append('circle')"
   ]
  },
  {
   "cell_type": "code",
   "execution_count": 64,
   "id": "72eea030",
   "metadata": {},
   "outputs": [],
   "source": [
    "seed = 42\n",
    "G = nx.Graph()\n",
    "G.add_nodes_from(attr_dict)\n",
    "G.add_edges_from([(x, y) for x, y in zip(edge_list['from'].to_list(), edge_list['to'].to_list())])\n",
    "pos = nx.spring_layout(G, seed=seed)\n",
    "\n",
    "node_type_dict = nx.get_node_attributes(G, name='node_type')"
   ]
  },
  {
   "cell_type": "code",
   "execution_count": 65,
   "id": "995a336d",
   "metadata": {},
   "outputs": [],
   "source": [
    "node_shape_dict = {}\n",
    "node_color_dict = {}\n",
    "for i in node_type_dict.keys():\n",
    "    if node_type_dict[i] == 'Systematic Review Report':\n",
    "        node_shape_dict[i] = 'square'\n",
    "        node_color_dict[i] = 'steelblue'\n",
    "    if node_type_dict[i] == 'Primary Study Report':\n",
    "        node_shape_dict[i] = 'circle'\n",
    "        node_color_dict[i] = 'grey'"
   ]
  },
  {
   "cell_type": "code",
   "execution_count": 66,
   "id": "b6375251",
   "metadata": {},
   "outputs": [
    {
     "data": {},
     "metadata": {},
     "output_type": "display_data"
    },
    {
     "data": {
      "application/vnd.holoviews_exec.v0+json": "",
      "text/html": [
       "<div id='1682'>\n",
       "  <div class=\"bk-root\" id=\"8a5edf52-f68d-4c49-8148-103ce3fd422d\" data-root-id=\"1682\"></div>\n",
       "</div>\n",
       "<script type=\"application/javascript\">(function(root) {\n",
       "  function embed_document(root) {\n",
       "    var docs_json = {\"80aab876-76aa-4e66-b750-23ee99c032e6\":{\"defs\":[{\"extends\":null,\"module\":null,\"name\":\"ReactiveHTML1\",\"overrides\":[],\"properties\":[]},{\"extends\":null,\"module\":null,\"name\":\"FlexBox1\",\"overrides\":[],\"properties\":[{\"default\":\"flex-start\",\"kind\":null,\"name\":\"align_content\"},{\"default\":\"flex-start\",\"kind\":null,\"name\":\"align_items\"},{\"default\":\"row\",\"kind\":null,\"name\":\"flex_direction\"},{\"default\":\"wrap\",\"kind\":null,\"name\":\"flex_wrap\"},{\"default\":\"flex-start\",\"kind\":null,\"name\":\"justify_content\"}]},{\"extends\":null,\"module\":null,\"name\":\"GridStack1\",\"overrides\":[],\"properties\":[{\"default\":\"warn\",\"kind\":null,\"name\":\"mode\"},{\"default\":null,\"kind\":null,\"name\":\"ncols\"},{\"default\":null,\"kind\":null,\"name\":\"nrows\"},{\"default\":true,\"kind\":null,\"name\":\"allow_resize\"},{\"default\":true,\"kind\":null,\"name\":\"allow_drag\"},{\"default\":[],\"kind\":null,\"name\":\"state\"}]},{\"extends\":null,\"module\":null,\"name\":\"click1\",\"overrides\":[],\"properties\":[{\"default\":\"\",\"kind\":null,\"name\":\"terminal_output\"},{\"default\":\"\",\"kind\":null,\"name\":\"debug_name\"},{\"default\":0,\"kind\":null,\"name\":\"clears\"}]},{\"extends\":null,\"module\":null,\"name\":\"NotificationAreaBase1\",\"overrides\":[],\"properties\":[{\"default\":\"bottom-right\",\"kind\":null,\"name\":\"position\"},{\"default\":0,\"kind\":null,\"name\":\"_clear\"}]},{\"extends\":null,\"module\":null,\"name\":\"NotificationArea1\",\"overrides\":[],\"properties\":[{\"default\":[],\"kind\":null,\"name\":\"notifications\"},{\"default\":\"bottom-right\",\"kind\":null,\"name\":\"position\"},{\"default\":0,\"kind\":null,\"name\":\"_clear\"},{\"default\":[{\"background\":\"#ffc107\",\"icon\":{\"className\":\"fas fa-exclamation-triangle\",\"color\":\"white\",\"tagName\":\"i\"},\"type\":\"warning\"},{\"background\":\"#007bff\",\"icon\":{\"className\":\"fas fa-info-circle\",\"color\":\"white\",\"tagName\":\"i\"},\"type\":\"info\"}],\"kind\":null,\"name\":\"types\"}]},{\"extends\":null,\"module\":null,\"name\":\"Notification\",\"overrides\":[],\"properties\":[{\"default\":null,\"kind\":null,\"name\":\"background\"},{\"default\":3000,\"kind\":null,\"name\":\"duration\"},{\"default\":null,\"kind\":null,\"name\":\"icon\"},{\"default\":\"\",\"kind\":null,\"name\":\"message\"},{\"default\":null,\"kind\":null,\"name\":\"notification_type\"},{\"default\":false,\"kind\":null,\"name\":\"_destroyed\"}]},{\"extends\":null,\"module\":null,\"name\":\"TemplateActions1\",\"overrides\":[],\"properties\":[{\"default\":0,\"kind\":null,\"name\":\"open_modal\"},{\"default\":0,\"kind\":null,\"name\":\"close_modal\"}]},{\"extends\":null,\"module\":null,\"name\":\"MaterialTemplateActions1\",\"overrides\":[],\"properties\":[{\"default\":0,\"kind\":null,\"name\":\"open_modal\"},{\"default\":0,\"kind\":null,\"name\":\"close_modal\"}]}],\"roots\":{\"references\":[{\"attributes\":{\"data\":{\"article_id\":{\"__ndarray__\":\"AQAAAAIAAAADAAAABAAAAAUAAAAGAAAACAAAAAkAAAAKAAAACwAAAAwAAAANAAAADgAAAA8AAAAQAAAAEQAAABIAAAATAAAAFAAAABUAAAAWAAAAFwAAABgAAAAZAAAAGgAAABsAAAAcAAAAHwAAACAAAAAhAAAAIgAAACMAAAAkAAAAJgAAACcAAAAoAAAAKQAAACoAAAArAAAALAAAAC0AAAAuAAAALwAAADAAAAAxAAAAMwAAADQAAAA1AAAANgAAADgAAAA5AAAAOgAAADsAAAA8AAAAPQAAAD4AAAA/AAAAQAAAAEEAAABCAAAAQwAAAEQAAABFAAAARgAAAEcAAABIAAAASQAAAEoAAABLAAAATAAAAE0AAABOAAAATwAAAFAAAABRAAAAUgAAAFQAAABWAAAAVwAAAFkAAABaAAAAWwAAAFwAAABdAAAAXgAAAF8AAABgAAAAYQAAAGIAAABjAAAAZAAAAGUAAABmAAAAZwAAAGgAAABpAAAAagAAAGsAAABtAAAAbgAAAG8AAABwAAAAcQAAAHIAAABzAAAAdAAAAHUAAAB2AAAAdwAAAHgAAAB5AAAAegAAAHsAAAB8AAAAfQAAAH4AAAB/AAAAgAAAAIEAAACCAAAAgwAAAIQAAACFAAAAhgAAAIcAAACIAAAAigAAAIsAAACMAAAAjQAAAI4AAACPAAAAkAAAAJEAAACSAAAAkwAAAJQAAACVAAAAlgAAAJgAAACZAAAAmgAAAJsAAACcAAAAnQAAAJ4AAACfAAAAoAAAAKEAAACiAAAAowAAAKQAAACmAAAApwAAAKgAAACpAAAAqgAAAKsAAACsAAAArQAAAK4AAACwAAAAsQAAALIAAAC0AAAAtQAAALcAAAC5AAAAugAAALsAAAC8AAAAvQAAAL4AAADAAAAAwQAAAMMAAADEAAAAxQAAAMYAAADHAAAAyAAAAMkAAADKAAAAywAAAMwAAADNAAAAzgAAAM8AAADQAAAA0QAAANIAAADTAAAA1AAAANUAAADWAAAA1wAAANgAAADaAAAA2wAAANwAAADeAAAA3wAAAOAAAADhAAAA4gAAAOMAAADkAAAA5QAAAOYAAADnAAAA6AAAAOkAAADqAAAA6wAAAOwAAADtAAAA7gAAAO8AAADwAAAA8QAAAPIAAADzAAAA9AAAAPUAAAD2AAAA9wAAAPgAAAD6AAAA+wAAAP0AAAD+AAAA/wAAAAABAAABAQAAAgEAAAMBAAAEAQAABgEAAAcBAAAIAQAACQEAAAoBAAALAQAADAEAAA0BAAAPAQAAEAEAABEBAAASAQAAEwEAABQBAAAVAQAAFgEAABcBAAAYAQAAGgEAABsBAAAcAQAAHQEAAB4BAAAfAQAAIAEAACEBAAAiAQAAIwEAACQBAAAlAQAAJgEAACcBAAAoAQAAKQEAACoBAAArAQAALgEAAC8BAAAwAQAAMQEAADIBAAA0AQAANQEAADYBAAA3AQAAOAEAADkBAAA6AQAAOwEAADwBAAA9AQAAPwEAAEABAABBAQAAQgEAAEMBAABEAQAARQEAAEYBAABHAQAASAEAAEkBAABKAQAASwEAAEwBAABNAQAATwEAAFABAABRAQAAUgEAAFQBAABWAQAAVwEAAFgBAABZAQAAWgEAAFsBAABcAQAAXQEAAF8BAABgAQAAYQEAAGIBAABjAQAAZAEAAGUBAABmAQAAZwEAAGgBAABqAQAAawEAAG0BAABuAQAAbwEAAHABAABxAQAAcgEAAHMBAAB1AQAAdwEAAHgBAAB6AQAAewEAAHwBAAB9AQAAfgEAAH8BAACAAQAAggEAAIMBAACFAQAAhgEAAIcBAACIAQAAigEAAIsBAACMAQAAjwEAAJABAACRAQAAkgEAAJUBAACWAQAAlwEAAJgBAACZAQAAmgEAAJsBAACcAQAAnQEAAJ4BAACfAQAAoAEAAKEBAACiAQAAowEAAKQBAACoAQAAqgEAAKsBAACsAQAArQEAAK4BAACvAQAAsAEAALEBAACzAQAAtAEAALUBAAC2AQAAuAEAALkBAAD0AQAA9QEAAPYBAAA=\",\"dtype\":\"int32\",\"order\":\"little\",\"shape\":[392]},\"index\":{\"__ndarray__\":\"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\",\"dtype\":\"int32\",\"order\":\"little\",\"shape\":[392]},\"index_hover\":[\"1\",\"2\",\"3\",\"4\",\"5\",\"6\",\"8\",\"9\",\"10\",\"11\",\"12\",\"13\",\"14\",\"15\",\"16\",\"17\",\"18\",\"19\",\"20\",\"21\",\"22\",\"23\",\"24\",\"25\",\"26\",\"27\",\"28\",\"31\",\"32\",\"33\",\"34\",\"35\",\"36\",\"38\",\"39\",\"40\",\"41\",\"42\",\"43\",\"44\",\"45\",\"46\",\"47\",\"48\",\"49\",\"51\",\"52\",\"53\",\"54\",\"56\",\"57\",\"58\",\"59\",\"60\",\"61\",\"62\",\"63\",\"64\",\"65\",\"66\",\"67\",\"68\",\"69\",\"70\",\"71\",\"72\",\"73\",\"74\",\"75\",\"76\",\"77\",\"78\",\"79\",\"80\",\"81\",\"82\",\"84\",\"86\",\"87\",\"89\",\"90\",\"91\",\"92\",\"93\",\"94\",\"95\",\"96\",\"97\",\"98\",\"99\",\"100\",\"101\",\"102\",\"103\",\"104\",\"105\",\"106\",\"107\",\"109\",\"110\",\"111\",\"112\",\"113\",\"114\",\"115\",\"116\",\"117\",\"118\",\"119\",\"120\",\"121\",\"122\",\"123\",\"124\",\"125\",\"126\",\"127\",\"128\",\"129\",\"130\",\"131\",\"132\",\"133\",\"134\",\"135\",\"136\",\"138\",\"139\",\"140\",\"141\",\"142\",\"143\",\"144\",\"145\",\"146\",\"147\",\"148\",\"149\",\"150\",\"152\",\"153\",\"154\",\"155\",\"156\",\"157\",\"158\",\"159\",\"160\",\"161\",\"162\",\"163\",\"164\",\"166\",\"167\",\"168\",\"169\",\"170\",\"171\",\"172\",\"173\",\"174\",\"176\",\"177\",\"178\",\"180\",\"181\",\"183\",\"185\",\"186\",\"187\",\"188\",\"189\",\"190\",\"192\",\"193\",\"195\",\"196\",\"197\",\"198\",\"199\",\"200\",\"201\",\"202\",\"203\",\"204\",\"205\",\"206\",\"207\",\"208\",\"209\",\"210\",\"211\",\"212\",\"213\",\"214\",\"215\",\"216\",\"218\",\"219\",\"220\",\"222\",\"223\",\"224\",\"225\",\"226\",\"227\",\"228\",\"229\",\"230\",\"231\",\"232\",\"233\",\"234\",\"235\",\"236\",\"237\",\"238\",\"239\",\"240\",\"241\",\"242\",\"243\",\"244\",\"245\",\"246\",\"247\",\"248\",\"250\",\"251\",\"253\",\"254\",\"255\",\"256\",\"257\",\"258\",\"259\",\"260\",\"262\",\"263\",\"264\",\"265\",\"266\",\"267\",\"268\",\"269\",\"271\",\"272\",\"273\",\"274\",\"275\",\"276\",\"277\",\"278\",\"279\",\"280\",\"282\",\"283\",\"284\",\"285\",\"286\",\"287\",\"288\",\"289\",\"290\",\"291\",\"292\",\"293\",\"294\",\"295\",\"296\",\"297\",\"298\",\"299\",\"302\",\"303\",\"304\",\"305\",\"306\",\"308\",\"309\",\"310\",\"311\",\"312\",\"313\",\"314\",\"315\",\"316\",\"317\",\"319\",\"320\",\"321\",\"322\",\"323\",\"324\",\"325\",\"326\",\"327\",\"328\",\"329\",\"330\",\"331\",\"332\",\"333\",\"335\",\"336\",\"337\",\"338\",\"340\",\"342\",\"343\",\"344\",\"345\",\"346\",\"347\",\"348\",\"349\",\"351\",\"352\",\"353\",\"354\",\"355\",\"356\",\"357\",\"358\",\"359\",\"360\",\"362\",\"363\",\"365\",\"366\",\"367\",\"368\",\"369\",\"370\",\"371\",\"373\",\"375\",\"376\",\"378\",\"379\",\"380\",\"381\",\"382\",\"383\",\"384\",\"386\",\"387\",\"389\",\"390\",\"391\",\"392\",\"394\",\"395\",\"396\",\"399\",\"400\",\"401\",\"402\",\"405\",\"406\",\"407\",\"408\",\"409\",\"410\",\"411\",\"412\",\"413\",\"414\",\"415\",\"416\",\"417\",\"418\",\"419\",\"420\",\"424\",\"426\",\"427\",\"428\",\"429\",\"430\",\"431\",\"432\",\"433\",\"435\",\"436\",\"437\",\"438\",\"440\",\"441\",\"500\",\"501\",\"502\"],\"node_color\":[\"steelblue\",\"steelblue\",\"steelblue\",\"steelblue\",\"steelblue\",\"steelblue\",\"steelblue\",\"steelblue\",\"steelblue\",\"steelblue\",\"steelblue\",\"steelblue\",\"steelblue\",\"steelblue\",\"steelblue\",\"steelblue\",\"steelblue\",\"steelblue\",\"steelblue\",\"steelblue\",\"steelblue\",\"steelblue\",\"steelblue\",\"steelblue\",\"steelblue\",\"steelblue\",\"steelblue\",\"grey\",\"grey\",\"grey\",\"grey\",\"grey\",\"grey\",\"grey\",\"grey\",\"grey\",\"grey\",\"grey\",\"grey\",\"grey\",\"grey\",\"grey\",\"grey\",\"grey\",\"grey\",\"grey\",\"grey\",\"grey\",\"grey\",\"grey\",\"grey\",\"grey\",\"grey\",\"grey\",\"grey\",\"grey\",\"grey\",\"grey\",\"grey\",\"grey\",\"grey\",\"grey\",\"grey\",\"grey\",\"grey\",\"grey\",\"grey\",\"grey\",\"grey\",\"grey\",\"grey\",\"grey\",\"grey\",\"grey\",\"grey\",\"grey\",\"grey\",\"grey\",\"grey\",\"grey\",\"grey\",\"grey\",\"grey\",\"grey\",\"grey\",\"grey\",\"grey\",\"grey\",\"grey\",\"grey\",\"grey\",\"grey\",\"grey\",\"grey\",\"grey\",\"grey\",\"grey\",\"grey\",\"grey\",\"grey\",\"grey\",\"grey\",\"grey\",\"grey\",\"grey\",\"grey\",\"grey\",\"grey\",\"grey\",\"grey\",\"grey\",\"grey\",\"grey\",\"grey\",\"grey\",\"grey\",\"grey\",\"grey\",\"grey\",\"grey\",\"grey\",\"grey\",\"grey\",\"grey\",\"grey\",\"grey\",\"grey\",\"grey\",\"grey\",\"grey\",\"grey\",\"grey\",\"grey\",\"grey\",\"grey\",\"grey\",\"grey\",\"grey\",\"grey\",\"grey\",\"grey\",\"grey\",\"grey\",\"grey\",\"grey\",\"grey\",\"grey\",\"grey\",\"grey\",\"grey\",\"grey\",\"grey\",\"grey\",\"grey\",\"grey\",\"grey\",\"grey\",\"grey\",\"grey\",\"grey\",\"grey\",\"grey\",\"grey\",\"grey\",\"grey\",\"grey\",\"grey\",\"grey\",\"grey\",\"grey\",\"grey\",\"grey\",\"grey\",\"grey\",\"grey\",\"grey\",\"grey\",\"grey\",\"grey\",\"grey\",\"grey\",\"grey\",\"grey\",\"grey\",\"grey\",\"grey\",\"grey\",\"grey\",\"grey\",\"grey\",\"grey\",\"grey\",\"grey\",\"grey\",\"grey\",\"grey\",\"grey\",\"grey\",\"grey\",\"grey\",\"grey\",\"grey\",\"grey\",\"grey\",\"grey\",\"grey\",\"grey\",\"grey\",\"grey\",\"grey\",\"grey\",\"grey\",\"grey\",\"grey\",\"grey\",\"grey\",\"grey\",\"grey\",\"grey\",\"grey\",\"grey\",\"grey\",\"grey\",\"grey\",\"grey\",\"grey\",\"grey\",\"grey\",\"grey\",\"grey\",\"grey\",\"grey\",\"grey\",\"grey\",\"grey\",\"grey\",\"grey\",\"grey\",\"grey\",\"grey\",\"grey\",\"grey\",\"grey\",\"grey\",\"grey\",\"grey\",\"grey\",\"grey\",\"grey\",\"grey\",\"grey\",\"grey\",\"grey\",\"grey\",\"grey\",\"grey\",\"grey\",\"grey\",\"grey\",\"grey\",\"grey\",\"grey\",\"grey\",\"grey\",\"grey\",\"grey\",\"grey\",\"grey\",\"grey\",\"grey\",\"grey\",\"grey\",\"grey\",\"grey\",\"grey\",\"grey\",\"grey\",\"grey\",\"grey\",\"grey\",\"grey\",\"grey\",\"grey\",\"grey\",\"grey\",\"grey\",\"grey\",\"grey\",\"grey\",\"grey\",\"grey\",\"grey\",\"grey\",\"grey\",\"grey\",\"grey\",\"grey\",\"grey\",\"grey\",\"grey\",\"grey\",\"grey\",\"grey\",\"grey\",\"grey\",\"grey\",\"grey\",\"grey\",\"grey\",\"grey\",\"grey\",\"grey\",\"grey\",\"grey\",\"grey\",\"grey\",\"grey\",\"grey\",\"grey\",\"grey\",\"grey\",\"grey\",\"grey\",\"grey\",\"grey\",\"grey\",\"grey\",\"grey\",\"grey\",\"grey\",\"grey\",\"grey\",\"grey\",\"grey\",\"grey\",\"grey\",\"grey\",\"grey\",\"grey\",\"grey\",\"grey\",\"grey\",\"grey\",\"grey\",\"grey\",\"grey\",\"grey\",\"grey\",\"grey\",\"grey\",\"grey\",\"grey\",\"grey\",\"grey\",\"grey\",\"grey\",\"grey\",\"grey\",\"grey\",\"grey\",\"grey\",\"grey\",\"grey\",\"grey\",\"grey\",\"grey\",\"grey\",\"grey\",\"grey\",\"grey\",\"grey\",\"grey\",\"grey\",\"grey\",\"grey\",\"grey\",\"grey\",\"grey\",\"grey\",\"grey\",\"grey\",\"grey\",\"grey\",\"grey\",\"grey\",\"grey\",\"grey\",\"grey\",\"grey\",\"grey\",\"grey\",\"grey\"],\"node_marker\":[\"square\",\"square\",\"square\",\"square\",\"square\",\"square\",\"square\",\"square\",\"square\",\"square\",\"square\",\"square\",\"square\",\"square\",\"square\",\"square\",\"square\",\"square\",\"square\",\"square\",\"square\",\"square\",\"square\",\"square\",\"square\",\"square\",\"square\",\"circle\",\"circle\",\"circle\",\"circle\",\"circle\",\"circle\",\"circle\",\"circle\",\"circle\",\"circle\",\"circle\",\"circle\",\"circle\",\"circle\",\"circle\",\"circle\",\"circle\",\"circle\",\"circle\",\"circle\",\"circle\",\"circle\",\"circle\",\"circle\",\"circle\",\"circle\",\"circle\",\"circle\",\"circle\",\"circle\",\"circle\",\"circle\",\"circle\",\"circle\",\"circle\",\"circle\",\"circle\",\"circle\",\"circle\",\"circle\",\"circle\",\"circle\",\"circle\",\"circle\",\"circle\",\"circle\",\"circle\",\"circle\",\"circle\",\"circle\",\"circle\",\"circle\",\"circle\",\"circle\",\"circle\",\"circle\",\"circle\",\"circle\",\"circle\",\"circle\",\"circle\",\"circle\",\"circle\",\"circle\",\"circle\",\"circle\",\"circle\",\"circle\",\"circle\",\"circle\",\"circle\",\"circle\",\"circle\",\"circle\",\"circle\",\"circle\",\"circle\",\"circle\",\"circle\",\"circle\",\"circle\",\"circle\",\"circle\",\"circle\",\"circle\",\"circle\",\"circle\",\"circle\",\"circle\",\"circle\",\"circle\",\"circle\",\"circle\",\"circle\",\"circle\",\"circle\",\"circle\",\"circle\",\"circle\",\"circle\",\"circle\",\"circle\",\"circle\",\"circle\",\"circle\",\"circle\",\"circle\",\"circle\",\"circle\",\"circle\",\"circle\",\"circle\",\"circle\",\"circle\",\"circle\",\"circle\",\"circle\",\"circle\",\"circle\",\"circle\",\"circle\",\"circle\",\"circle\",\"circle\",\"circle\",\"circle\",\"circle\",\"circle\",\"circle\",\"circle\",\"circle\",\"circle\",\"circle\",\"circle\",\"circle\",\"circle\",\"circle\",\"circle\",\"circle\",\"circle\",\"circle\",\"circle\",\"circle\",\"circle\",\"circle\",\"circle\",\"circle\",\"circle\",\"circle\",\"circle\",\"circle\",\"circle\",\"circle\",\"circle\",\"circle\",\"circle\",\"circle\",\"circle\",\"circle\",\"circle\",\"circle\",\"circle\",\"circle\",\"circle\",\"circle\",\"circle\",\"circle\",\"circle\",\"circle\",\"circle\",\"circle\",\"circle\",\"circle\",\"circle\",\"circle\",\"circle\",\"circle\",\"circle\",\"circle\",\"circle\",\"circle\",\"circle\",\"circle\",\"circle\",\"circle\",\"circle\",\"circle\",\"circle\",\"circle\",\"circle\",\"circle\",\"circle\",\"circle\",\"circle\",\"circle\",\"circle\",\"circle\",\"circle\",\"circle\",\"circle\",\"circle\",\"circle\",\"circle\",\"circle\",\"circle\",\"circle\",\"circle\",\"circle\",\"circle\",\"circle\",\"circle\",\"circle\",\"circle\",\"circle\",\"circle\",\"circle\",\"circle\",\"circle\",\"circle\",\"circle\",\"circle\",\"circle\",\"circle\",\"circle\",\"circle\",\"circle\",\"circle\",\"circle\",\"circle\",\"circle\",\"circle\",\"circle\",\"circle\",\"circle\",\"circle\",\"circle\",\"circle\",\"circle\",\"circle\",\"circle\",\"circle\",\"circle\",\"circle\",\"circle\",\"circle\",\"circle\",\"circle\",\"circle\",\"circle\",\"circle\",\"circle\",\"circle\",\"circle\",\"circle\",\"circle\",\"circle\",\"circle\",\"circle\",\"circle\",\"circle\",\"circle\",\"circle\",\"circle\",\"circle\",\"circle\",\"circle\",\"circle\",\"circle\",\"circle\",\"circle\",\"circle\",\"circle\",\"circle\",\"circle\",\"circle\",\"circle\",\"circle\",\"circle\",\"circle\",\"circle\",\"circle\",\"circle\",\"circle\",\"circle\",\"circle\",\"circle\",\"circle\",\"circle\",\"circle\",\"circle\",\"circle\",\"circle\",\"circle\",\"circle\",\"circle\",\"circle\",\"circle\",\"circle\",\"circle\",\"circle\",\"circle\",\"circle\",\"circle\",\"circle\",\"circle\",\"circle\",\"circle\",\"circle\",\"circle\",\"circle\",\"circle\",\"circle\",\"circle\",\"circle\",\"circle\",\"circle\",\"circle\",\"circle\",\"circle\",\"circle\",\"circle\",\"circle\",\"circle\",\"circle\",\"circle\",\"circle\",\"circle\",\"circle\",\"circle\",\"circle\",\"circle\",\"circle\",\"circle\",\"circle\",\"circle\",\"circle\",\"circle\",\"circle\",\"circle\",\"circle\",\"circle\",\"circle\",\"circle\",\"circle\",\"circle\",\"circle\",\"circle\",\"circle\",\"circle\",\"circle\",\"circle\",\"circle\",\"circle\",\"circle\",\"circle\",\"circle\",\"circle\",\"circle\",\"circle\",\"circle\",\"circle\",\"circle\",\"circle\",\"circle\",\"circle\"],\"node_shape\":[\"square\",\"square\",\"square\",\"square\",\"square\",\"square\",\"square\",\"square\",\"square\",\"square\",\"square\",\"square\",\"square\",\"square\",\"square\",\"square\",\"square\",\"square\",\"square\",\"square\",\"square\",\"square\",\"square\",\"square\",\"square\",\"square\",\"square\",\"circle\",\"circle\",\"circle\",\"circle\",\"circle\",\"circle\",\"circle\",\"circle\",\"circle\",\"circle\",\"circle\",\"circle\",\"circle\",\"circle\",\"circle\",\"circle\",\"circle\",\"circle\",\"circle\",\"circle\",\"circle\",\"circle\",\"circle\",\"circle\",\"circle\",\"circle\",\"circle\",\"circle\",\"circle\",\"circle\",\"circle\",\"circle\",\"circle\",\"circle\",\"circle\",\"circle\",\"circle\",\"circle\",\"circle\",\"circle\",\"circle\",\"circle\",\"circle\",\"circle\",\"circle\",\"circle\",\"circle\",\"circle\",\"circle\",\"circle\",\"circle\",\"circle\",\"circle\",\"circle\",\"circle\",\"circle\",\"circle\",\"circle\",\"circle\",\"circle\",\"circle\",\"circle\",\"circle\",\"circle\",\"circle\",\"circle\",\"circle\",\"circle\",\"circle\",\"circle\",\"circle\",\"circle\",\"circle\",\"circle\",\"circle\",\"circle\",\"circle\",\"circle\",\"circle\",\"circle\",\"circle\",\"circle\",\"circle\",\"circle\",\"circle\",\"circle\",\"circle\",\"circle\",\"circle\",\"circle\",\"circle\",\"circle\",\"circle\",\"circle\",\"circle\",\"circle\",\"circle\",\"circle\",\"circle\",\"circle\",\"circle\",\"circle\",\"circle\",\"circle\",\"circle\",\"circle\",\"circle\",\"circle\",\"circle\",\"circle\",\"circle\",\"circle\",\"circle\",\"circle\",\"circle\",\"circle\",\"circle\",\"circle\",\"circle\",\"circle\",\"circle\",\"circle\",\"circle\",\"circle\",\"circle\",\"circle\",\"circle\",\"circle\",\"circle\",\"circle\",\"circle\",\"circle\",\"circle\",\"circle\",\"circle\",\"circle\",\"circle\",\"circle\",\"circle\",\"circle\",\"circle\",\"circle\",\"circle\",\"circle\",\"circle\",\"circle\",\"circle\",\"circle\",\"circle\",\"circle\",\"circle\",\"circle\",\"circle\",\"circle\",\"circle\",\"circle\",\"circle\",\"circle\",\"circle\",\"circle\",\"circle\",\"circle\",\"circle\",\"circle\",\"circle\",\"circle\",\"circle\",\"circle\",\"circle\",\"circle\",\"circle\",\"circle\",\"circle\",\"circle\",\"circle\",\"circle\",\"circle\",\"circle\",\"circle\",\"circle\",\"circle\",\"circle\",\"circle\",\"circle\",\"circle\",\"circle\",\"circle\",\"circle\",\"circle\",\"circle\",\"circle\",\"circle\",\"circle\",\"circle\",\"circle\",\"circle\",\"circle\",\"circle\",\"circle\",\"circle\",\"circle\",\"circle\",\"circle\",\"circle\",\"circle\",\"circle\",\"circle\",\"circle\",\"circle\",\"circle\",\"circle\",\"circle\",\"circle\",\"circle\",\"circle\",\"circle\",\"circle\",\"circle\",\"circle\",\"circle\",\"circle\",\"circle\",\"circle\",\"circle\",\"circle\",\"circle\",\"circle\",\"circle\",\"circle\",\"circle\",\"circle\",\"circle\",\"circle\",\"circle\",\"circle\",\"circle\",\"circle\",\"circle\",\"circle\",\"circle\",\"circle\",\"circle\",\"circle\",\"circle\",\"circle\",\"circle\",\"circle\",\"circle\",\"circle\",\"circle\",\"circle\",\"circle\",\"circle\",\"circle\",\"circle\",\"circle\",\"circle\",\"circle\",\"circle\",\"circle\",\"circle\",\"circle\",\"circle\",\"circle\",\"circle\",\"circle\",\"circle\",\"circle\",\"circle\",\"circle\",\"circle\",\"circle\",\"circle\",\"circle\",\"circle\",\"circle\",\"circle\",\"circle\",\"circle\",\"circle\",\"circle\",\"circle\",\"circle\",\"circle\",\"circle\",\"circle\",\"circle\",\"circle\",\"circle\",\"circle\",\"circle\",\"circle\",\"circle\",\"circle\",\"circle\",\"circle\",\"circle\",\"circle\",\"circle\",\"circle\",\"circle\",\"circle\",\"circle\",\"circle\",\"circle\",\"circle\",\"circle\",\"circle\",\"circle\",\"circle\",\"circle\",\"circle\",\"circle\",\"circle\",\"circle\",\"circle\",\"circle\",\"circle\",\"circle\",\"circle\",\"circle\",\"circle\",\"circle\",\"circle\",\"circle\",\"circle\",\"circle\",\"circle\",\"circle\",\"circle\",\"circle\",\"circle\",\"circle\",\"circle\",\"circle\",\"circle\",\"circle\",\"circle\",\"circle\",\"circle\",\"circle\",\"circle\",\"circle\",\"circle\",\"circle\",\"circle\",\"circle\",\"circle\",\"circle\",\"circle\",\"circle\",\"circle\",\"circle\",\"circle\",\"circle\",\"circle\",\"circle\",\"circle\",\"circle\",\"circle\",\"circle\",\"circle\",\"circle\",\"circle\",\"circle\"],\"node_type\":[\"Systematic Review Report\",\"Systematic Review Report\",\"Systematic Review Report\",\"Systematic Review Report\",\"Systematic Review Report\",\"Systematic Review Report\",\"Systematic Review Report\",\"Systematic Review Report\",\"Systematic Review Report\",\"Systematic Review Report\",\"Systematic Review Report\",\"Systematic Review Report\",\"Systematic Review Report\",\"Systematic Review Report\",\"Systematic Review Report\",\"Systematic Review Report\",\"Systematic Review Report\",\"Systematic Review Report\",\"Systematic Review Report\",\"Systematic Review Report\",\"Systematic Review Report\",\"Systematic Review Report\",\"Systematic Review Report\",\"Systematic Review Report\",\"Systematic Review Report\",\"Systematic Review Report\",\"Systematic Review Report\",\"Primary Study Report\",\"Primary Study Report\",\"Primary Study Report\",\"Primary Study Report\",\"Primary Study Report\",\"Primary Study Report\",\"Primary Study Report\",\"Primary Study Report\",\"Primary Study Report\",\"Primary Study Report\",\"Primary Study Report\",\"Primary Study Report\",\"Primary Study Report\",\"Primary Study Report\",\"Primary Study Report\",\"Primary Study Report\",\"Primary Study Report\",\"Primary Study Report\",\"Primary Study Report\",\"Primary Study Report\",\"Primary Study Report\",\"Primary Study Report\",\"Primary Study Report\",\"Primary Study Report\",\"Primary Study Report\",\"Primary Study Report\",\"Primary Study Report\",\"Primary Study Report\",\"Primary Study Report\",\"Primary Study Report\",\"Primary Study Report\",\"Primary Study Report\",\"Primary Study Report\",\"Primary Study Report\",\"Primary Study Report\",\"Primary Study Report\",\"Primary Study Report\",\"Primary Study Report\",\"Primary Study Report\",\"Primary Study Report\",\"Primary Study Report\",\"Primary Study Report\",\"Primary Study Report\",\"Primary Study Report\",\"Primary Study Report\",\"Primary Study Report\",\"Primary Study Report\",\"Primary Study Report\",\"Primary Study Report\",\"Primary Study Report\",\"Primary Study Report\",\"Primary Study Report\",\"Primary Study Report\",\"Primary Study Report\",\"Primary Study Report\",\"Primary Study Report\",\"Primary Study Report\",\"Primary Study Report\",\"Primary Study Report\",\"Primary Study Report\",\"Primary Study Report\",\"Primary Study Report\",\"Primary Study Report\",\"Primary Study Report\",\"Primary Study Report\",\"Primary Study Report\",\"Primary Study Report\",\"Primary Study Report\",\"Primary Study Report\",\"Primary Study Report\",\"Primary Study Report\",\"Primary Study Report\",\"Primary Study Report\",\"Primary Study Report\",\"Primary Study Report\",\"Primary Study Report\",\"Primary Study Report\",\"Primary Study Report\",\"Primary Study Report\",\"Primary Study Report\",\"Primary Study Report\",\"Primary Study Report\",\"Primary Study Report\",\"Primary Study Report\",\"Primary Study Report\",\"Primary Study Report\",\"Primary Study Report\",\"Primary Study Report\",\"Primary Study Report\",\"Primary Study Report\",\"Primary Study Report\",\"Primary Study Report\",\"Primary Study Report\",\"Primary Study Report\",\"Primary Study Report\",\"Primary Study Report\",\"Primary Study Report\",\"Primary Study Report\",\"Primary Study Report\",\"Primary Study Report\",\"Primary Study Report\",\"Primary Study Report\",\"Primary Study Report\",\"Primary Study Report\",\"Primary Study Report\",\"Primary Study Report\",\"Primary Study Report\",\"Primary Study Report\",\"Primary Study Report\",\"Primary Study Report\",\"Primary Study Report\",\"Primary Study Report\",\"Primary Study Report\",\"Primary Study Report\",\"Primary Study Report\",\"Primary Study Report\",\"Primary Study Report\",\"Primary Study Report\",\"Primary Study Report\",\"Primary Study Report\",\"Primary Study Report\",\"Primary Study Report\",\"Primary Study Report\",\"Primary Study Report\",\"Primary Study Report\",\"Primary Study Report\",\"Primary Study Report\",\"Primary Study Report\",\"Primary Study Report\",\"Primary Study Report\",\"Primary Study Report\",\"Primary Study Report\",\"Primary Study Report\",\"Primary Study Report\",\"Primary Study Report\",\"Primary Study Report\",\"Primary Study Report\",\"Primary Study Report\",\"Primary Study Report\",\"Primary Study Report\",\"Primary Study Report\",\"Primary Study Report\",\"Primary Study Report\",\"Primary Study Report\",\"Primary Study Report\",\"Primary Study Report\",\"Primary Study Report\",\"Primary Study Report\",\"Primary Study Report\",\"Primary Study Report\",\"Primary Study Report\",\"Primary Study Report\",\"Primary Study Report\",\"Primary Study Report\",\"Primary Study Report\",\"Primary Study Report\",\"Primary Study Report\",\"Primary Study Report\",\"Primary Study Report\",\"Primary Study Report\",\"Primary Study Report\",\"Primary Study Report\",\"Primary Study Report\",\"Primary Study Report\",\"Primary Study Report\",\"Primary Study Report\",\"Primary Study Report\",\"Primary Study Report\",\"Primary Study Report\",\"Primary Study Report\",\"Primary Study Report\",\"Primary Study Report\",\"Primary Study Report\",\"Primary Study Report\",\"Primary Study Report\",\"Primary Study Report\",\"Primary Study Report\",\"Primary Study Report\",\"Primary Study Report\",\"Primary Study Report\",\"Primary Study Report\",\"Primary Study Report\",\"Primary Study Report\",\"Primary Study Report\",\"Primary Study Report\",\"Primary Study Report\",\"Primary Study Report\",\"Primary Study Report\",\"Primary Study Report\",\"Primary Study Report\",\"Primary Study Report\",\"Primary Study Report\",\"Primary Study Report\",\"Primary Study Report\",\"Primary Study Report\",\"Primary Study Report\",\"Primary Study Report\",\"Primary Study Report\",\"Primary Study Report\",\"Primary Study Report\",\"Primary Study Report\",\"Primary Study Report\",\"Primary Study Report\",\"Primary Study Report\",\"Primary Study Report\",\"Primary Study Report\",\"Primary Study Report\",\"Primary Study Report\",\"Primary Study Report\",\"Primary Study Report\",\"Primary Study Report\",\"Primary Study Report\",\"Primary Study Report\",\"Primary Study Report\",\"Primary Study Report\",\"Primary Study Report\",\"Primary Study Report\",\"Primary Study Report\",\"Primary Study Report\",\"Primary Study Report\",\"Primary Study Report\",\"Primary Study Report\",\"Primary Study Report\",\"Primary Study Report\",\"Primary Study Report\",\"Primary Study Report\",\"Primary Study Report\",\"Primary Study Report\",\"Primary Study Report\",\"Primary Study Report\",\"Primary Study Report\",\"Primary Study Report\",\"Primary Study Report\",\"Primary Study Report\",\"Primary Study Report\",\"Primary Study Report\",\"Primary Study Report\",\"Primary Study Report\",\"Primary Study Report\",\"Primary Study Report\",\"Primary Study Report\",\"Primary Study Report\",\"Primary Study Report\",\"Primary Study Report\",\"Primary Study Report\",\"Primary Study Report\",\"Primary Study Report\",\"Primary Study Report\",\"Primary Study Report\",\"Primary Study Report\",\"Primary Study Report\",\"Primary Study Report\",\"Primary Study Report\",\"Primary Study Report\",\"Primary Study Report\",\"Primary Study Report\",\"Primary Study Report\",\"Primary Study Report\",\"Primary Study Report\",\"Primary Study Report\",\"Primary Study Report\",\"Primary Study Report\",\"Primary Study Report\",\"Primary Study Report\",\"Primary Study Report\",\"Primary Study Report\",\"Primary Study Report\",\"Primary Study Report\",\"Primary Study Report\",\"Primary Study Report\",\"Primary Study Report\",\"Primary Study Report\",\"Primary Study Report\",\"Primary Study Report\",\"Primary Study Report\",\"Primary Study Report\",\"Primary Study Report\",\"Primary Study Report\",\"Primary Study Report\",\"Primary Study Report\",\"Primary Study Report\",\"Primary Study Report\",\"Primary Study Report\",\"Primary Study Report\",\"Primary Study Report\",\"Primary Study Report\",\"Primary Study Report\",\"Primary Study Report\",\"Primary Study Report\",\"Primary Study Report\",\"Primary Study Report\",\"Primary Study Report\",\"Primary Study Report\",\"Primary Study Report\",\"Primary Study Report\",\"Primary Study Report\",\"Primary Study Report\",\"Primary Study Report\",\"Primary Study Report\",\"Primary Study Report\",\"Primary Study Report\",\"Primary Study Report\",\"Primary Study Report\",\"Primary Study Report\",\"Primary Study Report\",\"Primary Study Report\",\"Primary Study Report\",\"Primary Study Report\",\"Primary Study Report\",\"Primary Study Report\",\"Primary Study Report\",\"Primary Study Report\",\"Primary Study Report\",\"Primary Study Report\",\"Primary Study Report\",\"Primary Study Report\",\"Primary Study Report\",\"Primary Study Report\",\"Primary Study Report\",\"Primary Study Report\",\"Primary Study Report\",\"Primary Study Report\",\"Primary Study Report\",\"Primary Study Report\",\"Primary Study Report\",\"Primary Study Report\",\"Primary Study Report\",\"Primary Study Report\",\"Primary Study Report\",\"Primary Study Report\",\"Primary Study Report\",\"Primary Study Report\",\"Primary Study Report\",\"Primary Study Report\",\"Primary Study Report\",\"Primary Study Report\",\"Primary Study Report\",\"Primary Study Report\",\"Primary Study Report\",\"Primary Study Report\",\"Primary Study Report\",\"Primary Study Report\",\"Primary Study Report\",\"Primary Study Report\",\"Primary Study Report\",\"Primary Study Report\",\"Primary Study Report\",\"Primary Study Report\",\"Primary Study Report\",\"Primary Study Report\",\"Primary Study Report\",\"Primary Study Report\",\"Primary Study Report\",\"Primary Study Report\",\"Primary Study Report\",\"Primary Study Report\",\"Primary Study Report\",\"Primary Study Report\",\"Primary Study Report\",\"Primary Study Report\",\"Primary Study Report\",\"Primary Study Report\",\"Primary Study Report\",\"Primary Study Report\",\"Primary Study Report\"],\"publication_year\":{\"__ndarray__\":\"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\",\"dtype\":\"int32\",\"order\":\"little\",\"shape\":[392]},\"temporal_seq_rank\":{\"__ndarray__\":\"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\",\"dtype\":\"float64\",\"order\":\"little\",\"shape\":[392]}},\"selected\":{\"id\":\"1777\"},\"selection_policy\":{\"id\":\"1776\"}},\"id\":\"1724\",\"type\":\"ColumnDataSource\"},{\"attributes\":{\"axis_label\":\"y\",\"coordinates\":null,\"formatter\":{\"id\":\"1722\"},\"group\":null,\"major_label_policy\":{\"id\":\"1723\"},\"ticker\":{\"id\":\"1700\"}},\"id\":\"1699\",\"type\":\"LinearAxis\"},{\"attributes\":{\"axis\":{\"id\":\"1699\"},\"coordinates\":null,\"dimension\":1,\"grid_line_color\":null,\"group\":null,\"ticker\":null},\"id\":\"1702\",\"type\":\"Grid\"},{\"attributes\":{\"fill_color\":{\"value\":\"limegreen\"},\"hatch_color\":{\"field\":\"node_color\"},\"marker\":{\"field\":\"node_marker\"},\"size\":{\"value\":30}},\"id\":\"1730\",\"type\":\"Scatter\"},{\"attributes\":{},\"id\":\"1700\",\"type\":\"BasicTicker\"},{\"attributes\":{},\"id\":\"1705\",\"type\":\"WheelZoomTool\"},{\"attributes\":{\"data\":{\"text\":[\"1\",\"2\",\"3\",\"4\",\"5\",\"6\",\"8\",\"9\",\"10\",\"11\",\"12\",\"13\",\"14\",\"15\",\"16\",\"17\",\"18\",\"19\",\"20\",\"21\",\"22\",\"23\",\"24\",\"25\",\"26\",\"27\",\"28\",\"31\",\"32\",\"33\",\"34\",\"35\",\"36\",\"38\",\"39\",\"40\",\"41\",\"42\",\"43\",\"44\",\"45\",\"46\",\"47\",\"48\",\"49\",\"51\",\"52\",\"53\",\"54\",\"56\",\"57\",\"58\",\"59\",\"60\",\"61\",\"62\",\"63\",\"64\",\"65\",\"66\",\"67\",\"68\",\"69\",\"70\",\"71\",\"72\",\"73\",\"74\",\"75\",\"76\",\"77\",\"78\",\"79\",\"80\",\"81\",\"82\",\"84\",\"86\",\"87\",\"89\",\"90\",\"91\",\"92\",\"93\",\"94\",\"95\",\"96\",\"97\",\"98\",\"99\",\"100\",\"101\",\"102\",\"103\",\"104\",\"105\",\"106\",\"107\",\"109\",\"110\",\"111\",\"112\",\"113\",\"114\",\"115\",\"116\",\"117\",\"118\",\"119\",\"120\",\"121\",\"122\",\"123\",\"124\",\"125\",\"126\",\"127\",\"128\",\"129\",\"130\",\"131\",\"132\",\"133\",\"134\",\"135\",\"136\",\"138\",\"139\",\"140\",\"141\",\"142\",\"143\",\"144\",\"145\",\"146\",\"147\",\"148\",\"149\",\"150\",\"152\",\"153\",\"154\",\"155\",\"156\",\"157\",\"158\",\"159\",\"160\",\"161\",\"162\",\"163\",\"164\",\"166\",\"167\",\"168\",\"169\",\"170\",\"171\",\"172\",\"173\",\"174\",\"176\",\"177\",\"178\",\"180\",\"181\",\"183\",\"185\",\"186\",\"187\",\"188\",\"189\",\"190\",\"192\",\"193\",\"195\",\"196\",\"197\",\"198\",\"199\",\"200\",\"201\",\"202\",\"203\",\"204\",\"205\",\"206\",\"207\",\"208\",\"209\",\"210\",\"211\",\"212\",\"213\",\"214\",\"215\",\"216\",\"218\",\"219\",\"220\",\"222\",\"223\",\"224\",\"225\",\"226\",\"227\",\"228\",\"229\",\"230\",\"231\",\"232\",\"233\",\"234\",\"235\",\"236\",\"237\",\"238\",\"239\",\"240\",\"241\",\"242\",\"243\",\"244\",\"245\",\"246\",\"247\",\"248\",\"250\",\"251\",\"253\",\"254\",\"255\",\"256\",\"257\",\"258\",\"259\",\"260\",\"262\",\"263\",\"264\",\"265\",\"266\",\"267\",\"268\",\"269\",\"271\",\"272\",\"273\",\"274\",\"275\",\"276\",\"277\",\"278\",\"279\",\"280\",\"282\",\"283\",\"284\",\"285\",\"286\",\"287\",\"288\",\"289\",\"290\",\"291\",\"292\",\"293\",\"294\",\"295\",\"296\",\"297\",\"298\",\"299\",\"302\",\"303\",\"304\",\"305\",\"306\",\"308\",\"309\",\"310\",\"311\",\"312\",\"313\",\"314\",\"315\",\"316\",\"317\",\"319\",\"320\",\"321\",\"322\",\"323\",\"324\",\"325\",\"326\",\"327\",\"328\",\"329\",\"330\",\"331\",\"332\",\"333\",\"335\",\"336\",\"337\",\"338\",\"340\",\"342\",\"343\",\"344\",\"345\",\"346\",\"347\",\"348\",\"349\",\"351\",\"352\",\"353\",\"354\",\"355\",\"356\",\"357\",\"358\",\"359\",\"360\",\"362\",\"363\",\"365\",\"366\",\"367\",\"368\",\"369\",\"370\",\"371\",\"373\",\"375\",\"376\",\"378\",\"379\",\"380\",\"381\",\"382\",\"383\",\"384\",\"386\",\"387\",\"389\",\"390\",\"391\",\"392\",\"394\",\"395\",\"396\",\"399\",\"400\",\"401\",\"402\",\"405\",\"406\",\"407\",\"408\",\"409\",\"410\",\"411\",\"412\",\"413\",\"414\",\"415\",\"416\",\"417\",\"418\",\"419\",\"420\",\"424\",\"426\",\"427\",\"428\",\"429\",\"430\",\"431\",\"432\",\"433\",\"435\",\"436\",\"437\",\"438\",\"440\",\"441\",\"500\",\"501\",\"502\"],\"x\":{\"__ndarray__\":\"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\",\"dtype\":\"float64\",\"order\":\"little\",\"shape\":[392]},\"y\":{\"__ndarray__\":\"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\",\"dtype\":\"float64\",\"order\":\"little\",\"shape\":[392]}},\"selected\":{\"id\":\"1754\"},\"selection_policy\":{\"id\":\"1773\"}},\"id\":\"1753\",\"type\":\"ColumnDataSource\"},{\"attributes\":{},\"id\":\"1776\",\"type\":\"UnionRenderers\"},{\"attributes\":{\"coordinates\":null,\"data_source\":{\"id\":\"1724\"},\"glyph\":{\"id\":\"1727\"},\"group\":null,\"hover_glyph\":{\"id\":\"1730\"},\"muted_glyph\":{\"id\":\"1731\"},\"nonselection_glyph\":{\"id\":\"1728\"},\"selection_glyph\":{\"id\":\"1729\"},\"view\":{\"id\":\"1733\"}},\"id\":\"1732\",\"type\":\"GlyphRenderer\"},{\"attributes\":{\"coordinates\":null,\"data_source\":{\"id\":\"1725\"},\"glyph\":{\"id\":\"1734\"},\"group\":null,\"hover_glyph\":{\"id\":\"1736\"},\"muted_glyph\":{\"id\":\"1737\"},\"nonselection_glyph\":{\"id\":\"1735\"},\"view\":{\"id\":\"1739\"}},\"id\":\"1738\",\"type\":\"GlyphRenderer\"},{\"attributes\":{},\"id\":\"1703\",\"type\":\"SaveTool\"},{\"attributes\":{},\"id\":\"1720\",\"type\":\"AllLabels\"},{\"attributes\":{},\"id\":\"1777\",\"type\":\"Selection\"},{\"attributes\":{\"overlay\":{\"id\":\"1709\"}},\"id\":\"1706\",\"type\":\"BoxZoomTool\"},{\"attributes\":{},\"id\":\"1707\",\"type\":\"ResetTool\"},{\"attributes\":{\"callback\":null},\"id\":\"1708\",\"type\":\"TapTool\"},{\"attributes\":{\"line_width\":{\"value\":2}},\"id\":\"1734\",\"type\":\"MultiLine\"},{\"attributes\":{\"children\":[{\"id\":\"1686\"}],\"height\":800,\"margin\":[0,0,0,0],\"name\":\"Row01695\",\"sizing_mode\":\"fixed\",\"tags\":[\"embedded\"],\"width\":900},\"id\":\"1682\",\"type\":\"Row\"},{\"attributes\":{},\"id\":\"1719\",\"type\":\"BasicTickFormatter\"},{\"attributes\":{\"line_color\":{\"value\":\"limegreen\"},\"line_width\":{\"value\":2}},\"id\":\"1736\",\"type\":\"MultiLine\"},{\"attributes\":{},\"id\":\"1722\",\"type\":\"BasicTickFormatter\"},{\"attributes\":{\"source\":{\"id\":\"1725\"}},\"id\":\"1739\",\"type\":\"CDSView\"},{\"attributes\":{\"bottom_units\":\"screen\",\"coordinates\":null,\"fill_alpha\":0.5,\"fill_color\":\"lightgrey\",\"group\":null,\"left_units\":\"screen\",\"level\":\"overlay\",\"line_alpha\":1.0,\"line_color\":\"black\",\"line_dash\":[4,4],\"line_width\":2,\"right_units\":\"screen\",\"syncable\":false,\"top_units\":\"screen\"},\"id\":\"1709\",\"type\":\"BoxAnnotation\"},{\"attributes\":{},\"id\":\"1773\",\"type\":\"UnionRenderers\"},{\"attributes\":{},\"id\":\"1723\",\"type\":\"AllLabels\"},{\"attributes\":{\"coordinates\":null,\"data_source\":{\"id\":\"1753\"},\"glyph\":{\"id\":\"1756\"},\"group\":null,\"hover_glyph\":null,\"muted_glyph\":{\"id\":\"1758\"},\"nonselection_glyph\":{\"id\":\"1757\"},\"selection_glyph\":{\"id\":\"1761\"},\"view\":{\"id\":\"1760\"}},\"id\":\"1759\",\"type\":\"GlyphRenderer\"},{\"attributes\":{\"axis_label\":\"x\",\"coordinates\":null,\"formatter\":{\"id\":\"1719\"},\"group\":null,\"major_label_policy\":{\"id\":\"1720\"},\"ticker\":{\"id\":\"1696\"}},\"id\":\"1695\",\"type\":\"LinearAxis\"},{\"attributes\":{},\"id\":\"1751\",\"type\":\"NodesAndLinkedEdges\"},{\"attributes\":{\"angle\":{\"value\":0},\"text\":{\"field\":\"text\"},\"text_align\":{\"value\":\"center\"},\"text_alpha\":{\"value\":1.0},\"text_baseline\":{\"value\":\"middle\"},\"text_color\":{\"value\":\"black\"},\"text_font_style\":{\"value\":\"normal\"},\"text_line_height\":{\"value\":1.2},\"x\":{\"field\":\"x\"},\"x_offset\":{\"value\":0},\"y\":{\"field\":\"y\"},\"y_offset\":{\"value\":0}},\"id\":\"1761\",\"type\":\"Text\"},{\"attributes\":{\"below\":[{\"id\":\"1695\"}],\"center\":[{\"id\":\"1698\"},{\"id\":\"1702\"}],\"height\":800,\"left\":[{\"id\":\"1699\"}],\"margin\":[5,5,5,5],\"min_border_bottom\":10,\"min_border_left\":10,\"min_border_right\":10,\"min_border_top\":10,\"renderers\":[{\"id\":\"1740\"},{\"id\":\"1759\"}],\"sizing_mode\":\"fixed\",\"title\":{\"id\":\"1687\"},\"toolbar\":{\"id\":\"1710\"},\"width\":900,\"x_range\":{\"id\":\"1683\"},\"x_scale\":{\"id\":\"1691\"},\"y_range\":{\"id\":\"1684\"},\"y_scale\":{\"id\":\"1693\"}},\"id\":\"1686\",\"subtype\":\"Figure\",\"type\":\"Plot\"},{\"attributes\":{},\"id\":\"1749\",\"type\":\"NodesAndLinkedEdges\"},{\"attributes\":{\"end\":0.6673559308897582,\"reset_end\":0.6673559308897582,\"reset_start\":-0.6878046708568297,\"start\":-0.6878046708568297,\"tags\":[[[\"x\",\"x\",null]]]},\"id\":\"1683\",\"type\":\"Range1d\"},{\"attributes\":{\"source\":{\"id\":\"1724\"}},\"id\":\"1733\",\"type\":\"CDSView\"},{\"attributes\":{},\"id\":\"1696\",\"type\":\"BasicTicker\"},{\"attributes\":{\"data\":{\"end\":{\"__ndarray__\":\"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\",\"dtype\":\"int32\",\"order\":\"little\",\"shape\":[589]},\"start\":{\"__ndarray__\":\"AQAAAAEAAAABAAAAAQAAAAEAAAABAAAAAQAAAAEAAAABAAAAAQAAAAIAAAACAAAAAgAAAAIAAAACAAAAAgAAAAIAAAACAAAAAgAAAAIAAAACAAAAAgAAAAIAAAACAAAAAgAAAAIAAAACAAAAAgAAAAIAAAACAAAAAgAAAAIAAAACAAAAAgAAAAIAAAACAAAAAgAAAAIAAAACAAAAAgAAAAIAAAACAAAAAgAAAAIAAAACAAAAAgAAAAIAAAACAAAAAgAAAAMAAAADAAAAAwAAAAMAAAADAAAAAwAAAAMAAAADAAAAAwAAAAMAAAADAAAAAwAAAAMAAAADAAAAAwAAAAMAAAADAAAAAwAAAAMAAAADAAAAAwAAAAMAAAADAAAAAwAAAAMAAAADAAAAAwAAAAMAAAADAAAAAwAAAAQAAAAEAAAABAAAAAQAAAAEAAAABAAAAAQAAAAEAAAABAAAAAQAAAAEAAAABAAAAAUAAAAFAAAABQAAAAUAAAAFAAAABQAAAAUAAAAFAAAABQAAAAUAAAAFAAAABQAAAAUAAAAFAAAABQAAAAYAAAAGAAAABgAAAAYAAAAGAAAABgAAAAYAAAAGAAAABgAAAAYAAAAGAAAABgAAAAgAAAAIAAAACAAAAAgAAAAIAAAACAAAAAgAAAAIAAAACAAAAAgAAAAIAAAACAAAAAgAAAAIAAAACAAAAAgAAAAIAAAACAAAAAkAAAAJAAAACQAAAAkAAAAJAAAACQAAAAkAAAAJAAAACQAAAAkAAAAJAAAACQAAAAkAAAAJAAAACQAAAAkAAAAJAAAACQAAAAkAAAAJAAAACQAAAAkAAAAJAAAACQAAAAkAAAAJAAAACQAAAAkAAAAJAAAACQAAAAkAAAAJAAAACQAAAAkAAAAJAAAACQAAAAkAAAAJAAAACQAAAAkAAAAKAAAACgAAAAoAAAAKAAAACgAAAAoAAAAKAAAACgAAAAoAAAAKAAAACgAAAAoAAAAKAAAACgAAAAoAAAAKAAAACgAAAAoAAAAKAAAACgAAAAoAAAAKAAAACgAAAAoAAAAKAAAACgAAAAoAAAAKAAAACgAAAAoAAAAKAAAACgAAAAoAAAAKAAAACgAAAAoAAAAKAAAACgAAAAoAAAAKAAAACwAAAAsAAAALAAAACwAAAAsAAAALAAAACwAAAAsAAAALAAAACwAAAAsAAAAMAAAADAAAAAwAAAAMAAAADAAAAAwAAAAMAAAADAAAAAwAAAAMAAAADAAAAAwAAAAMAAAADAAAAAwAAAAMAAAADAAAAAwAAAAMAAAADAAAAAwAAAAMAAAADAAAAAwAAAAMAAAADQAAAA0AAAANAAAADQAAAA0AAAANAAAADgAAAA4AAAAOAAAADgAAAA4AAAAOAAAADgAAAA4AAAAOAAAADgAAAA4AAAAPAAAADwAAAA8AAAAPAAAADwAAAA8AAAAPAAAADwAAABAAAAAQAAAAEAAAABAAAAAQAAAAEAAAABAAAAAQAAAAEAAAABAAAAAQAAAAEAAAABAAAAAQAAAAEAAAABAAAAAQAAAAEAAAABAAAAAQAAAAEAAAABAAAAAQAAAAEQAAABEAAAARAAAAEQAAABEAAAARAAAAEQAAABEAAAASAAAAEgAAABIAAAASAAAAEgAAABIAAAASAAAAEgAAABMAAAATAAAAEwAAABMAAAATAAAAEwAAABMAAAATAAAAFAAAABQAAAAUAAAAFAAAABQAAAAUAAAAFAAAABQAAAAUAAAAFAAAABQAAAAUAAAAFAAAABQAAAAUAAAAFAAAABQAAAAVAAAAFQAAABUAAAAVAAAAFQAAABUAAAAVAAAAFQAAABUAAAAVAAAAFQAAABUAAAAVAAAAFQAAABUAAAAVAAAAFQAAABUAAAAVAAAAFQAAABUAAAAVAAAAFQAAABUAAAAVAAAAFQAAABUAAAAVAAAAFQAAABUAAAAVAAAAFQAAABUAAAAVAAAAFQAAABYAAAAWAAAAFgAAABYAAAAWAAAAFgAAABYAAAAWAAAAFgAAABYAAAAWAAAAFgAAABYAAAAWAAAAFgAAABYAAAAWAAAAFgAAABYAAAAWAAAAFgAAABYAAAAWAAAAFgAAABYAAAAWAAAAFgAAABYAAAAWAAAAFgAAABYAAAAWAAAAFgAAABYAAAAWAAAAFgAAABYAAAAWAAAAFgAAABYAAAAWAAAAFgAAABYAAAAWAAAAFgAAABYAAAAWAAAAFgAAABYAAAAWAAAAFgAAABYAAAAWAAAAFgAAABYAAAAWAAAAFgAAABYAAAAWAAAAFgAAABYAAAAWAAAAFgAAABYAAAAWAAAAFgAAABYAAAAWAAAAFgAAABcAAAAXAAAAFwAAABcAAAAXAAAAFwAAABcAAAAXAAAAFwAAABcAAAAXAAAAFwAAABcAAAAXAAAAFwAAABcAAAAXAAAAFwAAABcAAAAXAAAAFwAAABcAAAAXAAAAFwAAABcAAAAXAAAAFwAAABcAAAAXAAAAGAAAABgAAAAYAAAAGAAAABgAAAAYAAAAGAAAABgAAAAYAAAAGAAAABgAAAAYAAAAGAAAABgAAAAYAAAAGAAAABgAAAAZAAAAGQAAABkAAAAZAAAAGQAAABkAAAAZAAAAGQAAABkAAAAZAAAAGQAAABkAAAAZAAAAGQAAABkAAAAZAAAAGQAAABkAAAAZAAAAGQAAABkAAAAZAAAAGQAAABkAAAAZAAAAGQAAABkAAAAZAAAAGQAAABkAAAAZAAAAGQAAABkAAAAaAAAAGgAAABoAAAAaAAAAGgAAABoAAAAaAAAAGgAAABoAAAAaAAAAGgAAABoAAAAaAAAAGgAAABoAAAAaAAAAGgAAABoAAAAaAAAAGgAAABoAAAAaAAAAGgAAABoAAAAaAAAAGgAAABoAAAAaAAAAGgAAABoAAAAaAAAAGgAAABoAAAAaAAAAGgAAABoAAAAaAAAAGgAAABoAAAAaAAAAGgAAABoAAAAaAAAAGgAAABoAAAAaAAAAGgAAABoAAAAaAAAAGwAAABsAAAAbAAAAGwAAABsAAAAcAAAAHAAAABwAAAAcAAAAHAAAABwAAAAcAAAAHAAAABwAAAAcAAAAHAAAAA==\",\"dtype\":\"int32\",\"order\":\"little\",\"shape\":[589]}},\"selected\":{\"id\":\"1779\"},\"selection_policy\":{\"id\":\"1778\"}},\"id\":\"1725\",\"type\":\"ColumnDataSource\"},{\"attributes\":{},\"id\":\"1754\",\"type\":\"Selection\"},{\"attributes\":{\"text_align\":{\"value\":\"center\"},\"text_baseline\":{\"value\":\"middle\"},\"text_color\":{\"value\":\"black\"},\"x\":{\"field\":\"x\"},\"y\":{\"field\":\"y\"}},\"id\":\"1756\",\"type\":\"Text\"},{\"attributes\":{\"source\":{\"id\":\"1753\"}},\"id\":\"1760\",\"type\":\"CDSView\"},{\"attributes\":{\"callback\":null,\"renderers\":[{\"id\":\"1740\"}],\"tags\":[\"hv_created\"],\"tooltips\":[[\"index\",\"@{index_hover}\"],[\"article_id\",\"@{article_id}\"],[\"node_color\",\"@{node_color}\"],[\"node_shape\",\"@{node_shape}\"],[\"node_type\",\"@{node_type}\"],[\"publication_year\",\"@{publication_year}\"],[\"temporal_seq_rank\",\"@{temporal_seq_rank}\"]]},\"id\":\"1685\",\"type\":\"HoverTool\"},{\"attributes\":{\"text_align\":{\"value\":\"center\"},\"text_alpha\":{\"value\":0.1},\"text_baseline\":{\"value\":\"middle\"},\"text_color\":{\"value\":\"black\"},\"x\":{\"field\":\"x\"},\"y\":{\"field\":\"y\"}},\"id\":\"1757\",\"type\":\"Text\"},{\"attributes\":{\"text_align\":{\"value\":\"center\"},\"text_alpha\":{\"value\":0.2},\"text_baseline\":{\"value\":\"middle\"},\"text_color\":{\"value\":\"black\"},\"x\":{\"field\":\"x\"},\"y\":{\"field\":\"y\"}},\"id\":\"1758\",\"type\":\"Text\"},{\"attributes\":{\"line_alpha\":{\"value\":0.2},\"line_width\":{\"value\":2}},\"id\":\"1735\",\"type\":\"MultiLine\"},{\"attributes\":{},\"id\":\"1691\",\"type\":\"LinearScale\"},{\"attributes\":{\"fill_alpha\":{\"value\":0.2},\"fill_color\":{\"field\":\"node_color\"},\"hatch_alpha\":{\"value\":0.2},\"hatch_color\":{\"field\":\"node_color\"},\"line_alpha\":{\"value\":0.2},\"marker\":{\"field\":\"node_marker\"},\"size\":{\"value\":30}},\"id\":\"1728\",\"type\":\"Scatter\"},{\"attributes\":{},\"id\":\"1693\",\"type\":\"LinearScale\"},{\"attributes\":{\"fill_color\":{\"field\":\"node_color\"},\"hatch_color\":{\"field\":\"node_color\"},\"marker\":{\"field\":\"node_marker\"},\"size\":{\"value\":30}},\"id\":\"1729\",\"type\":\"Scatter\"},{\"attributes\":{\"coordinates\":null,\"group\":null,\"text_color\":\"black\",\"text_font_size\":\"12pt\"},\"id\":\"1687\",\"type\":\"Title\"},{\"attributes\":{},\"id\":\"1778\",\"type\":\"UnionRenderers\"},{\"attributes\":{\"line_alpha\":{\"value\":0.2},\"line_width\":{\"value\":2}},\"id\":\"1737\",\"type\":\"MultiLine\"},{\"attributes\":{\"fill_color\":{\"field\":\"node_color\"},\"hatch_color\":{\"field\":\"node_color\"},\"marker\":{\"field\":\"node_marker\"},\"size\":{\"value\":30}},\"id\":\"1727\",\"type\":\"Scatter\"},{\"attributes\":{},\"id\":\"1779\",\"type\":\"Selection\"},{\"attributes\":{\"end\":1.16937637009608,\"reset_end\":1.16937637009608,\"reset_start\":-0.8631400710568795,\"start\":-0.8631400710568795,\"tags\":[[[\"y\",\"y\",null]]]},\"id\":\"1684\",\"type\":\"Range1d\"},{\"attributes\":{\"active_drag\":{\"id\":\"1704\"},\"active_scroll\":{\"id\":\"1705\"},\"tools\":[{\"id\":\"1685\"},{\"id\":\"1703\"},{\"id\":\"1704\"},{\"id\":\"1705\"},{\"id\":\"1706\"},{\"id\":\"1707\"},{\"id\":\"1708\"}]},\"id\":\"1710\",\"type\":\"Toolbar\"},{\"attributes\":{\"graph_layout\":{\"1\":[0.03875105728679553,0.09056868544542152],\"10\":[0.02563851222681604,0.182891884716699],\"100\":[-0.5424678298270141,-0.15916552417224872],\"101\":[-0.47049438280324785,-0.10441953696610555],\"102\":[0.25385717554822135,0.234959452380004],\"103\":[-0.025230027911126406,0.026395328745525307],\"104\":[-0.008582787627245271,0.23106061018749804],\"105\":[-0.0039999589786367746,0.13517566950528218],\"106\":[0.08142335796542753,0.024292143304571582],\"107\":[-0.5692060544414602,-0.12903672902282742],\"109\":[0.06379445858641283,-0.053682162999995515],\"11\":[-0.020019611359296478,0.017126518807683747],\"110\":[0.0809629293719397,0.2551800378487711],\"111\":[0.4271214405618549,0.31094291514028005],\"112\":[0.0372860877179116,0.052742269979948894],\"113\":[0.054581920931387716,0.22896130088186653],\"114\":[0.3571202848352245,0.321793137256578],\"115\":[0.31839299077717076,-0.6682849184899549],\"116\":[0.040081856067483976,0.2767782499427234],\"117\":[0.4807291534342061,0.24199019111749773],\"118\":[0.29140752839291206,0.2475279279082766],\"119\":[0.5220382718374824,-0.62624889100848],\"12\":[0.05001295309573565,0.03531146702006392],\"120\":[0.3101624278439913,-0.6531967042232835],\"121\":[-0.5674322219961644,-0.1756672404552521],\"122\":[-0.024748643256103015,0.13239383003436941],\"123\":[0.017765237050156958,0.27558038413585806],\"124\":[-0.45416526311556055,-0.21781489761571093],\"125\":[0.5347570217104621,-0.6066605191845958],\"126\":[0.12657956962035485,0.07467657177112905],\"127\":[0.08928795112528613,0.23843526916395133],\"128\":[0.41096522480133285,-0.5652948941004137],\"129\":[-0.5355938122531091,-0.17828057865198718],\"13\":[0.029987528815753076,-0.02567799517360204],\"130\":[-0.2301314347221328,0.15237687837282243],\"131\":[-0.014639077168752967,0.13642808268252563],\"132\":[0.5405791760654133,-0.6528694044914721],\"133\":[0.0074102726654944094,0.1237292438825119],\"134\":[-0.17669997687933367,0.1679618283498438],\"135\":[0.49345339958277856,-0.6235179676225854],\"136\":[0.07770640392742655,0.05025360283986849],\"138\":[0.16024982417415853,-0.061884635470431805],\"139\":[0.005625177801339778,0.2786411322711219],\"14\":[0.37306681427309385,0.26879797451832016],\"140\":[0.030946653823295426,0.07042679537198734],\"141\":[0.024476871649085467,0.2414298429851938],\"142\":[0.01573508500068273,0.2589551931983232],\"143\":[-0.20162811739312983,0.14709038424454707],\"144\":[0.058284973243014175,0.2564818286352881],\"145\":[0.06681233122082691,0.26899119943439503],\"146\":[0.2995466628914855,-0.671943273908269],\"147\":[0.15040996335135098,-0.09388413965017066],\"148\":[0.0027244796650274365,0.05232729170979922],\"149\":[0.4705380163969531,-0.6425975863532226],\"15\":[0.030054138699897537,0.0585982221882284],\"150\":[0.02937734896281565,-0.013281562035127767],\"152\":[-0.16437725627185693,0.20194080339666357],\"153\":[-0.05335391244254583,-0.20993813442527173],\"154\":[-0.5239203442085959,-0.22913662215674593],\"155\":[-0.49011045080943255,-0.23093976349779385],\"156\":[0.5395514164176732,-0.6265395833085106],\"157\":[0.04714193051298239,0.08195430171893389],\"158\":[0.03467712173170739,-0.11475161354810332],\"159\":[0.565079659059827,-0.6107833203787739],\"16\":[0.0418582076223681,0.018050263517080993],\"160\":[-0.015167650471247952,0.260074194712735],\"161\":[0.08833031431459869,-0.07211312951586343],\"162\":[0.2882802604885465,0.28582271093242634],\"163\":[-0.06589722153601588,0.25033338725687343],\"164\":[0.030764875868715378,0.2613106560590383],\"166\":[-0.5055734818702744,-0.07919695639314524],\"167\":[0.11267463277703854,0.013103523670414738],\"168\":[0.07778138909065965,0.22003882457559604],\"169\":[0.18145914628243975,0.2837570286949644],\"17\":[0.4049558023968712,0.22674733687477125],\"170\":[0.2883691267526886,-0.6283172354598747],\"171\":[-0.01770045224346041,0.054902052129422584],\"172\":[0.007513257050123056,0.2393624295581936],\"173\":[0.4050517831453436,-0.5768395655122395],\"174\":[-0.5232199368352614,-0.08807776633455876],\"176\":[0.07229275239101968,0.2339014437856541],\"177\":[-0.43776250419950913,-0.19179445449228114],\"178\":[0.12972529560263918,0.10542599829940259],\"18\":[-0.018807604653076227,0.17628277639622644],\"180\":[0.026144771206333798,0.06155166163440389],\"181\":[0.2883189780770228,-0.6445101340282653],\"183\":[0.4464973435595746,0.2961146234857966],\"185\":[-0.5287937080002603,-0.19752506733152353],\"186\":[-0.49263709943617096,-0.10419921028096715],\"187\":[0.3124992389372164,-0.6834272843950218],\"188\":[-0.20462867158356937,0.1301035894490081],\"189\":[0.4006475881286335,-0.6110323788765742],\"19\":[0.4434296645623099,0.4180834705679767],\"190\":[-0.5482702881689238,-0.18859697439748993],\"192\":[-0.012136024543049252,0.03494352253337884],\"193\":[-0.5359228418963755,-0.08247509764788266],\"195\":[-0.08675568513880957,-0.19255006642830685],\"196\":[0.01652596212523775,-0.04003011519979255],\"197\":[0.3938740206842845,-0.5717971568164684],\"198\":[0.28083741320554684,0.038199684580722634],\"199\":[-0.3040557093133975,0.9454660230542379],\"2\":[0.06861125852737979,0.01073869513752528],\"20\":[-0.04633447723070333,-0.12137793258067528],\"200\":[-0.09826879276911175,-0.18327422560921183],\"201\":[0.04902285654015307,-0.05597799855443863],\"202\":[-0.032427262817586525,-0.19108699964391257],\"203\":[-0.022931728120456733,-0.20138042617293928],\"204\":[0.41193136277536524,-0.6077671964727117],\"205\":[0.17182596726664146,-0.07334317580140984],\"206\":[0.47691622392679045,0.22908286299705094],\"207\":[-0.0781603026624121,-0.2031853243711989],\"208\":[0.41984979231356007,-0.5989569414465066],\"209\":[0.3325557855038545,-0.679726383278991],\"21\":[0.06403859318334372,-0.017379502336220907],\"210\":[0.11008780630200188,0.1520517765896866],\"211\":[-0.03859605916177622,-0.2087078936134656],\"212\":[0.07767201728193364,0.14666795712764547],\"213\":[0.48519882361735195,-0.6652596863086412],\"214\":[0.08929707197661359,0.1017949943169638],\"215\":[0.4173876375603714,-0.5776179914075769],\"216\":[-0.5157678862295575,-0.1284779333473901],\"218\":[0.3027723348790984,-0.6183376060515723],\"219\":[-0.09208112239451545,0.016641536906220788],\"22\":[-0.48108634296348773,-0.15560341520292645],\"220\":[0.0960539010934492,0.13721898150728867],\"222\":[-0.18350733253701568,0.21751222401371262],\"223\":[-0.3539782962738458,1.0],\"224\":[0.05524664698188556,0.02328169752211562],\"225\":[-0.0702457948849981,0.1794429025986048],\"226\":[-0.19580968164949833,0.09675835104544293],\"227\":[-0.3214427832726901,0.9824263523254173],\"228\":[0.32073056636023906,0.22555549448144666],\"229\":[-0.025409885294491955,0.14523549962818766],\"23\":[-0.3569017419242228,0.9231590577190202],\"230\":[-0.048644424003439005,-0.19091489238747847],\"231\":[0.0855925745367906,0.04336822551311122],\"232\":[-0.09217533393321717,-0.0002869401409554054],\"233\":[0.29129799086285046,-0.6595392046529194],\"234\":[-0.22960878778716162,0.16863163542617696],\"235\":[0.5208375208834296,-0.5322886287060329],\"236\":[-0.217613589855106,0.10788840758457491],\"237\":[0.2250492592076982,0.2771865783176883],\"238\":[0.10298786604463388,0.07789973762828975],\"239\":[0.41655030582205155,0.33038694843673144],\"24\":[0.20291134453552753,0.1964754089505554],\"240\":[-0.2217969646218155,0.18018351159792578],\"241\":[-0.21767082196458737,0.1384536332013521],\"242\":[-0.3956236551766446,0.9928477094308957],\"243\":[-0.02580437648474647,0.23289006727486458],\"244\":[0.22051797664889114,0.26331971317510916],\"245\":[0.3254060072427877,0.2512102981305351],\"246\":[-0.5091098706734069,-0.23394924304961134],\"247\":[0.12544120199374773,-0.0371570624352524],\"248\":[0.5184727401353292,-0.5511562090608308],\"25\":[-0.14289796722685522,0.1375743285213646],\"250\":[0.0016603391904897625,-0.07722269874684397],\"251\":[-0.3765981637059458,0.9578200082893934],\"253\":[-0.5829571001963706,-0.18045627473651193],\"254\":[-0.015680495425111192,-0.06840647903828795],\"255\":[0.003328237581876221,0.01352326940930975],\"256\":[-0.473826677921969,-0.24280531516365075],\"257\":[-0.3603178954422508,0.9848490602188179],\"258\":[0.02220296467618751,0.07352256328418973],\"259\":[0.3116938775705379,-0.6363359466047045],\"26\":[0.47790455413314453,-0.5840421993533401],\"260\":[-0.5499132058207078,-0.10932240118530062],\"262\":[-0.05510672689255815,0.25552812517497864],\"263\":[0.0009313916871629074,0.25420189299511753],\"264\":[0.3312363762449599,0.21194706629940177],\"265\":[-0.5124718988671682,-0.10946896779566545],\"266\":[0.1410428266274086,-0.06243249789757227],\"267\":[-0.16910809909825023,0.21895073931557377],\"268\":[0.20057538943627434,0.26932118896822543],\"269\":[-0.07438898473133404,0.08767421696236177],\"27\":[0.1974560288092021,0.038753810980721344],\"271\":[-0.45763302841770515,-0.18711468342242257],\"272\":[-0.5235047878233431,-0.21258237101896307],\"273\":[0.4081240310516723,-0.6227154065426951],\"274\":[0.2652134215683955,0.18387494587368242],\"275\":[0.48578796265378776,0.4831153839689048],\"276\":[0.5319905117587258,-0.6448427920703804],\"277\":[-0.5101155365374097,-0.14738144798285113],\"278\":[0.5121729119513356,-0.6568910188984147],\"279\":[0.05306102222616037,0.27565880668311926],\"28\":[0.10578579443995258,0.05984678034190531],\"280\":[0.04437689624725031,0.2571329933840721],\"282\":[0.5501745845444358,-0.6388907006082163],\"283\":[0.5624070336339082,-0.5823469810045341],\"284\":[-0.08130887250318679,-0.17559868866938635],\"285\":[0.16160307205090754,-0.026957405059379814],\"286\":[-0.4572504799107424,-0.23275685039076677],\"287\":[-0.5855283990268986,-0.1602693539962448],\"288\":[0.4876453238090322,-0.641212122320636],\"289\":[0.32984945870115256,0.2348035501348859],\"290\":[0.43270774924131666,0.32560798844434097],\"291\":[-0.07993250991177761,-0.029860408413502106],\"292\":[-0.15341759030547847,0.21063173866833154],\"293\":[-0.4412596016932464,-0.21031451748728933],\"294\":[0.5354496264688,-0.5508064806519705],\"295\":[-0.47295697518330054,-0.22694518813831677],\"296\":[0.10126524703169612,0.05001739309773223],\"297\":[-0.44107363273842637,-0.170140122401588],\"298\":[-0.48552656135116423,-0.19159365565059533],\"299\":[-0.38860027280653825,0.9141154251910758],\"3\":[0.34663863709158865,-0.6102749523094902],\"302\":[-0.1504253034747663,-0.06179441836892103],\"303\":[-0.1010879043732112,-0.16762217590621295],\"304\":[0.15314700389676125,-0.05422377409857134],\"305\":[-0.5056431012068079,-0.22078579928943867],\"306\":[0.5017074938282782,0.47289220382381875],\"308\":[-0.5383277272065329,-0.23873156127945924],\"309\":[-0.31131535752332995,0.9673440126423757],\"31\":[0.12268540311019475,-0.053893685392471746],\"310\":[-0.49015038213401657,-0.24662813244895826],\"311\":[-0.3574128855091107,0.8689503037302547],\"312\":[-0.21804222033743964,0.19424875495306324],\"313\":[0.17835990598083656,0.27076798256402584],\"314\":[0.018480826266425242,-0.08176506550231916],\"315\":[-0.34056328736358626,0.9754213931793542],\"316\":[-0.5224094111820281,-0.16465089848936917],\"317\":[-0.48625108096141756,-0.08889038333716368],\"319\":[0.047381623574169314,0.11281891302808228],\"32\":[0.08175383391520917,-0.08496617855699552],\"320\":[0.07666956785072616,-0.02489707182168673],\"321\":[0.5029979103862928,-0.5342636321299142],\"322\":[-0.21577092525230995,0.15889933290125977],\"323\":[-0.4855178851143673,-0.21312310233091655],\"324\":[-0.5547613716097596,-0.17279869522778918],\"325\":[-0.551132294152941,-0.2122984365035405],\"326\":[0.47031905740621294,0.4824081162970106],\"327\":[-0.577729168445888,-0.19405479418610452],\"328\":[-0.3235488512786377,0.9230557640781474],\"329\":[-0.06449015851579942,-0.20322791716475377],\"33\":[0.18815764808849858,0.07545672106470158],\"330\":[-0.5508912534722603,-0.2283018447378008],\"331\":[0.04701572238430768,0.008940521132956784],\"332\":[0.1495517279379491,-0.07422505231851868],\"333\":[-0.5315028147926986,-0.11305974137752715],\"335\":[-0.4020250460005526,0.9406004292853477],\"336\":[-0.5089010401285059,-0.09293671148192577],\"337\":[0.5232067985535409,-0.5923355708649566],\"338\":[0.5605100980660814,-0.5673081015101695],\"34\":[0.04501856138024419,-0.02039081944981351],\"340\":[0.5527244144211158,-0.5509755167328518],\"342\":[0.08651373561953932,0.015387174475393789],\"343\":[0.5442797666421217,-0.5864105897576349],\"344\":[-0.18965790762415768,0.12277880420138182],\"345\":[-0.4231636754216165,0.9333760778251503],\"346\":[-0.19146261589439909,0.15854122958900765],\"347\":[0.5164676936707482,-0.6422705754289707],\"348\":[-0.5730602128878911,-0.11658405259012675],\"349\":[0.5447451802498996,-0.5667561964818604],\"35\":[0.08098368705528022,-0.03599737809858819],\"351\":[-0.5355254066386569,-0.1301204070595537],\"352\":[-0.5607704795971172,-0.14025474250664463],\"353\":[-0.20189175922320943,0.10839806832803571],\"354\":[-0.15997939035241837,-0.05107932960790866],\"355\":[0.2405435939000602,0.25949074381623605],\"356\":[-0.5624427974445169,-0.19233512950557077],\"357\":[-0.005700810661863195,-0.012069498562848873],\"358\":[0.012254407307038794,0.0054902099524914835],\"359\":[0.13598968920269133,-0.0885118193494243],\"36\":[0.4287273933649363,0.270757414126988],\"360\":[-0.44846328553176656,-0.1475367061787226],\"362\":[-0.4850752958301678,-0.12303303773812165],\"363\":[0.47108015059437813,-0.65884052048838],\"365\":[0.13340836620748528,-0.07774394772736361],\"366\":[0.2958400793612589,0.23648425869405668],\"367\":[0.5074483660389482,-0.5694774136952387],\"368\":[-0.07039098148410608,0.23707856074687927],\"369\":[0.11955297402408015,-0.0984503796643055],\"370\":[-0.5639757860623728,-0.21891442177592418],\"371\":[-0.5740093954137088,-0.16398061496141025],\"373\":[0.15452984514124066,-0.015237242438752536],\"375\":[-0.5438689291026806,-0.14327555843387887],\"376\":[0.4947154566928605,-0.5504226665357341],\"378\":[-0.5616403868311214,-0.15516647643347423],\"379\":[0.13704843863872498,0.009381066517789416],\"38\":[0.15490010308341504,0.10331939946511096],\"380\":[-0.32320313405412215,0.8728756817105748],\"381\":[-0.5789161392947507,-0.14763824766429384],\"382\":[-0.32100481449724927,0.9414293240047635],\"383\":[0.17748042292043087,0.1303991178475763],\"384\":[-0.3349642079940314,0.8472486439893692],\"386\":[-0.5533140607207923,-0.12353212726101949],\"387\":[0.5006005304124133,-0.6676733136225981],\"389\":[0.13810174132519232,0.020228177362922924],\"39\":[0.10877523082503192,-0.0642754779284742],\"390\":[-0.20569398004394093,0.20346233567011415],\"391\":[-0.20424475395688585,0.1883495360859949],\"392\":[-0.5231492936238962,-0.24500687542436858],\"394\":[0.5067268081725312,0.4449231719683455],\"395\":[-0.4577160498882587,-0.12251225057453098],\"396\":[0.48599694966672463,0.46589952571680604],\"399\":[0.20234108259252484,0.28392049268624614],\"4\":[0.25500915474294544,0.2145365752676618],\"40\":[0.05106236739752065,-0.03115829076296062],\"400\":[-0.5052165439468704,-0.20303001541033683],\"401\":[-0.569803694904787,-0.20607518229137203],\"402\":[-0.35722224314000506,0.9634083800532292],\"405\":[0.5382559492018117,-0.5363219250478163],\"406\":[-0.41732752624933833,0.9660668745996837],\"407\":[0.5617515641459903,-0.5965624505231581],\"408\":[-0.42139306527080467,0.9492508548729537],\"409\":[-0.5365718265178445,-0.09844394089075045],\"41\":[0.09671371995186545,0.00801261770850916],\"410\":[-0.55170186636623,-0.09302278925622573],\"411\":[-0.46713794350001336,-0.2059719558127471],\"412\":[-0.3741187137797652,0.9998651139434244],\"413\":[-0.5442287634961632,-0.20358514396262956],\"414\":[-0.19474647560357586,0.2099155338004091],\"415\":[0.14850873155930847,-0.04367969510487151],\"416\":[0.5501094153220174,-0.6112045622658449],\"417\":[0.5062994297722975,0.45908701343271235],\"418\":[0.5581197345801377,-0.6260415885237899],\"419\":[-0.4006765170514098,0.9556948832736609],\"42\":[0.058829807016524724,-0.012655157222905607],\"420\":[0.27893218802122305,0.021449916533501572],\"424\":[-0.3312507469260189,0.9591240025051891],\"426\":[0.14547613787515581,-0.030698729427923854],\"427\":[-0.5059037664749657,-0.24791807175313726],\"428\":[-0.5638599106671817,-0.10509711876820584],\"429\":[-0.3879759534311634,0.9689869570066757],\"43\":[0.07703995237074535,-0.013564216726349988],\"430\":[0.16413262280081717,-0.04118692645659077],\"431\":[-0.4064332915263026,0.9072757334063695],\"432\":[-0.40477424097249637,0.9767028005875845],\"433\":[-0.41525426515849595,0.9200393632031619],\"435\":[-0.3366046944042253,0.9923792505158431],\"436\":[0.5282998001787208,-0.5720756199105805],\"437\":[-0.5811237695426111,-0.13454890687173288],\"438\":[0.4982581769054787,-0.6501568071345154],\"44\":[0.01532391306073541,-0.01605381425178648],\"440\":[-0.31924446569744525,0.8357671232469291],\"441\":[-0.37938910293343997,0.9846390982434123],\"45\":[0.03688665660581355,-0.051050541812810844],\"46\":[-0.0022951022548716674,0.04151090772599391],\"47\":[0.11417350152114512,-0.03591539856927215],\"48\":[0.41384304741138944,-0.5880265039470934],\"49\":[0.47669980684352187,0.256161431035527],\"5\":[0.09104797427774385,-0.005757000136717109],\"500\":[-0.04629444187313131,0.2651082682370462],\"501\":[0.4179880221840396,-0.6174011790855864],\"502\":[-0.001935694830415566,-0.03294205291596112],\"51\":[-0.011472084084102715,-0.049109428316284065],\"52\":[0.3125911209490575,0.27203174662429475],\"53\":[0.0687269227419843,0.24767496333437272],\"54\":[0.4433338031465355,0.3108888326797735],\"56\":[0.35069361436668917,-0.6651470543483963],\"57\":[0.04469609932686253,0.06761209941728247],\"58\":[-0.01682745516386793,0.24670955490288002],\"59\":[0.4344367779782505,0.25941694078219485],\"6\":[0.08825697555012067,0.08653656018993573],\"60\":[0.39502021694442974,-0.596276245415477],\"61\":[0.12048039636558791,0.06423551111246778],\"62\":[-0.22301114755973253,0.12141027794261185],\"63\":[0.3121897721973988,0.25535445492348113],\"64\":[0.335375794742012,-0.6603409371000685],\"65\":[0.47399052246249923,0.21471125470389293],\"66\":[0.5252088268649907,-0.664780284900027],\"67\":[0.4003576073311724,-0.5617881740469555],\"68\":[-0.0650945928697239,-0.185406222732293],\"69\":[0.00589745681477583,0.07032568363046474],\"70\":[-0.040931638738629574,0.09939497947837772],\"71\":[0.40582250469782166,-0.5962554871054125],\"72\":[-0.2057917037687776,0.1718865347801366],\"73\":[-0.005089324127369416,0.2707553970505235],\"74\":[0.3670541004223004,-0.6720840585794012],\"75\":[-0.18228815464400475,0.19949324945316788],\"76\":[0.5093521636964288,-0.6093623555457098],\"77\":[0.06728989460239489,0.03774127223143872],\"78\":[-0.23183148067027645,0.13607660691411927],\"79\":[0.349186928537475,0.3257229031989749],\"8\":[-0.024196104110163742,0.05560687471730803],\"80\":[0.29810765488168606,0.27537533878988085],\"81\":[0.061353445242480105,-0.043030457134065385],\"82\":[0.35005501074605033,-0.6878886122299821],\"84\":[-0.18861287711958588,0.18327220741594907],\"86\":[0.041558233945962655,0.23991631987220663],\"87\":[0.3341424823639539,-0.6937637009607995],\"89\":[-0.02448603547114323,0.1126549725999018],\"9\":[0.029765199520069723,0.006558127506663607],\"90\":[0.028417167487296956,0.2827220604465931],\"91\":[-0.16855004617593466,0.18735515558710442],\"92\":[0.04478208321776055,0.02705549646659033],\"93\":[-0.5386680416691917,-0.22384114918551107],\"94\":[0.3954022769365797,-0.5841142978175585],\"95\":[0.10101465588835089,-0.07814402821948119],\"96\":[-0.08782802261574625,-0.015340695799940204],\"97\":[0.0930671370890424,0.21786825316022407],\"98\":[-0.5109925878287521,-0.18415149596625244],\"99\":[0.36618276484425905,-0.6889470997635208]}},\"id\":\"1726\",\"type\":\"StaticLayoutProvider\"},{\"attributes\":{\"fill_alpha\":{\"value\":0.2},\"fill_color\":{\"field\":\"node_color\"},\"hatch_alpha\":{\"value\":0.2},\"hatch_color\":{\"field\":\"node_color\"},\"line_alpha\":{\"value\":0.2},\"marker\":{\"field\":\"node_marker\"},\"size\":{\"value\":30}},\"id\":\"1731\",\"type\":\"Scatter\"},{\"attributes\":{},\"id\":\"1704\",\"type\":\"PanTool\"},{\"attributes\":{\"axis\":{\"id\":\"1695\"},\"coordinates\":null,\"grid_line_color\":null,\"group\":null,\"ticker\":null},\"id\":\"1698\",\"type\":\"Grid\"},{\"attributes\":{\"coordinates\":null,\"edge_renderer\":{\"id\":\"1738\"},\"group\":null,\"inspection_policy\":{\"id\":\"1751\"},\"layout_provider\":{\"id\":\"1726\"},\"node_renderer\":{\"id\":\"1732\"},\"selection_policy\":{\"id\":\"1749\"}},\"id\":\"1740\",\"type\":\"GraphRenderer\"}],\"root_ids\":[\"1682\"]},\"title\":\"Bokeh Application\",\"version\":\"2.4.3\"}};\n",
       "    var render_items = [{\"docid\":\"80aab876-76aa-4e66-b750-23ee99c032e6\",\"root_ids\":[\"1682\"],\"roots\":{\"1682\":\"8a5edf52-f68d-4c49-8148-103ce3fd422d\"}}];\n",
       "    root.Bokeh.embed.embed_items_notebook(docs_json, render_items);\n",
       "    for (const render_item of render_items) {\n",
       "      for (const root_id of render_item.root_ids) {\n",
       "\tconst id_el = document.getElementById(root_id)\n",
       "\tif (id_el.children.length && (id_el.children[0].className === 'bk-root')) {\n",
       "\t  const root_el = id_el.children[0]\n",
       "\t  root_el.id = root_el.id + '-rendered'\n",
       "\t}\n",
       "      }\n",
       "    }\n",
       "  }\n",
       "  if (root.Bokeh !== undefined && root.Bokeh.Panel !== undefined) {\n",
       "    embed_document(root);\n",
       "  } else {\n",
       "    var attempts = 0;\n",
       "    var timer = setInterval(function(root) {\n",
       "      if (root.Bokeh !== undefined && root.Bokeh.Panel !== undefined) {\n",
       "        clearInterval(timer);\n",
       "        embed_document(root);\n",
       "      } else if (document.readyState == \"complete\") {\n",
       "        attempts++;\n",
       "        if (attempts > 200) {\n",
       "          clearInterval(timer);\n",
       "          console.log(\"Bokeh: ERROR: Unable to run BokehJS code because BokehJS library is missing\");\n",
       "        }\n",
       "      }\n",
       "    }, 25, root)\n",
       "  }\n",
       "})(window);</script>"
      ],
      "text/plain": [
       ":Overlay\n",
       "   .Graph.I  :Graph   [start,end]\n",
       "   .Labels.I :Labels   [x,y]   (text)"
      ]
     },
     "execution_count": 66,
     "metadata": {
      "application/vnd.holoviews_exec.v0+json": {
       "id": "1682"
      }
     },
     "output_type": "execute_result"
    }
   ],
   "source": [
    "\n",
    "nx.set_node_attributes(G, node_shape_dict, 'node_shape')\n",
    "nx.set_node_attributes(G, node_color_dict, 'node_color')\n",
    "\n",
    "# hvnx.draw(G, pos=pos, width=800, height=600, node_color=node_color, node_marker=node_shape, with_labels=True)\n",
    "vis = hv.Graph.from_networkx(G, positions=pos).opts(node_marker='node_shape', node_color='node_color')\n",
    "vis.opts(width=900, height=800)\n",
    "\n",
    "vis.opts(\n",
    "    opts.Graph(node_size=30))\n",
    "\n",
    "# create labels\n",
    "labels = hv.Labels(\n",
    "    {('x', 'y'): vis.nodes.array([0, 1]), 'text': attr_list['article_id'].to_list()},\n",
    "    ['x', 'y'], 'text'\n",
    ")\n",
    "\n",
    "vis*labels"
   ]
  },
  {
   "cell_type": "code",
   "execution_count": 67,
   "id": "ac7fba92",
   "metadata": {},
   "outputs": [],
   "source": [
    "seed = 42\n",
    "G = nx.DiGraph()\n",
    "G.add_nodes_from(attr_dict)\n",
    "G.add_edges_from([(x, y) for x, y in zip(edge_list['from'].to_list(), edge_list['to'].to_list())])"
   ]
  },
  {
   "cell_type": "code",
   "execution_count": 68,
   "id": "0f1b32aa",
   "metadata": {},
   "outputs": [],
   "source": [
    "attr_list['inclusion_number'] = [x[1] for x in list(G.in_degree())]"
   ]
  },
  {
   "cell_type": "code",
   "execution_count": 69,
   "id": "964d6388",
   "metadata": {},
   "outputs": [
    {
     "data": {
      "text/html": [
       "<div>\n",
       "<style scoped>\n",
       "    .dataframe tbody tr th:only-of-type {\n",
       "        vertical-align: middle;\n",
       "    }\n",
       "\n",
       "    .dataframe tbody tr th {\n",
       "        vertical-align: top;\n",
       "    }\n",
       "\n",
       "    .dataframe thead th {\n",
       "        text-align: right;\n",
       "    }\n",
       "</style>\n",
       "<table border=\"1\" class=\"dataframe\">\n",
       "  <thead>\n",
       "    <tr style=\"text-align: right;\">\n",
       "      <th></th>\n",
       "      <th>article_id</th>\n",
       "      <th>node_type</th>\n",
       "      <th>temporal_seq_rank</th>\n",
       "      <th>publication_year</th>\n",
       "      <th>inclusion_number</th>\n",
       "    </tr>\n",
       "  </thead>\n",
       "  <tbody>\n",
       "    <tr>\n",
       "      <th>0</th>\n",
       "      <td>1</td>\n",
       "      <td>Systematic Review Report</td>\n",
       "      <td>219.5</td>\n",
       "      <td>2013</td>\n",
       "      <td>0</td>\n",
       "    </tr>\n",
       "    <tr>\n",
       "      <th>1</th>\n",
       "      <td>2</td>\n",
       "      <td>Systematic Review Report</td>\n",
       "      <td>204.0</td>\n",
       "      <td>2013</td>\n",
       "      <td>0</td>\n",
       "    </tr>\n",
       "    <tr>\n",
       "      <th>2</th>\n",
       "      <td>3</td>\n",
       "      <td>Systematic Review Report</td>\n",
       "      <td>215.5</td>\n",
       "      <td>2013</td>\n",
       "      <td>0</td>\n",
       "    </tr>\n",
       "    <tr>\n",
       "      <th>3</th>\n",
       "      <td>4</td>\n",
       "      <td>Systematic Review Report</td>\n",
       "      <td>217.0</td>\n",
       "      <td>2013</td>\n",
       "      <td>0</td>\n",
       "    </tr>\n",
       "    <tr>\n",
       "      <th>4</th>\n",
       "      <td>5</td>\n",
       "      <td>Systematic Review Report</td>\n",
       "      <td>200.0</td>\n",
       "      <td>2014</td>\n",
       "      <td>0</td>\n",
       "    </tr>\n",
       "  </tbody>\n",
       "</table>\n",
       "</div>"
      ],
      "text/plain": [
       "   article_id                 node_type  temporal_seq_rank  publication_year  \\\n",
       "0           1  Systematic Review Report              219.5              2013   \n",
       "1           2  Systematic Review Report              204.0              2013   \n",
       "2           3  Systematic Review Report              215.5              2013   \n",
       "3           4  Systematic Review Report              217.0              2013   \n",
       "4           5  Systematic Review Report              200.0              2014   \n",
       "\n",
       "   inclusion_number  \n",
       "0                 0  \n",
       "1                 0  \n",
       "2                 0  \n",
       "3                 0  \n",
       "4                 0  "
      ]
     },
     "execution_count": 69,
     "metadata": {},
     "output_type": "execute_result"
    }
   ],
   "source": [
    "attr_list.head()"
   ]
  },
  {
   "cell_type": "code",
   "execution_count": 70,
   "id": "7e7129c5",
   "metadata": {},
   "outputs": [
    {
     "data": {
      "text/html": [
       "<div>\n",
       "<style scoped>\n",
       "    .dataframe tbody tr th:only-of-type {\n",
       "        vertical-align: middle;\n",
       "    }\n",
       "\n",
       "    .dataframe tbody tr th {\n",
       "        vertical-align: top;\n",
       "    }\n",
       "\n",
       "    .dataframe thead th {\n",
       "        text-align: right;\n",
       "    }\n",
       "</style>\n",
       "<table border=\"1\" class=\"dataframe\">\n",
       "  <thead>\n",
       "    <tr style=\"text-align: right;\">\n",
       "      <th></th>\n",
       "      <th>article_id</th>\n",
       "      <th>node_type</th>\n",
       "      <th>temporal_seq_rank</th>\n",
       "      <th>publication_year</th>\n",
       "      <th>inclusion_number</th>\n",
       "    </tr>\n",
       "  </thead>\n",
       "  <tbody>\n",
       "    <tr>\n",
       "      <th>27</th>\n",
       "      <td>31</td>\n",
       "      <td>Primary Study Report</td>\n",
       "      <td>1.0</td>\n",
       "      <td>1979</td>\n",
       "      <td>1</td>\n",
       "    </tr>\n",
       "    <tr>\n",
       "      <th>28</th>\n",
       "      <td>32</td>\n",
       "      <td>Primary Study Report</td>\n",
       "      <td>2.0</td>\n",
       "      <td>1979</td>\n",
       "      <td>1</td>\n",
       "    </tr>\n",
       "    <tr>\n",
       "      <th>29</th>\n",
       "      <td>33</td>\n",
       "      <td>Primary Study Report</td>\n",
       "      <td>3.0</td>\n",
       "      <td>1979</td>\n",
       "      <td>1</td>\n",
       "    </tr>\n",
       "    <tr>\n",
       "      <th>30</th>\n",
       "      <td>34</td>\n",
       "      <td>Primary Study Report</td>\n",
       "      <td>4.0</td>\n",
       "      <td>1979</td>\n",
       "      <td>3</td>\n",
       "    </tr>\n",
       "    <tr>\n",
       "      <th>31</th>\n",
       "      <td>35</td>\n",
       "      <td>Primary Study Report</td>\n",
       "      <td>5.0</td>\n",
       "      <td>1981</td>\n",
       "      <td>3</td>\n",
       "    </tr>\n",
       "  </tbody>\n",
       "</table>\n",
       "</div>"
      ],
      "text/plain": [
       "    article_id             node_type  temporal_seq_rank  publication_year  \\\n",
       "27          31  Primary Study Report                1.0              1979   \n",
       "28          32  Primary Study Report                2.0              1979   \n",
       "29          33  Primary Study Report                3.0              1979   \n",
       "30          34  Primary Study Report                4.0              1979   \n",
       "31          35  Primary Study Report                5.0              1981   \n",
       "\n",
       "    inclusion_number  \n",
       "27                 1  \n",
       "28                 1  \n",
       "29                 1  \n",
       "30                 3  \n",
       "31                 3  "
      ]
     },
     "execution_count": 70,
     "metadata": {},
     "output_type": "execute_result"
    }
   ],
   "source": [
    "attr_list_psr = attr_list.loc[27:, ].copy()\n",
    "attr_list_psr.head()"
   ]
  },
  {
   "cell_type": "code",
   "execution_count": 71,
   "id": "57ef30db",
   "metadata": {},
   "outputs": [
    {
     "data": {
      "text/html": [
       "<div>\n",
       "<style scoped>\n",
       "    .dataframe tbody tr th:only-of-type {\n",
       "        vertical-align: middle;\n",
       "    }\n",
       "\n",
       "    .dataframe tbody tr th {\n",
       "        vertical-align: top;\n",
       "    }\n",
       "\n",
       "    .dataframe thead th {\n",
       "        text-align: right;\n",
       "    }\n",
       "</style>\n",
       "<table border=\"1\" class=\"dataframe\">\n",
       "  <thead>\n",
       "    <tr style=\"text-align: right;\">\n",
       "      <th></th>\n",
       "      <th>article_id</th>\n",
       "      <th>node_type</th>\n",
       "      <th>temporal_seq_rank</th>\n",
       "      <th>publication_year</th>\n",
       "      <th>inclusion_number</th>\n",
       "    </tr>\n",
       "  </thead>\n",
       "  <tbody>\n",
       "    <tr>\n",
       "      <th>27</th>\n",
       "      <td>31</td>\n",
       "      <td>Primary Study Report</td>\n",
       "      <td>1.0</td>\n",
       "      <td>1979</td>\n",
       "      <td>1</td>\n",
       "    </tr>\n",
       "    <tr>\n",
       "      <th>28</th>\n",
       "      <td>32</td>\n",
       "      <td>Primary Study Report</td>\n",
       "      <td>2.0</td>\n",
       "      <td>1979</td>\n",
       "      <td>1</td>\n",
       "    </tr>\n",
       "    <tr>\n",
       "      <th>29</th>\n",
       "      <td>33</td>\n",
       "      <td>Primary Study Report</td>\n",
       "      <td>3.0</td>\n",
       "      <td>1979</td>\n",
       "      <td>1</td>\n",
       "    </tr>\n",
       "    <tr>\n",
       "      <th>30</th>\n",
       "      <td>34</td>\n",
       "      <td>Primary Study Report</td>\n",
       "      <td>4.0</td>\n",
       "      <td>1979</td>\n",
       "      <td>3</td>\n",
       "    </tr>\n",
       "    <tr>\n",
       "      <th>31</th>\n",
       "      <td>35</td>\n",
       "      <td>Primary Study Report</td>\n",
       "      <td>5.0</td>\n",
       "      <td>1981</td>\n",
       "      <td>3</td>\n",
       "    </tr>\n",
       "  </tbody>\n",
       "</table>\n",
       "</div>"
      ],
      "text/plain": [
       "    article_id             node_type  temporal_seq_rank  publication_year  \\\n",
       "27          31  Primary Study Report                1.0              1979   \n",
       "28          32  Primary Study Report                2.0              1979   \n",
       "29          33  Primary Study Report                3.0              1979   \n",
       "30          34  Primary Study Report                4.0              1979   \n",
       "31          35  Primary Study Report                5.0              1981   \n",
       "\n",
       "    inclusion_number  \n",
       "27                 1  \n",
       "28                 1  \n",
       "29                 1  \n",
       "30                 3  \n",
       "31                 3  "
      ]
     },
     "execution_count": 71,
     "metadata": {},
     "output_type": "execute_result"
    }
   ],
   "source": [
    "# compute PSR-UR\n",
    "attr_list_psr.head()"
   ]
  },
  {
   "cell_type": "code",
   "execution_count": 72,
   "id": "1a2b1cd7",
   "metadata": {},
   "outputs": [],
   "source": [
    "srr_rank = attr_list.loc[:26, 'temporal_seq_rank'].to_list()"
   ]
  },
  {
   "cell_type": "code",
   "execution_count": 73,
   "id": "4ff46f82",
   "metadata": {},
   "outputs": [],
   "source": [
    "avail_no_of_srr_list = [sum([x < y for y in srr_rank]) for x in attr_list_psr['temporal_seq_rank'].to_list()]\n",
    "inclusion_number_list = attr_list_psr['inclusion_number'].to_list()\n",
    "psr_ur_list = [round(x/y,2) for x, y in zip(inclusion_number_list, avail_no_of_srr_list)]\n",
    "pub_year_list = attr_list_psr['publication_year'].to_list()"
   ]
  },
  {
   "cell_type": "code",
   "execution_count": 74,
   "id": "558bc106",
   "metadata": {},
   "outputs": [],
   "source": [
    "attr_list_psr.loc[:, 'PSR-UR'] = psr_ur_list"
   ]
  },
  {
   "cell_type": "code",
   "execution_count": 86,
   "id": "20429f3f",
   "metadata": {},
   "outputs": [
    {
     "data": {
      "image/png": "[encoded data removed]",
      "text/plain": [
       "<Figure size 640x480 with 2 Axes>"
      ]
     },
     "metadata": {},
     "output_type": "display_data"
    }
   ],
   "source": [
    "plt.scatter(inclusion_number_list, psr_ur_list, c=pub_year_list, edgecolor='black', s=70)\n",
    "plt.xlabel(\"Inclusion Number\", fontsize=12,fontweight=\"bold\")\n",
    "plt.ylabel(\"PSR Utilization Rate (PSR-UR)\", fontsize=12,fontweight=\"bold\")\n",
    "plt.xlim(-1, 13)\n",
    "plt.ylim(-0.05, 1.05)\n",
    "plt.colorbar()\n",
    "plt.title(\"ExRx\", fontsize=15,fontweight=\"bold\")\n",
    "plt.show()"
   ]
  },
  {
   "cell_type": "code",
   "execution_count": 87,
   "id": "d20ba5c1",
   "metadata": {},
   "outputs": [],
   "source": [
    "plt.scatter(inclusion_number_list, psr_ur_list, c=pub_year_list, edgecolor='black', s=70)\n",
    "plt.xlabel(\"Inclusion Number\", fontsize=12,fontweight=\"bold\")\n",
    "plt.ylabel(\"PSR Utilization Rate (PSR-UR)\", fontsize=12,fontweight=\"bold\")\n",
    "plt.xlim(-1, 13)\n",
    "plt.ylim(-0.05, 1.05)\n",
    "plt.colorbar()\n",
    "plt.title(\"ExRx\", fontsize=15,fontweight=\"bold\")\n",
    "plt.gcf().set_size_inches(6,5)\n",
    "plt.savefig(\"ExRx.png\", dpi=300)\n",
    "plt.close()"
   ]
  },
  {
   "cell_type": "code",
   "execution_count": 77,
   "id": "0e5aa9b6",
   "metadata": {},
   "outputs": [
    {
     "data": {},
     "metadata": {},
     "output_type": "display_data"
    },
    {
     "data": {
      "application/vnd.holoviews_exec.v0+json": "",
      "text/html": [
       "<div id='1851'>\n",
       "  <div class=\"bk-root\" id=\"0985acdf-0367-46da-b21e-7b7038c51e48\" data-root-id=\"1851\"></div>\n",
       "</div>\n",
       "<script type=\"application/javascript\">(function(root) {\n",
       "  function embed_document(root) {\n",
       "    var docs_json = {\"3b32d814-4cd0-42c0-a37a-a3bc3c1a0ca9\":{\"defs\":[{\"extends\":null,\"module\":null,\"name\":\"ReactiveHTML1\",\"overrides\":[],\"properties\":[]},{\"extends\":null,\"module\":null,\"name\":\"FlexBox1\",\"overrides\":[],\"properties\":[{\"default\":\"flex-start\",\"kind\":null,\"name\":\"align_content\"},{\"default\":\"flex-start\",\"kind\":null,\"name\":\"align_items\"},{\"default\":\"row\",\"kind\":null,\"name\":\"flex_direction\"},{\"default\":\"wrap\",\"kind\":null,\"name\":\"flex_wrap\"},{\"default\":\"flex-start\",\"kind\":null,\"name\":\"justify_content\"}]},{\"extends\":null,\"module\":null,\"name\":\"GridStack1\",\"overrides\":[],\"properties\":[{\"default\":\"warn\",\"kind\":null,\"name\":\"mode\"},{\"default\":null,\"kind\":null,\"name\":\"ncols\"},{\"default\":null,\"kind\":null,\"name\":\"nrows\"},{\"default\":true,\"kind\":null,\"name\":\"allow_resize\"},{\"default\":true,\"kind\":null,\"name\":\"allow_drag\"},{\"default\":[],\"kind\":null,\"name\":\"state\"}]},{\"extends\":null,\"module\":null,\"name\":\"click1\",\"overrides\":[],\"properties\":[{\"default\":\"\",\"kind\":null,\"name\":\"terminal_output\"},{\"default\":\"\",\"kind\":null,\"name\":\"debug_name\"},{\"default\":0,\"kind\":null,\"name\":\"clears\"}]},{\"extends\":null,\"module\":null,\"name\":\"NotificationAreaBase1\",\"overrides\":[],\"properties\":[{\"default\":\"bottom-right\",\"kind\":null,\"name\":\"position\"},{\"default\":0,\"kind\":null,\"name\":\"_clear\"}]},{\"extends\":null,\"module\":null,\"name\":\"NotificationArea1\",\"overrides\":[],\"properties\":[{\"default\":[],\"kind\":null,\"name\":\"notifications\"},{\"default\":\"bottom-right\",\"kind\":null,\"name\":\"position\"},{\"default\":0,\"kind\":null,\"name\":\"_clear\"},{\"default\":[{\"background\":\"#ffc107\",\"icon\":{\"className\":\"fas fa-exclamation-triangle\",\"color\":\"white\",\"tagName\":\"i\"},\"type\":\"warning\"},{\"background\":\"#007bff\",\"icon\":{\"className\":\"fas fa-info-circle\",\"color\":\"white\",\"tagName\":\"i\"},\"type\":\"info\"}],\"kind\":null,\"name\":\"types\"}]},{\"extends\":null,\"module\":null,\"name\":\"Notification\",\"overrides\":[],\"properties\":[{\"default\":null,\"kind\":null,\"name\":\"background\"},{\"default\":3000,\"kind\":null,\"name\":\"duration\"},{\"default\":null,\"kind\":null,\"name\":\"icon\"},{\"default\":\"\",\"kind\":null,\"name\":\"message\"},{\"default\":null,\"kind\":null,\"name\":\"notification_type\"},{\"default\":false,\"kind\":null,\"name\":\"_destroyed\"}]},{\"extends\":null,\"module\":null,\"name\":\"TemplateActions1\",\"overrides\":[],\"properties\":[{\"default\":0,\"kind\":null,\"name\":\"open_modal\"},{\"default\":0,\"kind\":null,\"name\":\"close_modal\"}]},{\"extends\":null,\"module\":null,\"name\":\"MaterialTemplateActions1\",\"overrides\":[],\"properties\":[{\"default\":0,\"kind\":null,\"name\":\"open_modal\"},{\"default\":0,\"kind\":null,\"name\":\"close_modal\"}]}],\"roots\":{\"references\":[{\"attributes\":{\"below\":[{\"id\":\"1864\"}],\"center\":[{\"id\":\"1867\"},{\"id\":\"1871\"}],\"height\":400,\"left\":[{\"id\":\"1868\"}],\"margin\":[5,5,5,5],\"min_border_bottom\":10,\"min_border_left\":10,\"min_border_right\":10,\"min_border_top\":10,\"renderers\":[{\"id\":\"1891\"}],\"sizing_mode\":\"fixed\",\"title\":{\"id\":\"1856\"},\"toolbar\":{\"id\":\"1878\"},\"width\":400,\"x_range\":{\"id\":\"1852\"},\"x_scale\":{\"id\":\"1860\"},\"y_range\":{\"id\":\"1853\"},\"y_scale\":{\"id\":\"1862\"}},\"id\":\"1855\",\"subtype\":\"Figure\",\"type\":\"Plot\"},{\"attributes\":{\"coordinates\":null,\"group\":null,\"text_color\":\"black\",\"text_font_size\":\"12pt\"},\"id\":\"1856\",\"type\":\"Title\"},{\"attributes\":{\"axis_label\":\"inclusion_number\",\"coordinates\":null,\"formatter\":{\"id\":\"1895\"},\"group\":null,\"major_label_policy\":{\"id\":\"1896\"},\"ticker\":{\"id\":\"1865\"}},\"id\":\"1864\",\"type\":\"LinearAxis\"},{\"attributes\":{},\"id\":\"1860\",\"type\":\"LinearScale\"},{\"attributes\":{},\"id\":\"1865\",\"type\":\"BasicTicker\"},{\"attributes\":{\"axis\":{\"id\":\"1864\"},\"coordinates\":null,\"grid_line_color\":null,\"group\":null,\"ticker\":null},\"id\":\"1867\",\"type\":\"Grid\"},{\"attributes\":{},\"id\":\"1886\",\"type\":\"Selection\"},{\"attributes\":{\"data\":{\"PSR-UR\":{\"__ndarray__\":\"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\",\"dtype\":\"float64\",\"order\":\"little\",\"shape\":[365]},\"PSR_hyphen_minus_UR\":{\"__ndarray__\":\"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\",\"dtype\":\"float64\",\"order\":\"little\",\"shape\":[365]},\"inclusion_number\":[1,1,1,3,3,2,2,1,4,4,4,5,3,2,6,2,2,1,1,1,1,1,1,8,1,2,2,8,1,1,1,1,1,2,1,11,1,2,1,1,1,1,1,6,1,2,1,2,1,1,1,1,3,1,1,6,1,2,1,1,1,1,1,1,1,2,2,1,2,5,1,2,1,1,11,1,2,1,1,1,2,1,1,1,2,1,1,1,5,1,2,1,1,2,1,3,1,1,3,1,1,6,1,1,1,1,1,1,1,7,1,9,1,1,1,1,1,5,1,1,1,1,1,1,1,1,5,1,1,1,7,1,2,1,1,1,2,7,1,1,1,1,1,1,2,1,4,1,1,6,2,1,1,1,2,1,1,2,1,1,1,2,1,1,1,1,1,7,2,1,1,1,1,1,1,9,2,1,1,3,3,1,3,1,1,1,1,1,1,5,1,1,1,1,1,1,1,1,2,1,1,1,1,1,3,1,1,5,1,1,1,1,1,1,1,1,1,1,1,1,2,4,1,1,1,1,1,1,1,1,1,1,1,1,1,1,1,1,1,1,1,1,2,1,1,1,5,1,1,1,1,1,1,1,1,1,1,1,1,1,1,3,3,1,1,1,1,1,1,1,1,1,1,6,1,1,1,1,1,1,1,4,1,1,1,1,1,1,1,1,1,1,4,1,1,2,4,1,1,1,1,1,2,1,1,1,1,1,1,1,1,1,2,1,1,1,2,1,1,1,2,1,1,1,1,1,1,1,1,1,1,1,1,1,1,1,1,1,1,1,1,1,1,1,1,1,1,1,1,1,1,1,1,1,1,1,1,1,1,1,1,1,1,2,2]},\"selected\":{\"id\":\"1886\"},\"selection_policy\":{\"id\":\"1911\"}},\"id\":\"1885\",\"type\":\"ColumnDataSource\"},{\"attributes\":{},\"id\":\"1873\",\"type\":\"PanTool\"},{\"attributes\":{},\"id\":\"1911\",\"type\":\"UnionRenderers\"},{\"attributes\":{\"axis_label\":\"PSR-UR\",\"coordinates\":null,\"formatter\":{\"id\":\"1898\"},\"group\":null,\"major_label_policy\":{\"id\":\"1899\"},\"ticker\":{\"id\":\"1869\"}},\"id\":\"1868\",\"type\":\"LinearAxis\"},{\"attributes\":{\"axis\":{\"id\":\"1868\"},\"coordinates\":null,\"dimension\":1,\"grid_line_color\":null,\"group\":null,\"ticker\":null},\"id\":\"1871\",\"type\":\"Grid\"},{\"attributes\":{},\"id\":\"1869\",\"type\":\"BasicTicker\"},{\"attributes\":{\"angle\":{\"value\":0.0},\"fill_alpha\":{\"value\":1.0},\"fill_color\":{\"value\":\"#30a2da\"},\"hatch_alpha\":{\"value\":1.0},\"hatch_color\":{\"value\":\"#30a2da\"},\"hatch_scale\":{\"value\":12.0},\"hatch_weight\":{\"value\":1.0},\"line_alpha\":{\"value\":1.0},\"line_cap\":{\"value\":\"butt\"},\"line_color\":{\"value\":\"#30a2da\"},\"line_dash\":{\"value\":[]},\"line_dash_offset\":{\"value\":0},\"line_join\":{\"value\":\"bevel\"},\"line_width\":{\"value\":1},\"marker\":{\"value\":\"circle\"},\"size\":{\"value\":5.477225575051661},\"x\":{\"field\":\"inclusion_number\"},\"y\":{\"field\":\"PSR-UR\"}},\"id\":\"1893\",\"type\":\"Scatter\"},{\"attributes\":{},\"id\":\"1874\",\"type\":\"WheelZoomTool\"},{\"attributes\":{\"fill_color\":{\"value\":\"#30a2da\"},\"hatch_color\":{\"value\":\"#30a2da\"},\"line_color\":{\"value\":\"#30a2da\"},\"size\":{\"value\":5.477225575051661},\"x\":{\"field\":\"inclusion_number\"},\"y\":{\"field\":\"PSR-UR\"}},\"id\":\"1888\",\"type\":\"Scatter\"},{\"attributes\":{},\"id\":\"1872\",\"type\":\"SaveTool\"},{\"attributes\":{\"fill_alpha\":{\"value\":0.1},\"fill_color\":{\"value\":\"#30a2da\"},\"hatch_alpha\":{\"value\":0.1},\"hatch_color\":{\"value\":\"#30a2da\"},\"line_alpha\":{\"value\":0.1},\"line_color\":{\"value\":\"#30a2da\"},\"size\":{\"value\":5.477225575051661},\"x\":{\"field\":\"inclusion_number\"},\"y\":{\"field\":\"PSR-UR\"}},\"id\":\"1889\",\"type\":\"Scatter\"},{\"attributes\":{\"coordinates\":null,\"data_source\":{\"id\":\"1885\"},\"glyph\":{\"id\":\"1888\"},\"group\":null,\"hover_glyph\":null,\"muted_glyph\":{\"id\":\"1890\"},\"nonselection_glyph\":{\"id\":\"1889\"},\"selection_glyph\":{\"id\":\"1893\"},\"view\":{\"id\":\"1892\"}},\"id\":\"1891\",\"type\":\"GlyphRenderer\"},{\"attributes\":{\"overlay\":{\"id\":\"1877\"}},\"id\":\"1875\",\"type\":\"BoxZoomTool\"},{\"attributes\":{\"source\":{\"id\":\"1885\"}},\"id\":\"1892\",\"type\":\"CDSView\"},{\"attributes\":{},\"id\":\"1876\",\"type\":\"ResetTool\"},{\"attributes\":{\"fill_alpha\":{\"value\":0.2},\"fill_color\":{\"value\":\"#30a2da\"},\"hatch_alpha\":{\"value\":0.2},\"hatch_color\":{\"value\":\"#30a2da\"},\"line_alpha\":{\"value\":0.2},\"line_color\":{\"value\":\"#30a2da\"},\"size\":{\"value\":5.477225575051661},\"x\":{\"field\":\"inclusion_number\"},\"y\":{\"field\":\"PSR-UR\"}},\"id\":\"1890\",\"type\":\"Scatter\"},{\"attributes\":{\"bottom_units\":\"screen\",\"coordinates\":null,\"fill_alpha\":0.5,\"fill_color\":\"lightgrey\",\"group\":null,\"left_units\":\"screen\",\"level\":\"overlay\",\"line_alpha\":1.0,\"line_color\":\"black\",\"line_dash\":[4,4],\"line_width\":2,\"right_units\":\"screen\",\"syncable\":false,\"top_units\":\"screen\"},\"id\":\"1877\",\"type\":\"BoxAnnotation\"},{\"attributes\":{\"end\":12.0,\"reset_end\":12.0,\"reset_start\":0.0,\"tags\":[[[\"inclusion_number\",\"inclusion_number\",null]]]},\"id\":\"1852\",\"type\":\"Range1d\"},{\"attributes\":{\"active_drag\":{\"id\":\"1873\"},\"active_scroll\":{\"id\":\"1874\"},\"tools\":[{\"id\":\"1854\"},{\"id\":\"1872\"},{\"id\":\"1873\"},{\"id\":\"1874\"},{\"id\":\"1875\"},{\"id\":\"1876\"}]},\"id\":\"1878\",\"type\":\"Toolbar\"},{\"attributes\":{},\"id\":\"1862\",\"type\":\"LinearScale\"},{\"attributes\":{},\"id\":\"1898\",\"type\":\"BasicTickFormatter\"},{\"attributes\":{\"children\":[{\"id\":\"1855\"}],\"height\":400,\"margin\":[0,0,0,0],\"name\":\"Row01968\",\"sizing_mode\":\"fixed\",\"tags\":[\"embedded\"],\"width\":400},\"id\":\"1851\",\"type\":\"Row\"},{\"attributes\":{},\"id\":\"1896\",\"type\":\"AllLabels\"},{\"attributes\":{},\"id\":\"1899\",\"type\":\"AllLabels\"},{\"attributes\":{},\"id\":\"1895\",\"type\":\"BasicTickFormatter\"},{\"attributes\":{\"callback\":null,\"renderers\":[{\"id\":\"1891\"}],\"tags\":[\"hv_created\"],\"tooltips\":[[\"inclusion_number\",\"@{inclusion_number}\"],[\"PSR-UR\",\"@{PSR_hyphen_minus_UR}\"]]},\"id\":\"1854\",\"type\":\"HoverTool\"},{\"attributes\":{\"end\":1.096,\"reset_end\":1.096,\"reset_start\":-0.056,\"start\":-0.056,\"tags\":[[[\"PSR-UR\",\"PSR-UR\",null]]]},\"id\":\"1853\",\"type\":\"Range1d\"}],\"root_ids\":[\"1851\"]},\"title\":\"Bokeh Application\",\"version\":\"2.4.3\"}};\n",
       "    var render_items = [{\"docid\":\"3b32d814-4cd0-42c0-a37a-a3bc3c1a0ca9\",\"root_ids\":[\"1851\"],\"roots\":{\"1851\":\"0985acdf-0367-46da-b21e-7b7038c51e48\"}}];\n",
       "    root.Bokeh.embed.embed_items_notebook(docs_json, render_items);\n",
       "    for (const render_item of render_items) {\n",
       "      for (const root_id of render_item.root_ids) {\n",
       "\tconst id_el = document.getElementById(root_id)\n",
       "\tif (id_el.children.length && (id_el.children[0].className === 'bk-root')) {\n",
       "\t  const root_el = id_el.children[0]\n",
       "\t  root_el.id = root_el.id + '-rendered'\n",
       "\t}\n",
       "      }\n",
       "    }\n",
       "  }\n",
       "  if (root.Bokeh !== undefined && root.Bokeh.Panel !== undefined) {\n",
       "    embed_document(root);\n",
       "  } else {\n",
       "    var attempts = 0;\n",
       "    var timer = setInterval(function(root) {\n",
       "      if (root.Bokeh !== undefined && root.Bokeh.Panel !== undefined) {\n",
       "        clearInterval(timer);\n",
       "        embed_document(root);\n",
       "      } else if (document.readyState == \"complete\") {\n",
       "        attempts++;\n",
       "        if (attempts > 200) {\n",
       "          clearInterval(timer);\n",
       "          console.log(\"Bokeh: ERROR: Unable to run BokehJS code because BokehJS library is missing\");\n",
       "        }\n",
       "      }\n",
       "    }, 25, root)\n",
       "  }\n",
       "})(window);</script>"
      ],
      "text/plain": [
       ":Scatter   [inclusion_number]   (PSR-UR)"
      ]
     },
     "execution_count": 77,
     "metadata": {
      "application/vnd.holoviews_exec.v0+json": {
       "id": "1851"
      }
     },
     "output_type": "execute_result"
    }
   ],
   "source": [
    "attr_list_psr.hvplot.scatter(x='inclusion_number', y='PSR-UR', height=400, width=400)"
   ]
  },
  {
   "cell_type": "code",
   "execution_count": 78,
   "id": "509f10da",
   "metadata": {},
   "outputs": [
    {
     "data": {
      "text/html": [
       "<div>\n",
       "<style scoped>\n",
       "    .dataframe tbody tr th:only-of-type {\n",
       "        vertical-align: middle;\n",
       "    }\n",
       "\n",
       "    .dataframe tbody tr th {\n",
       "        vertical-align: top;\n",
       "    }\n",
       "\n",
       "    .dataframe thead th {\n",
       "        text-align: right;\n",
       "    }\n",
       "</style>\n",
       "<table border=\"1\" class=\"dataframe\">\n",
       "  <thead>\n",
       "    <tr style=\"text-align: right;\">\n",
       "      <th></th>\n",
       "      <th>article_id</th>\n",
       "      <th>node_type</th>\n",
       "      <th>temporal_seq_rank</th>\n",
       "      <th>publication_year</th>\n",
       "      <th>inclusion_number</th>\n",
       "      <th>PSR-UR</th>\n",
       "    </tr>\n",
       "  </thead>\n",
       "  <tbody>\n",
       "    <tr>\n",
       "      <th>62</th>\n",
       "      <td>69</td>\n",
       "      <td>Primary Study Report</td>\n",
       "      <td>36.0</td>\n",
       "      <td>1997</td>\n",
       "      <td>11</td>\n",
       "      <td>0.41</td>\n",
       "    </tr>\n",
       "    <tr>\n",
       "      <th>101</th>\n",
       "      <td>112</td>\n",
       "      <td>Primary Study Report</td>\n",
       "      <td>74.0</td>\n",
       "      <td>2005</td>\n",
       "      <td>11</td>\n",
       "      <td>0.41</td>\n",
       "    </tr>\n",
       "  </tbody>\n",
       "</table>\n",
       "</div>"
      ],
      "text/plain": [
       "     article_id             node_type  temporal_seq_rank  publication_year  \\\n",
       "62           69  Primary Study Report               36.0              1997   \n",
       "101         112  Primary Study Report               74.0              2005   \n",
       "\n",
       "     inclusion_number  PSR-UR  \n",
       "62                 11    0.41  \n",
       "101                11    0.41  "
      ]
     },
     "execution_count": 78,
     "metadata": {},
     "output_type": "execute_result"
    }
   ],
   "source": [
    "attr_list_psr.loc[attr_list_psr['PSR-UR'] == 0.41]"
   ]
  }
 ],
 "metadata": {
  "kernelspec": {
   "display_name": "Python 3 (ipykernel)",
   "language": "python",
   "name": "python3"
  },
  "language_info": {
   "codemirror_mode": {
    "name": "ipython",
    "version": 3
   },
   "file_extension": ".py",
   "mimetype": "text/x-python",
   "name": "python",
   "nbconvert_exporter": "python",
   "pygments_lexer": "ipython3",
   "version": "3.9.16"
  }
 },
 "nbformat": 4,
 "nbformat_minor": 5
}
